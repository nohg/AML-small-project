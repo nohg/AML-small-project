{
 "cells": [
  {
   "cell_type": "markdown",
   "metadata": {},
   "source": [
    "# Reading the small project data into Python\n",
    "\n",
    "This file will show how to read the data from the files `train.h5` and `test.h5` into Python, for training.\n",
    "The files are available at:\n",
    "\n",
    "<https://www.nbi.dk/~petersen/Teaching/ML2020/SmallProject/train.h5>\n",
    "\n",
    "<https://www.nbi.dk/~petersen/Teaching/ML2020/SmallProject/test.h5>"
   ]
  },
  {
   "cell_type": "markdown",
   "metadata": {},
   "source": [
    "We start by opening the files and loading them into a Numpy array"
   ]
  },
  {
   "cell_type": "code",
   "execution_count": 156,
   "metadata": {},
   "outputs": [],
   "source": [
    "import h5py\n",
    "import pandas\n",
    "import matplotlib.pyplot as plt\n",
    "from copy import deepcopy\n",
    "import numpy as np\n",
    "from sklearn.preprocessing import RobustScaler\n",
    "from sklearn.ensemble import GradientBoostingClassifier\n",
    "from bayes_opt import BayesianOptimization\n",
    "from sklearn.model_selection import cross_val_score\n",
    "import shap"
   ]
  },
  {
   "cell_type": "code",
   "execution_count": 2,
   "metadata": {},
   "outputs": [],
   "source": [
    "def load_data(name):\n",
    "    with h5py.File(f'{name}.h5', 'r') as f:\n",
    "        return pandas.DataFrame(f[name][:])\n",
    "\n",
    "train = load_data('train')\n",
    "test  = load_data('test')"
   ]
  },
  {
   "cell_type": "markdown",
   "metadata": {},
   "source": [
    "Then we can verify the shape"
   ]
  },
  {
   "cell_type": "code",
   "execution_count": 3,
   "metadata": {},
   "outputs": [
    {
     "name": "stdout",
     "output_type": "stream",
     "text": [
      "Shape of training data set: (162500, 166)\n",
      "Shape of test data set: (160651, 164)\n"
     ]
    }
   ],
   "source": [
    "print (f'Shape of training data set: {train.shape}')\n",
    "print (f'Shape of test data set: {test.shape}')"
   ]
  },
  {
   "cell_type": "markdown",
   "metadata": {},
   "source": [
    "As expected, the test set contains 2 columns less: `Truth` and `p_truth_E`.\n",
    "    \n",
    "Then we copy the variable list from the course website <https://www.nbi.dk/~petersen/Teaching/ML2020/SmallProject/VariableList.html>"
   ]
  },
  {
   "cell_type": "code",
   "execution_count": 4,
   "metadata": {},
   "outputs": [],
   "source": [
    "all_variables = ['actualInteractionsPerCrossing', 'averageInteractionsPerCrossing', 'correctedActualMu', 'correctedAverageMu', 'correctedScaledActualMu', 'correctedScaledAverageMu', 'NvtxReco', 'p_nTracks', 'p_pt_track', 'p_eta', 'p_phi', 'p_charge', 'p_qOverP', 'p_z0', 'p_d0', 'p_sigmad0', 'p_d0Sig', 'p_EptRatio', 'p_dPOverP', 'p_z0theta', 'p_etaCluster', 'p_phiCluster', 'p_eCluster', 'p_rawEtaCluster', 'p_rawPhiCluster', 'p_rawECluster', 'p_eClusterLr0', 'p_eClusterLr1', 'p_eClusterLr2', 'p_eClusterLr3', 'p_etaClusterLr1', 'p_etaClusterLr2', 'p_phiClusterLr2', 'p_eAccCluster', 'p_f0Cluster', 'p_etaCalo', 'p_phiCalo', 'p_eTileGap3Cluster', 'p_cellIndexCluster', 'p_phiModCalo', 'p_etaModCalo', 'p_dPhiTH3', 'p_R12', 'p_fTG3', 'p_weta2', 'p_Reta', 'p_Rphi', 'p_Eratio', 'p_f1', 'p_f3', 'p_Rhad', 'p_Rhad1', 'p_deltaEta1', 'p_deltaPhiRescaled2', 'p_TRTPID', 'p_TRTTrackOccupancy', 'p_numberOfInnermostPixelHits', 'p_numberOfPixelHits', 'p_numberOfSCTHits', 'p_numberOfTRTHits', 'p_numberOfTRTXenonHits', 'p_chi2', 'p_ndof', 'p_SharedMuonTrack', 'p_E7x7_Lr2', 'p_E7x7_Lr3', 'p_E_Lr0_HiG', 'p_E_Lr0_LowG', 'p_E_Lr0_MedG', 'p_E_Lr1_HiG', 'p_E_Lr1_LowG', 'p_E_Lr1_MedG', 'p_E_Lr2_HiG', 'p_E_Lr2_LowG', 'p_E_Lr2_MedG', 'p_E_Lr3_HiG', 'p_E_Lr3_LowG', 'p_E_Lr3_MedG', 'p_ambiguityType', 'p_asy1', 'p_author', 'p_barys1', 'p_core57cellsEnergyCorrection', 'p_deltaEta0', 'p_deltaEta2', 'p_deltaEta3', 'p_deltaPhi0', 'p_deltaPhi1', 'p_deltaPhi2', 'p_deltaPhi3', 'p_deltaPhiFromLastMeasurement', 'p_deltaPhiRescaled0', 'p_deltaPhiRescaled1', 'p_deltaPhiRescaled3', 'p_e1152', 'p_e132', 'p_e235', 'p_e255', 'p_e2ts1', 'p_ecore', 'p_emins1', 'p_etconeCorrBitset', 'p_ethad', 'p_ethad1', 'p_f1core', 'p_f3core', 'p_maxEcell_energy', 'p_maxEcell_gain', 'p_maxEcell_time', 'p_maxEcell_x', 'p_maxEcell_y', 'p_maxEcell_z', 'p_nCells_Lr0_HiG', 'p_nCells_Lr0_LowG', 'p_nCells_Lr0_MedG', 'p_nCells_Lr1_HiG', 'p_nCells_Lr1_LowG', 'p_nCells_Lr1_MedG', 'p_nCells_Lr2_HiG', 'p_nCells_Lr2_LowG', 'p_nCells_Lr2_MedG', 'p_nCells_Lr3_HiG', 'p_nCells_Lr3_LowG', 'p_nCells_Lr3_MedG', 'p_pos', 'p_pos7', 'p_poscs1', 'p_poscs2', 'p_ptconeCorrBitset', 'p_ptconecoreTrackPtrCorrection', 'p_r33over37allcalo', 'p_topoetconeCorrBitset', 'p_topoetconecoreConeEnergyCorrection', 'p_topoetconecoreConeSCEnergyCorrection', 'p_weta1', 'p_widths1', 'p_widths2', 'p_wtots1', 'p_e233', 'p_e237', 'p_e277', 'p_e2tsts1', 'p_ehad1', 'p_emaxs1', 'p_fracs1', 'p_DeltaE', 'p_E3x5_Lr0', 'p_E3x5_Lr1', 'p_E3x5_Lr2', 'p_E3x5_Lr3', 'p_E5x7_Lr0', 'p_E5x7_Lr1', 'p_E5x7_Lr2', 'p_E5x7_Lr3', 'p_E7x11_Lr0', 'p_E7x11_Lr1', 'p_E7x11_Lr2', 'p_E7x11_Lr3', 'p_E7x7_Lr0', 'p_E7x7_Lr1' ]"
   ]
  },
  {
   "cell_type": "markdown",
   "metadata": {},
   "source": [
    "Finally, we divide the training data into data (`X`) and labels (`y`)"
   ]
  },
  {
   "cell_type": "code",
   "execution_count": 42,
   "metadata": {},
   "outputs": [
    {
     "name": "stdout",
     "output_type": "stream",
     "text": [
      "Shape of X: (162500, 160)\n",
      "Shape of X_test: (160651, 160)\n",
      "Shape of y: (162500,)\n"
     ]
    }
   ],
   "source": [
    "X = train[all_variables]\n",
    "X_test = test[all_variables]\n",
    "y = train['Truth']\n",
    "\n",
    "print (f'Shape of X: {X.shape}')\n",
    "print (f'Shape of X_test: {X_test.shape}')\n",
    "\n",
    "\n",
    "print (f'Shape of y: {y.shape}')"
   ]
  },
  {
   "cell_type": "code",
   "execution_count": 6,
   "metadata": {},
   "outputs": [
    {
     "data": {
      "text/html": [
       "<div>\n",
       "<style scoped>\n",
       "    .dataframe tbody tr th:only-of-type {\n",
       "        vertical-align: middle;\n",
       "    }\n",
       "\n",
       "    .dataframe tbody tr th {\n",
       "        vertical-align: top;\n",
       "    }\n",
       "\n",
       "    .dataframe thead th {\n",
       "        text-align: right;\n",
       "    }\n",
       "</style>\n",
       "<table border=\"1\" class=\"dataframe\">\n",
       "  <thead>\n",
       "    <tr style=\"text-align: right;\">\n",
       "      <th></th>\n",
       "      <th>actualInteractionsPerCrossing</th>\n",
       "      <th>averageInteractionsPerCrossing</th>\n",
       "      <th>correctedActualMu</th>\n",
       "      <th>correctedAverageMu</th>\n",
       "      <th>correctedScaledActualMu</th>\n",
       "      <th>correctedScaledAverageMu</th>\n",
       "      <th>NvtxReco</th>\n",
       "      <th>p_nTracks</th>\n",
       "      <th>p_pt_track</th>\n",
       "      <th>p_eta</th>\n",
       "      <th>...</th>\n",
       "      <th>p_E5x7_Lr0</th>\n",
       "      <th>p_E5x7_Lr1</th>\n",
       "      <th>p_E5x7_Lr2</th>\n",
       "      <th>p_E5x7_Lr3</th>\n",
       "      <th>p_E7x11_Lr0</th>\n",
       "      <th>p_E7x11_Lr1</th>\n",
       "      <th>p_E7x11_Lr2</th>\n",
       "      <th>p_E7x11_Lr3</th>\n",
       "      <th>p_E7x7_Lr0</th>\n",
       "      <th>p_E7x7_Lr1</th>\n",
       "    </tr>\n",
       "  </thead>\n",
       "  <tbody>\n",
       "    <tr>\n",
       "      <th>0</th>\n",
       "      <td>26.5</td>\n",
       "      <td>26.5</td>\n",
       "      <td>26.5</td>\n",
       "      <td>26.5</td>\n",
       "      <td>26.5</td>\n",
       "      <td>26.5</td>\n",
       "      <td>18</td>\n",
       "      <td>3</td>\n",
       "      <td>42011.792969</td>\n",
       "      <td>1.834715</td>\n",
       "      <td>...</td>\n",
       "      <td>215.588013</td>\n",
       "      <td>43402.332031</td>\n",
       "      <td>74045.820312</td>\n",
       "      <td>337.980713</td>\n",
       "      <td>273.708801</td>\n",
       "      <td>43091.683594</td>\n",
       "      <td>74447.539062</td>\n",
       "      <td>470.177124</td>\n",
       "      <td>273.708801</td>\n",
       "      <td>43091.683594</td>\n",
       "    </tr>\n",
       "  </tbody>\n",
       "</table>\n",
       "<p>1 rows × 160 columns</p>\n",
       "</div>"
      ],
      "text/plain": [
       "   actualInteractionsPerCrossing  averageInteractionsPerCrossing  \\\n",
       "0                           26.5                            26.5   \n",
       "\n",
       "   correctedActualMu  correctedAverageMu  correctedScaledActualMu  \\\n",
       "0               26.5                26.5                     26.5   \n",
       "\n",
       "   correctedScaledAverageMu  NvtxReco  p_nTracks    p_pt_track     p_eta  ...  \\\n",
       "0                      26.5        18          3  42011.792969  1.834715  ...   \n",
       "\n",
       "   p_E5x7_Lr0    p_E5x7_Lr1    p_E5x7_Lr2  p_E5x7_Lr3  p_E7x11_Lr0  \\\n",
       "0  215.588013  43402.332031  74045.820312  337.980713   273.708801   \n",
       "\n",
       "    p_E7x11_Lr1   p_E7x11_Lr2  p_E7x11_Lr3  p_E7x7_Lr0    p_E7x7_Lr1  \n",
       "0  43091.683594  74447.539062   470.177124  273.708801  43091.683594  \n",
       "\n",
       "[1 rows x 160 columns]"
      ]
     },
     "execution_count": 6,
     "metadata": {},
     "output_type": "execute_result"
    }
   ],
   "source": [
    "X.head(1)"
   ]
  },
  {
   "cell_type": "code",
   "execution_count": 7,
   "metadata": {},
   "outputs": [],
   "source": [
    "target_count = y.value_counts()"
   ]
  },
  {
   "cell_type": "code",
   "execution_count": 8,
   "metadata": {},
   "outputs": [
    {
     "name": "stdout",
     "output_type": "stream",
     "text": [
      "Proportion: 2.96 : 1\n"
     ]
    },
    {
     "data": {
      "image/png": "[encoded data removed]",
      "text/plain": [
       "<Figure size 432x288 with 1 Axes>"
      ]
     },
     "metadata": {
      "needs_background": "light"
     },
     "output_type": "display_data"
    }
   ],
   "source": [
    "print('Proportion:', round(target_count[1] / target_count[0], 2), ': 1')\n",
    "\n",
    "target_count.plot(kind='bar', title='Count (target)');"
   ]
  },
  {
   "cell_type": "markdown",
   "metadata": {},
   "source": [
    "## Preprocessing"
   ]
  },
  {
   "cell_type": "markdown",
   "metadata": {},
   "source": [
    "### Check null values"
   ]
  },
  {
   "cell_type": "code",
   "execution_count": 9,
   "metadata": {},
   "outputs": [
    {
     "data": {
      "text/plain": [
       "eventNumber                       0\n",
       "runNumber                         0\n",
       "actualInteractionsPerCrossing     0\n",
       "averageInteractionsPerCrossing    0\n",
       "correctedActualMu                 0\n",
       "                                 ..\n",
       "p_E7x11_Lr2                       0\n",
       "p_E7x11_Lr3                       0\n",
       "p_E7x7_Lr0                        0\n",
       "p_E7x7_Lr1                        0\n",
       "index                             0\n",
       "Length: 166, dtype: int64"
      ]
     },
     "execution_count": 9,
     "metadata": {},
     "output_type": "execute_result"
    }
   ],
   "source": [
    "train.isnull().sum()"
   ]
  },
  {
   "cell_type": "markdown",
   "metadata": {},
   "source": [
    "No nulls\n",
    "### Scale the data"
   ]
  },
  {
   "cell_type": "code",
   "execution_count": 44,
   "metadata": {},
   "outputs": [],
   "source": [
    "transformed_X = deepcopy(X) \n",
    "transformed_X_test = deepcopy(X_test)\n",
    "# This loop transforms every variable _independently_ \n",
    "for variable in X.columns: \n",
    "    scaler = RobustScaler().fit(np.array(transformed_X[variable]).reshape(-1,1))\n",
    "    transformed_X[variable] = scaler.transform(np.array(transformed_X[variable]).reshape(-1,1))\n",
    "    transformed_X_test[variable] = scaler.transform(np.array(transformed_X_test[variable]).reshape(-1,1))"
   ]
  },
  {
   "cell_type": "markdown",
   "metadata": {},
   "source": [
    "### Select k Best features"
   ]
  },
  {
   "cell_type": "code",
   "execution_count": 11,
   "metadata": {},
   "outputs": [],
   "source": [
    "from sklearn.feature_selection import SelectKBest, f_regression, f_classif"
   ]
  },
  {
   "cell_type": "code",
   "execution_count": 152,
   "metadata": {},
   "outputs": [
    {
     "name": "stderr",
     "output_type": "stream",
     "text": [
      "Features [ 67  73  76 101 113 119 122 128 131 136] are constant.\n",
      "invalid value encountered in true_divide\n"
     ]
    },
    {
     "data": {
      "text/plain": [
       "Index(['correctedScaledAverageMu', 'p_eClusterLr0', 'p_dPhiTH3', 'p_R12',\n",
       "       'p_fTG3', 'p_weta2', 'p_Rphi', 'p_Eratio', 'p_f1', 'p_ndof',\n",
       "       'p_E_Lr1_LowG', 'p_E_Lr3_HiG', 'p_deltaPhiRescaled3', 'p_e132',\n",
       "       'p_e255', 'p_e2ts1', 'p_emins1', 'p_pos7', 'p_widths2', 'p_wtots1',\n",
       "       'p_e237', 'p_e277', 'p_fracs1', 'p_E3x5_Lr2', 'p_E5x7_Lr2'],\n",
       "      dtype='object')"
      ]
     },
     "execution_count": 152,
     "metadata": {},
     "output_type": "execute_result"
    }
   ],
   "source": [
    "# Create and fit selector\n",
    "selector = SelectKBest(score_func=f_classif, k=25)\n",
    "X_25 = selector.fit_transform(transformed_X, y)\n",
    "# Get columns to keep and create new dataframe with those only\n",
    "cols = selector.get_support(indices=True)\n",
    "features_df_new = train.iloc[:,cols]\n",
    "features_df_new.columns"
   ]
  },
  {
   "cell_type": "markdown",
   "metadata": {},
   "source": [
    "## Bayesian optimisation of hyperparameters and cross validation"
   ]
  },
  {
   "cell_type": "code",
   "execution_count": 13,
   "metadata": {
    "jupyter": {
     "source_hidden": true
    }
   },
   "outputs": [],
   "source": [
    "# def GBC_CrossValidation(n_estimators, learning_rate, max_depth, data, targets):\n",
    "#     \"\"\"Decision Tree cross validation.\n",
    "#        Fits a Decision Tree with the given paramaters to the target \n",
    "#        given data, calculated a CV accuracy score and returns the mean.\n",
    "#        The goal is to find combinations\n",
    "#        that maximize the accuracy\n",
    "#     \"\"\"\n",
    "    \n",
    "#     estimator = GradientBoostingClassifier(n_estimators=n_estimators, learning_rate=learning_rate, \n",
    "#                                  max_depth=max_depth, random_state=0)\n",
    "    \n",
    "#     cval = cross_val_score(estimator, data, targets, scoring='accuracy', cv=5)\n",
    "    \n",
    "#     return cval.mean()"
   ]
  },
  {
   "cell_type": "code",
   "execution_count": 14,
   "metadata": {
    "jupyter": {
     "source_hidden": true
    }
   },
   "outputs": [],
   "source": [
    "# def optimize_GBC(data, targets, pars, n_iter=5):\n",
    "#     \"\"\"Apply Bayesian Optimization to Decision Tree parameters.\"\"\"\n",
    "    \n",
    "#     def crossval_wrapper(n_estimators, learning_rate, max_depth):\n",
    "#         \"\"\"Wrapper of Decision Tree cross validation. \n",
    "#            max_depth and n_estimators\n",
    "#            are cast to integer before we pass them along.\n",
    "#         \"\"\"\n",
    "#         return GBC_CrossValidation(n_estimators=int(n_estimators), \n",
    "#                                             learning_rate=learning_rate, \n",
    "#                                             max_depth=int(max_depth),\n",
    "#                                             data=data, \n",
    "#                                             targets=targets)\n",
    "\n",
    "#     optimizer = BayesianOptimization(f=crossval_wrapper, \n",
    "#                                      pbounds=pars, \n",
    "#                                      random_state=42, \n",
    "#                                      verbose=100)\n",
    "#     optimizer.maximize(init_points=4, n_iter=n_iter)\n",
    "\n",
    "#     return optimizer"
   ]
  },
  {
   "cell_type": "code",
   "execution_count": 15,
   "metadata": {
    "jupyter": {
     "source_hidden": true
    }
   },
   "outputs": [],
   "source": [
    "# parameters_BayesianOptimization = {\"learning_rate\": (0.0001, 1), \n",
    "#                                    \"max_depth\": (1, 5),\n",
    "#                                    \"n_estimators\": (50,500)\n",
    "#                                   }\n",
    "\n",
    "# BayesianOptimization = optimize_GBC(X_25, \n",
    "#                                              y, \n",
    "#                                              parameters_BayesianOptimization, \n",
    "#                                              n_iter=5)\n",
    "# print(BayesianOptimization.max)"
   ]
  },
  {
   "cell_type": "markdown",
   "metadata": {},
   "source": [
    "Cross-validation on result:"
   ]
  },
  {
   "cell_type": "code",
   "execution_count": 16,
   "metadata": {
    "jupyter": {
     "source_hidden": true
    }
   },
   "outputs": [],
   "source": [
    "# gbc = GradientBoostingClassifier(n_estimators=int(BayesianOptimization.max['params']['n_estimators']), \n",
    "#                                  learning_rate=BayesianOptimization.max['params']['learning_rate'], \n",
    "#                                  max_depth=BayesianOptimization.max['params']['max_depth'], \n",
    "#                                  random_state=0)\n",
    "# scores = cross_val_score(gbc, X_25, y, cv=5, scoring='f1') \n",
    "# print(f\"{scores.mean():.4f} accuracy with a standard deviation of {scores.std():.4f}\")"
   ]
  },
  {
   "cell_type": "markdown",
   "metadata": {},
   "source": [
    "## LightGBM"
   ]
  },
  {
   "cell_type": "code",
   "execution_count": 35,
   "metadata": {},
   "outputs": [
    {
     "name": "stdout",
     "output_type": "stream",
     "text": [
      "Accuracy: 0.945 (0.002)\n"
     ]
    },
    {
     "data": {
      "text/plain": [
       "LGBMClassifier()"
      ]
     },
     "execution_count": 35,
     "metadata": {},
     "output_type": "execute_result"
    }
   ],
   "source": [
    "import lightgbm as lgb\n",
    "from lightgbm import LGBMClassifier\n",
    "from sklearn.model_selection import RepeatedStratifiedKFold\n",
    "\n",
    "data_train = lgb.Dataset(X_25, label=y)\n",
    "params = {'objective': 'binary',\n",
    "          'boosting_type': 'gbdt',\n",
    "          'metric': 'binary_logloss',\n",
    "          'learning_rate': 0.01,\n",
    "          'num_leaves': 10,\n",
    "          'max_depth': 10,\n",
    "          'min_data': 10,\n",
    "          'verbose': 0,\n",
    "          'force_col_wise': True}\n",
    "\n",
    "#lgb_clf = lgb.train(params, train_set=data_train, num_boost_round=300)\n",
    "#lgb.cv(params, data_train, num_boost_round=300, nfold=5)\n",
    "\n",
    "\n",
    "# y_pred = np.around(lgb_clf.predict(test_X))\n",
    "# acc = accuracy_score(y_pred, test_y)\n",
    "# print(f\"Train accuracy: {acc*100.0:.2f}%\")\n",
    "\n",
    "# evaluate the model\n",
    "\n",
    "model = LGBMClassifier()\n",
    "cv = RepeatedStratifiedKFold(n_splits=10, n_repeats=3, random_state=1)\n",
    "n_scores = cross_val_score(model, X, y, scoring='accuracy', cv=cv, n_jobs=-1, error_score='raise')\n",
    "print('Accuracy: %.3f (%.3f)' % (np.mean(n_scores), np.std(n_scores)))\n",
    "# fit the model on the whole dataset\n",
    "model.fit(X, y)\n"
   ]
  },
  {
   "cell_type": "code",
   "execution_count": 36,
   "metadata": {},
   "outputs": [
    {
     "name": "stderr",
     "output_type": "stream",
     "text": [
      "\u001b[32m[I 2021-05-22 18:47:47,100]\u001b[0m A new study created in memory with name: no-name-4657967a-ea39-4222-9bcc-232a22b4cd09\u001b[0m\n"
     ]
    }
   ],
   "source": [
    "import optuna\n",
    "from optuna.samplers import TPESampler\n",
    "from optuna.integration import LightGBMPruningCallback\n",
    "from optuna.pruners import MedianPruner\n",
    "import lightgbm as lgb\n",
    "\n",
    "#%%\n",
    "\n",
    "lgb_data_train = lgb.Dataset(X_25, label=y)\n",
    "\n",
    "\n",
    "#%%\n",
    "\n",
    "\n",
    "def objective(trial):\n",
    "\n",
    "    boosting_types = [\"gbdt\", \"rf\", \"dart\"]\n",
    "    boosting_type = trial.suggest_categorical(\"boosting_type\", boosting_types)\n",
    "\n",
    "    params = {\n",
    "        \"objective\": \"binary\",\n",
    "        \"boosting\": boosting_type,\n",
    "        \"max_depth\": trial.suggest_int(\"max_depth\", 2, 63),\n",
    "        \"min_child_weight\": trial.suggest_loguniform(\"min_child_weight\", 1e-5, 10),\n",
    "        \"scale_pos_weight\": trial.suggest_uniform(\"scale_pos_weight\", 10.0, 30.0),\n",
    "    }\n",
    "\n",
    "    N_iterations_max = 10_000\n",
    "    early_stopping_rounds = 50\n",
    "\n",
    "    if boosting_type == \"dart\":\n",
    "        N_iterations_max = 100\n",
    "        early_stopping_rounds = None\n",
    "\n",
    "    cv_res = lgb.cv(\n",
    "        params,\n",
    "        lgb_data_train,\n",
    "        num_boost_round=N_iterations_max,\n",
    "        early_stopping_rounds=early_stopping_rounds,\n",
    "        verbose_eval=False,\n",
    "        seed=42,\n",
    "        callbacks=[LightGBMPruningCallback(trial, \"auc\")],\n",
    "    )\n",
    "\n",
    "    num_boost_round = len(cv_res[\"auc-mean\"])\n",
    "    trial.set_user_attr(\"num_boost_round\", num_boost_round)\n",
    "    return cv_res[\"auc-mean\"][-1]\n",
    "\n",
    "\n",
    "#%%\n",
    "\n",
    "study = optuna.create_study(\n",
    "    direction=\"maximize\",\n",
    "    sampler=TPESampler(seed=42),\n",
    "    pruner=MedianPruner(n_warmup_steps=50),\n",
    ")\n",
    "\n"
   ]
  },
  {
   "cell_type": "code",
   "execution_count": 37,
   "metadata": {},
   "outputs": [
    {
     "name": "stderr",
     "output_type": "stream",
     "text": [
      "/Users/niallgray/opt/miniconda3/envs/aml/lib/python3.8/site-packages/optuna/progress_bar.py:47: ExperimentalWarning: Progress bar is experimental (supported from v1.2.0). The interface can change in the future.\n",
      "  self._init_valid()\n"
     ]
    },
    {
     "data": {
      "application/vnd.jupyter.widget-view+json": {
       "model_id": "78b8dad648ca437ea3303d599cb02cac",
       "version_major": 2,
       "version_minor": 0
      },
      "text/plain": [
       "  0%|          | 0/100 [00:00<?, ?it/s]"
      ]
     },
     "metadata": {},
     "output_type": "display_data"
    },
    {
     "name": "stdout",
     "output_type": "stream",
     "text": [
      "[LightGBM] [Warning] Accuracy may be bad since you didn't explicitly set num_leaves OR 2^max_depth > num_leaves. (num_leaves=31).\n"
     ]
    },
    {
     "name": "stderr",
     "output_type": "stream",
     "text": [
      "\n",
      "\n",
      "\n",
      "\u001b[A\u001b[A\u001b[A                                                                           \n",
      "\n",
      "\n",
      "feature_fraction, val_score: 0.200055:  14%|#4        | 1/7 [78:35:32<00:50,  8.44s/it]\u001b[A\u001b[A\u001b[A"
     ]
    },
    {
     "name": "stdout",
     "output_type": "stream",
     "text": [
      "[LightGBM] [Warning] Accuracy may be bad since you didn't explicitly set num_leaves OR 2^max_depth > num_leaves. (num_leaves=31).\n",
      "[LightGBM] [Warning] Accuracy may be bad since you didn't explicitly set num_leaves OR 2^max_depth > num_leaves. (num_leaves=31).\n",
      "[LightGBM] [Info] Number of positive: 97196, number of negative: 32804\n",
      "\u001b[33m[W 2021-05-22 18:49:02,999]\u001b[0m Trial 0 failed because of the following error: LightGBMError('Check failed: config->bagging_freq > 0 && config->bagging_fraction < 1.0f && config->bagging_fraction > 0.0f at /tmp/pip-req-build-12fs9jsp/compile/src/boosting/rf.hpp, line 35 .\\n')\n",
      "Traceback (most recent call last):\n",
      "  File \"/Users/niallgray/opt/miniconda3/envs/aml/lib/python3.8/site-packages/optuna/_optimize.py\", line 217, in _run_trial\n",
      "    value_or_values = func(trial)\n",
      "  File \"<ipython-input-36-205b099d44e5>\", line 35, in objective\n",
      "    cv_res = lgb.cv(\n",
      "  File \"/Users/niallgray/opt/miniconda3/envs/aml/lib/python3.8/site-packages/lightgbm/engine.py\", line 557, in cv\n",
      "    cvfolds = _make_n_folds(train_set, folds=folds, nfold=nfold,\n",
      "  File \"/Users/niallgray/opt/miniconda3/envs/aml/lib/python3.8/site-packages/lightgbm/engine.py\", line 367, in _make_n_folds\n",
      "    cvbooster = Booster(tparam, train_set)\n",
      "  File \"/Users/niallgray/opt/miniconda3/envs/aml/lib/python3.8/site-packages/lightgbm/basic.py\", line 2234, in __init__\n",
      "    _safe_call(_LIB.LGBM_BoosterCreate(\n",
      "  File \"/Users/niallgray/opt/miniconda3/envs/aml/lib/python3.8/site-packages/lightgbm/basic.py\", line 110, in _safe_call\n",
      "    raise LightGBMError(_LIB.LGBM_GetLastError().decode('utf-8'))\n",
      "lightgbm.basic.LightGBMError: Check failed: config->bagging_freq > 0 && config->bagging_fraction < 1.0f && config->bagging_fraction > 0.0f at /tmp/pip-req-build-12fs9jsp/compile/src/boosting/rf.hpp, line 35 .\n",
      "\u001b[0m\n"
     ]
    },
    {
     "ename": "LightGBMError",
     "evalue": "Check failed: config->bagging_freq > 0 && config->bagging_fraction < 1.0f && config->bagging_fraction > 0.0f at /tmp/pip-req-build-12fs9jsp/compile/src/boosting/rf.hpp, line 35 .\n",
     "output_type": "error",
     "traceback": [
      "\u001b[0;31m---------------------------------------------------------------------------\u001b[0m",
      "\u001b[0;31mLightGBMError\u001b[0m                             Traceback (most recent call last)",
      "\u001b[0;32m<ipython-input-37-b2f2701dc7e7>\u001b[0m in \u001b[0;36m<module>\u001b[0;34m\u001b[0m\n\u001b[0;32m----> 1\u001b[0;31m \u001b[0mstudy\u001b[0m\u001b[0;34m.\u001b[0m\u001b[0moptimize\u001b[0m\u001b[0;34m(\u001b[0m\u001b[0mobjective\u001b[0m\u001b[0;34m,\u001b[0m \u001b[0mn_trials\u001b[0m\u001b[0;34m=\u001b[0m\u001b[0;36m100\u001b[0m\u001b[0;34m,\u001b[0m \u001b[0mshow_progress_bar\u001b[0m\u001b[0;34m=\u001b[0m\u001b[0;32mTrue\u001b[0m\u001b[0;34m)\u001b[0m\u001b[0;34m\u001b[0m\u001b[0;34m\u001b[0m\u001b[0m\n\u001b[0m",
      "\u001b[0;32m~/opt/miniconda3/envs/aml/lib/python3.8/site-packages/optuna/study.py\u001b[0m in \u001b[0;36moptimize\u001b[0;34m(self, func, n_trials, timeout, n_jobs, catch, callbacks, gc_after_trial, show_progress_bar)\u001b[0m\n\u001b[1;32m    398\u001b[0m             )\n\u001b[1;32m    399\u001b[0m \u001b[0;34m\u001b[0m\u001b[0m\n\u001b[0;32m--> 400\u001b[0;31m         _optimize(\n\u001b[0m\u001b[1;32m    401\u001b[0m             \u001b[0mstudy\u001b[0m\u001b[0;34m=\u001b[0m\u001b[0mself\u001b[0m\u001b[0;34m,\u001b[0m\u001b[0;34m\u001b[0m\u001b[0;34m\u001b[0m\u001b[0m\n\u001b[1;32m    402\u001b[0m             \u001b[0mfunc\u001b[0m\u001b[0;34m=\u001b[0m\u001b[0mfunc\u001b[0m\u001b[0;34m,\u001b[0m\u001b[0;34m\u001b[0m\u001b[0;34m\u001b[0m\u001b[0m\n",
      "\u001b[0;32m~/opt/miniconda3/envs/aml/lib/python3.8/site-packages/optuna/_optimize.py\u001b[0m in \u001b[0;36m_optimize\u001b[0;34m(study, func, n_trials, timeout, n_jobs, catch, callbacks, gc_after_trial, show_progress_bar)\u001b[0m\n\u001b[1;32m     64\u001b[0m     \u001b[0;32mtry\u001b[0m\u001b[0;34m:\u001b[0m\u001b[0;34m\u001b[0m\u001b[0;34m\u001b[0m\u001b[0m\n\u001b[1;32m     65\u001b[0m         \u001b[0;32mif\u001b[0m \u001b[0mn_jobs\u001b[0m \u001b[0;34m==\u001b[0m \u001b[0;36m1\u001b[0m\u001b[0;34m:\u001b[0m\u001b[0;34m\u001b[0m\u001b[0;34m\u001b[0m\u001b[0m\n\u001b[0;32m---> 66\u001b[0;31m             _optimize_sequential(\n\u001b[0m\u001b[1;32m     67\u001b[0m                 \u001b[0mstudy\u001b[0m\u001b[0;34m,\u001b[0m\u001b[0;34m\u001b[0m\u001b[0;34m\u001b[0m\u001b[0m\n\u001b[1;32m     68\u001b[0m                 \u001b[0mfunc\u001b[0m\u001b[0;34m,\u001b[0m\u001b[0;34m\u001b[0m\u001b[0;34m\u001b[0m\u001b[0m\n",
      "\u001b[0;32m~/opt/miniconda3/envs/aml/lib/python3.8/site-packages/optuna/_optimize.py\u001b[0m in \u001b[0;36m_optimize_sequential\u001b[0;34m(study, func, n_trials, timeout, catch, callbacks, gc_after_trial, reseed_sampler_rng, time_start, progress_bar)\u001b[0m\n\u001b[1;32m    161\u001b[0m \u001b[0;34m\u001b[0m\u001b[0m\n\u001b[1;32m    162\u001b[0m         \u001b[0;32mtry\u001b[0m\u001b[0;34m:\u001b[0m\u001b[0;34m\u001b[0m\u001b[0;34m\u001b[0m\u001b[0m\n\u001b[0;32m--> 163\u001b[0;31m             \u001b[0mtrial\u001b[0m \u001b[0;34m=\u001b[0m \u001b[0m_run_trial\u001b[0m\u001b[0;34m(\u001b[0m\u001b[0mstudy\u001b[0m\u001b[0;34m,\u001b[0m \u001b[0mfunc\u001b[0m\u001b[0;34m,\u001b[0m \u001b[0mcatch\u001b[0m\u001b[0;34m)\u001b[0m\u001b[0;34m\u001b[0m\u001b[0;34m\u001b[0m\u001b[0m\n\u001b[0m\u001b[1;32m    164\u001b[0m         \u001b[0;32mexcept\u001b[0m \u001b[0mException\u001b[0m\u001b[0;34m:\u001b[0m\u001b[0;34m\u001b[0m\u001b[0;34m\u001b[0m\u001b[0m\n\u001b[1;32m    165\u001b[0m             \u001b[0;32mraise\u001b[0m\u001b[0;34m\u001b[0m\u001b[0;34m\u001b[0m\u001b[0m\n",
      "\u001b[0;32m~/opt/miniconda3/envs/aml/lib/python3.8/site-packages/optuna/_optimize.py\u001b[0m in \u001b[0;36m_run_trial\u001b[0;34m(study, func, catch)\u001b[0m\n\u001b[1;32m    266\u001b[0m \u001b[0;34m\u001b[0m\u001b[0m\n\u001b[1;32m    267\u001b[0m     \u001b[0;32mif\u001b[0m \u001b[0mstate\u001b[0m \u001b[0;34m==\u001b[0m \u001b[0mTrialState\u001b[0m\u001b[0;34m.\u001b[0m\u001b[0mFAIL\u001b[0m \u001b[0;32mand\u001b[0m \u001b[0mfunc_err\u001b[0m \u001b[0;32mis\u001b[0m \u001b[0;32mnot\u001b[0m \u001b[0;32mNone\u001b[0m \u001b[0;32mand\u001b[0m \u001b[0;32mnot\u001b[0m \u001b[0misinstance\u001b[0m\u001b[0;34m(\u001b[0m\u001b[0mfunc_err\u001b[0m\u001b[0;34m,\u001b[0m \u001b[0mcatch\u001b[0m\u001b[0;34m)\u001b[0m\u001b[0;34m:\u001b[0m\u001b[0;34m\u001b[0m\u001b[0;34m\u001b[0m\u001b[0m\n\u001b[0;32m--> 268\u001b[0;31m         \u001b[0;32mraise\u001b[0m \u001b[0mfunc_err\u001b[0m\u001b[0;34m\u001b[0m\u001b[0;34m\u001b[0m\u001b[0m\n\u001b[0m\u001b[1;32m    269\u001b[0m     \u001b[0;32mreturn\u001b[0m \u001b[0mtrial\u001b[0m\u001b[0;34m\u001b[0m\u001b[0;34m\u001b[0m\u001b[0m\n\u001b[1;32m    270\u001b[0m \u001b[0;34m\u001b[0m\u001b[0m\n",
      "\u001b[0;32m~/opt/miniconda3/envs/aml/lib/python3.8/site-packages/optuna/_optimize.py\u001b[0m in \u001b[0;36m_run_trial\u001b[0;34m(study, func, catch)\u001b[0m\n\u001b[1;32m    215\u001b[0m \u001b[0;34m\u001b[0m\u001b[0m\n\u001b[1;32m    216\u001b[0m     \u001b[0;32mtry\u001b[0m\u001b[0;34m:\u001b[0m\u001b[0;34m\u001b[0m\u001b[0;34m\u001b[0m\u001b[0m\n\u001b[0;32m--> 217\u001b[0;31m         \u001b[0mvalue_or_values\u001b[0m \u001b[0;34m=\u001b[0m \u001b[0mfunc\u001b[0m\u001b[0;34m(\u001b[0m\u001b[0mtrial\u001b[0m\u001b[0;34m)\u001b[0m\u001b[0;34m\u001b[0m\u001b[0;34m\u001b[0m\u001b[0m\n\u001b[0m\u001b[1;32m    218\u001b[0m     \u001b[0;32mexcept\u001b[0m \u001b[0mexceptions\u001b[0m\u001b[0;34m.\u001b[0m\u001b[0mTrialPruned\u001b[0m \u001b[0;32mas\u001b[0m \u001b[0me\u001b[0m\u001b[0;34m:\u001b[0m\u001b[0;34m\u001b[0m\u001b[0;34m\u001b[0m\u001b[0m\n\u001b[1;32m    219\u001b[0m         \u001b[0;31m# TODO(mamu): Handle multi-objective cases.\u001b[0m\u001b[0;34m\u001b[0m\u001b[0;34m\u001b[0m\u001b[0;34m\u001b[0m\u001b[0m\n",
      "\u001b[0;32m<ipython-input-36-205b099d44e5>\u001b[0m in \u001b[0;36mobjective\u001b[0;34m(trial)\u001b[0m\n\u001b[1;32m     33\u001b[0m         \u001b[0mearly_stopping_rounds\u001b[0m \u001b[0;34m=\u001b[0m \u001b[0;32mNone\u001b[0m\u001b[0;34m\u001b[0m\u001b[0;34m\u001b[0m\u001b[0m\n\u001b[1;32m     34\u001b[0m \u001b[0;34m\u001b[0m\u001b[0m\n\u001b[0;32m---> 35\u001b[0;31m     cv_res = lgb.cv(\n\u001b[0m\u001b[1;32m     36\u001b[0m         \u001b[0mparams\u001b[0m\u001b[0;34m,\u001b[0m\u001b[0;34m\u001b[0m\u001b[0;34m\u001b[0m\u001b[0m\n\u001b[1;32m     37\u001b[0m         \u001b[0mlgb_data_train\u001b[0m\u001b[0;34m,\u001b[0m\u001b[0;34m\u001b[0m\u001b[0;34m\u001b[0m\u001b[0m\n",
      "\u001b[0;32m~/opt/miniconda3/envs/aml/lib/python3.8/site-packages/lightgbm/engine.py\u001b[0m in \u001b[0;36mcv\u001b[0;34m(params, train_set, num_boost_round, folds, nfold, stratified, shuffle, metrics, fobj, feval, init_model, feature_name, categorical_feature, early_stopping_rounds, fpreproc, verbose_eval, show_stdv, seed, callbacks, eval_train_metric, return_cvbooster)\u001b[0m\n\u001b[1;32m    555\u001b[0m \u001b[0;34m\u001b[0m\u001b[0m\n\u001b[1;32m    556\u001b[0m     \u001b[0mresults\u001b[0m \u001b[0;34m=\u001b[0m \u001b[0mcollections\u001b[0m\u001b[0;34m.\u001b[0m\u001b[0mdefaultdict\u001b[0m\u001b[0;34m(\u001b[0m\u001b[0mlist\u001b[0m\u001b[0;34m)\u001b[0m\u001b[0;34m\u001b[0m\u001b[0;34m\u001b[0m\u001b[0m\n\u001b[0;32m--> 557\u001b[0;31m     cvfolds = _make_n_folds(train_set, folds=folds, nfold=nfold,\n\u001b[0m\u001b[1;32m    558\u001b[0m                             \u001b[0mparams\u001b[0m\u001b[0;34m=\u001b[0m\u001b[0mparams\u001b[0m\u001b[0;34m,\u001b[0m \u001b[0mseed\u001b[0m\u001b[0;34m=\u001b[0m\u001b[0mseed\u001b[0m\u001b[0;34m,\u001b[0m \u001b[0mfpreproc\u001b[0m\u001b[0;34m=\u001b[0m\u001b[0mfpreproc\u001b[0m\u001b[0;34m,\u001b[0m\u001b[0;34m\u001b[0m\u001b[0;34m\u001b[0m\u001b[0m\n\u001b[1;32m    559\u001b[0m                             \u001b[0mstratified\u001b[0m\u001b[0;34m=\u001b[0m\u001b[0mstratified\u001b[0m\u001b[0;34m,\u001b[0m \u001b[0mshuffle\u001b[0m\u001b[0;34m=\u001b[0m\u001b[0mshuffle\u001b[0m\u001b[0;34m,\u001b[0m\u001b[0;34m\u001b[0m\u001b[0;34m\u001b[0m\u001b[0m\n",
      "\u001b[0;32m~/opt/miniconda3/envs/aml/lib/python3.8/site-packages/lightgbm/engine.py\u001b[0m in \u001b[0;36m_make_n_folds\u001b[0;34m(full_data, folds, nfold, params, seed, fpreproc, stratified, shuffle, eval_train_metric)\u001b[0m\n\u001b[1;32m    365\u001b[0m         \u001b[0;32melse\u001b[0m\u001b[0;34m:\u001b[0m\u001b[0;34m\u001b[0m\u001b[0;34m\u001b[0m\u001b[0m\n\u001b[1;32m    366\u001b[0m             \u001b[0mtparam\u001b[0m \u001b[0;34m=\u001b[0m \u001b[0mparams\u001b[0m\u001b[0;34m\u001b[0m\u001b[0;34m\u001b[0m\u001b[0m\n\u001b[0;32m--> 367\u001b[0;31m         \u001b[0mcvbooster\u001b[0m \u001b[0;34m=\u001b[0m \u001b[0mBooster\u001b[0m\u001b[0;34m(\u001b[0m\u001b[0mtparam\u001b[0m\u001b[0;34m,\u001b[0m \u001b[0mtrain_set\u001b[0m\u001b[0;34m)\u001b[0m\u001b[0;34m\u001b[0m\u001b[0;34m\u001b[0m\u001b[0m\n\u001b[0m\u001b[1;32m    368\u001b[0m         \u001b[0;32mif\u001b[0m \u001b[0meval_train_metric\u001b[0m\u001b[0;34m:\u001b[0m\u001b[0;34m\u001b[0m\u001b[0;34m\u001b[0m\u001b[0m\n\u001b[1;32m    369\u001b[0m             \u001b[0mcvbooster\u001b[0m\u001b[0;34m.\u001b[0m\u001b[0madd_valid\u001b[0m\u001b[0;34m(\u001b[0m\u001b[0mtrain_set\u001b[0m\u001b[0;34m,\u001b[0m \u001b[0;34m'train'\u001b[0m\u001b[0;34m)\u001b[0m\u001b[0;34m\u001b[0m\u001b[0;34m\u001b[0m\u001b[0m\n",
      "\u001b[0;32m~/opt/miniconda3/envs/aml/lib/python3.8/site-packages/lightgbm/basic.py\u001b[0m in \u001b[0;36m__init__\u001b[0;34m(self, params, train_set, model_file, model_str, silent)\u001b[0m\n\u001b[1;32m   2232\u001b[0m             \u001b[0mparams_str\u001b[0m \u001b[0;34m=\u001b[0m \u001b[0mparam_dict_to_str\u001b[0m\u001b[0;34m(\u001b[0m\u001b[0mparams\u001b[0m\u001b[0;34m)\u001b[0m\u001b[0;34m\u001b[0m\u001b[0;34m\u001b[0m\u001b[0m\n\u001b[1;32m   2233\u001b[0m             \u001b[0mself\u001b[0m\u001b[0;34m.\u001b[0m\u001b[0mhandle\u001b[0m \u001b[0;34m=\u001b[0m \u001b[0mctypes\u001b[0m\u001b[0;34m.\u001b[0m\u001b[0mc_void_p\u001b[0m\u001b[0;34m(\u001b[0m\u001b[0;34m)\u001b[0m\u001b[0;34m\u001b[0m\u001b[0;34m\u001b[0m\u001b[0m\n\u001b[0;32m-> 2234\u001b[0;31m             _safe_call(_LIB.LGBM_BoosterCreate(\n\u001b[0m\u001b[1;32m   2235\u001b[0m                 \u001b[0mtrain_set\u001b[0m\u001b[0;34m.\u001b[0m\u001b[0mhandle\u001b[0m\u001b[0;34m,\u001b[0m\u001b[0;34m\u001b[0m\u001b[0;34m\u001b[0m\u001b[0m\n\u001b[1;32m   2236\u001b[0m                 \u001b[0mc_str\u001b[0m\u001b[0;34m(\u001b[0m\u001b[0mparams_str\u001b[0m\u001b[0;34m)\u001b[0m\u001b[0;34m,\u001b[0m\u001b[0;34m\u001b[0m\u001b[0;34m\u001b[0m\u001b[0m\n",
      "\u001b[0;32m~/opt/miniconda3/envs/aml/lib/python3.8/site-packages/lightgbm/basic.py\u001b[0m in \u001b[0;36m_safe_call\u001b[0;34m(ret)\u001b[0m\n\u001b[1;32m    108\u001b[0m     \"\"\"\n\u001b[1;32m    109\u001b[0m     \u001b[0;32mif\u001b[0m \u001b[0mret\u001b[0m \u001b[0;34m!=\u001b[0m \u001b[0;36m0\u001b[0m\u001b[0;34m:\u001b[0m\u001b[0;34m\u001b[0m\u001b[0;34m\u001b[0m\u001b[0m\n\u001b[0;32m--> 110\u001b[0;31m         \u001b[0;32mraise\u001b[0m \u001b[0mLightGBMError\u001b[0m\u001b[0;34m(\u001b[0m\u001b[0m_LIB\u001b[0m\u001b[0;34m.\u001b[0m\u001b[0mLGBM_GetLastError\u001b[0m\u001b[0;34m(\u001b[0m\u001b[0;34m)\u001b[0m\u001b[0;34m.\u001b[0m\u001b[0mdecode\u001b[0m\u001b[0;34m(\u001b[0m\u001b[0;34m'utf-8'\u001b[0m\u001b[0;34m)\u001b[0m\u001b[0;34m)\u001b[0m\u001b[0;34m\u001b[0m\u001b[0;34m\u001b[0m\u001b[0m\n\u001b[0m\u001b[1;32m    111\u001b[0m \u001b[0;34m\u001b[0m\u001b[0m\n\u001b[1;32m    112\u001b[0m \u001b[0;34m\u001b[0m\u001b[0m\n",
      "\u001b[0;31mLightGBMError\u001b[0m: Check failed: config->bagging_freq > 0 && config->bagging_fraction < 1.0f && config->bagging_fraction > 0.0f at /tmp/pip-req-build-12fs9jsp/compile/src/boosting/rf.hpp, line 35 .\n"
     ]
    }
   ],
   "source": [
    "study.optimize(objective, n_trials=100, show_progress_bar=True)"
   ]
  },
  {
   "cell_type": "code",
   "execution_count": 38,
   "metadata": {},
   "outputs": [
    {
     "name": "stderr",
     "output_type": "stream",
     "text": [
      "\u001b[32m[I 2021-05-22 18:49:19,275]\u001b[0m A new study created in memory with name: no-name-799168dd-8c77-478b-8cf5-5acc0a19dbe5\u001b[0m\n",
      "feature_fraction, val_score: 0.200063:  14%|#4        | 1/7 [00:06<00:36,  6.03s/it]\u001b[32m[I 2021-05-22 18:49:25,317]\u001b[0m Trial 0 finished with value: 0.20006250926043956 and parameters: {'feature_fraction': 0.8999999999999999}. Best is trial 0 with value: 0.20006250926043956.\u001b[0m\n",
      "feature_fraction, val_score: 0.199997:  29%|##8       | 2/7 [00:11<00:27,  5.49s/it]\u001b[32m[I 2021-05-22 18:49:30,436]\u001b[0m Trial 1 finished with value: 0.19999731670795493 and parameters: {'feature_fraction': 0.6}. Best is trial 1 with value: 0.19999731670795493.\u001b[0m\n",
      "feature_fraction, val_score: 0.199997:  43%|####2     | 3/7 [00:17<00:22,  5.69s/it]\u001b[32m[I 2021-05-22 18:49:36,371]\u001b[0m Trial 2 finished with value: 0.2001174272598327 and parameters: {'feature_fraction': 0.7}. Best is trial 1 with value: 0.19999731670795493.\u001b[0m\n",
      "feature_fraction, val_score: 0.199997:  57%|#####7    | 4/7 [00:23<00:18,  6.06s/it]\u001b[32m[I 2021-05-22 18:49:43,002]\u001b[0m Trial 3 finished with value: 0.2000839795112815 and parameters: {'feature_fraction': 0.4}. Best is trial 1 with value: 0.19999731670795493.\u001b[0m\n",
      "feature_fraction, val_score: 0.199997:  71%|#######1  | 5/7 [00:29<00:11,  5.96s/it]\u001b[32m[I 2021-05-22 18:49:48,766]\u001b[0m Trial 4 finished with value: 0.20025142913671434 and parameters: {'feature_fraction': 1.0}. Best is trial 1 with value: 0.19999731670795493.\u001b[0m\n",
      "feature_fraction, val_score: 0.199997:  86%|########5 | 6/7 [00:36<00:06,  6.19s/it]\u001b[32m[I 2021-05-22 18:49:55,405]\u001b[0m Trial 5 finished with value: 0.20012820236754705 and parameters: {'feature_fraction': 0.8}. Best is trial 1 with value: 0.19999731670795493.\u001b[0m\n",
      "feature_fraction, val_score: 0.199986: 100%|##########| 7/7 [00:40<00:00,  5.75s/it]\u001b[32m[I 2021-05-22 18:50:00,258]\u001b[0m Trial 6 finished with value: 0.19998576332587892 and parameters: {'feature_fraction': 0.5}. Best is trial 6 with value: 0.19998576332587892.\u001b[0m\n",
      "feature_fraction, val_score: 0.199986: 100%|##########| 7/7 [00:40<00:00,  5.85s/it]\n",
      "num_leaves, val_score: 0.199986:   5%|5         | 1/20 [00:06<01:54,  6.00s/it]\u001b[32m[I 2021-05-22 18:50:06,268]\u001b[0m Trial 7 finished with value: 0.200876918970715 and parameters: {'num_leaves': 74}. Best is trial 7 with value: 0.200876918970715.\u001b[0m\n",
      "num_leaves, val_score: 0.199986:  10%|#         | 2/20 [00:14<02:13,  7.44s/it]\u001b[32m[I 2021-05-22 18:50:14,719]\u001b[0m Trial 8 finished with value: 0.2026688939659699 and parameters: {'num_leaves': 216}. Best is trial 7 with value: 0.200876918970715.\u001b[0m\n",
      "num_leaves, val_score: 0.199986:  15%|#5        | 3/20 [00:23<02:18,  8.13s/it]\u001b[32m[I 2021-05-22 18:50:23,666]\u001b[0m Trial 9 finished with value: 0.2025282391570357 and parameters: {'num_leaves': 214}. Best is trial 7 with value: 0.200876918970715.\u001b[0m\n",
      "num_leaves, val_score: 0.199986:  20%|##        | 4/20 [00:31<02:08,  8.04s/it]\u001b[32m[I 2021-05-22 18:50:31,574]\u001b[0m Trial 10 finished with value: 0.2024213668713891 and parameters: {'num_leaves': 182}. Best is trial 7 with value: 0.200876918970715.\u001b[0m\n",
      "num_leaves, val_score: 0.199986:  25%|##5       | 5/20 [00:39<02:03,  8.23s/it]\u001b[32m[I 2021-05-22 18:50:40,144]\u001b[0m Trial 11 finished with value: 0.20254823291888382 and parameters: {'num_leaves': 171}. Best is trial 7 with value: 0.200876918970715.\u001b[0m\n",
      "num_leaves, val_score: 0.199986:  30%|###       | 6/20 [00:45<01:43,  7.42s/it]\u001b[32m[I 2021-05-22 18:50:45,976]\u001b[0m Trial 12 finished with value: 0.2008341402586711 and parameters: {'num_leaves': 86}. Best is trial 12 with value: 0.2008341402586711.\u001b[0m\n",
      "num_leaves, val_score: 0.199986:  35%|###5      | 7/20 [00:52<01:34,  7.27s/it]\u001b[32m[I 2021-05-22 18:50:52,934]\u001b[0m Trial 13 finished with value: 0.20154202168168148 and parameters: {'num_leaves': 144}. Best is trial 12 with value: 0.2008341402586711.\u001b[0m\n",
      "num_leaves, val_score: 0.199986:  40%|####      | 8/20 [01:01<01:32,  7.69s/it]\u001b[32m[I 2021-05-22 18:51:01,527]\u001b[0m Trial 14 finished with value: 0.20266348093834075 and parameters: {'num_leaves': 225}. Best is trial 12 with value: 0.2008341402586711.\u001b[0m\n",
      "num_leaves, val_score: 0.199986:  45%|####5     | 9/20 [01:07<01:17,  7.08s/it]\u001b[32m[I 2021-05-22 18:51:07,279]\u001b[0m Trial 15 finished with value: 0.20098793867897236 and parameters: {'num_leaves': 90}. Best is trial 12 with value: 0.2008341402586711.\u001b[0m\n",
      "num_leaves, val_score: 0.199986:  50%|#####     | 10/20 [01:15<01:15,  7.54s/it]\u001b[32m[I 2021-05-22 18:51:15,844]\u001b[0m Trial 16 finished with value: 0.20303447410867115 and parameters: {'num_leaves': 230}. Best is trial 12 with value: 0.2008341402586711.\u001b[0m\n",
      "num_leaves, val_score: 0.199986:  55%|#####5    | 11/20 [01:26<01:17,  8.62s/it]\u001b[32m[I 2021-05-22 18:51:26,913]\u001b[0m Trial 17 finished with value: 0.20141194921688096 and parameters: {'num_leaves': 3}. Best is trial 12 with value: 0.2008341402586711.\u001b[0m\n",
      "num_leaves, val_score: 0.199986:  60%|######    | 12/20 [01:32<01:01,  7.74s/it]\u001b[32m[I 2021-05-22 18:51:32,631]\u001b[0m Trial 18 finished with value: 0.20073079805722419 and parameters: {'num_leaves': 70}. Best is trial 18 with value: 0.20073079805722419.\u001b[0m\n",
      "num_leaves, val_score: 0.199986:  65%|######5   | 13/20 [01:37<00:47,  6.83s/it]\u001b[32m[I 2021-05-22 18:51:37,368]\u001b[0m Trial 19 finished with value: 0.19998576332587892 and parameters: {'num_leaves': 31}. Best is trial 19 with value: 0.19998576332587892.\u001b[0m\n",
      "num_leaves, val_score: 0.199986:  70%|#######   | 14/20 [01:46<00:45,  7.56s/it]\u001b[32m[I 2021-05-22 18:51:46,612]\u001b[0m Trial 20 finished with value: 0.2002095547229754 and parameters: {'num_leaves': 6}. Best is trial 19 with value: 0.19998576332587892.\u001b[0m\n",
      "num_leaves, val_score: 0.199986:  75%|#######5  | 15/20 [01:50<00:33,  6.66s/it]\u001b[32m[I 2021-05-22 18:51:51,211]\u001b[0m Trial 21 finished with value: 0.20119964326530315 and parameters: {'num_leaves': 7}. Best is trial 19 with value: 0.19998576332587892.\u001b[0m\n",
      "num_leaves, val_score: 0.199986:  80%|########  | 16/20 [01:55<00:24,  6.08s/it]\u001b[32m[I 2021-05-22 18:51:55,932]\u001b[0m Trial 22 finished with value: 0.20006081751697294 and parameters: {'num_leaves': 30}. Best is trial 19 with value: 0.19998576332587892.\u001b[0m\n",
      "num_leaves, val_score: 0.199986:  85%|########5 | 17/20 [02:00<00:16,  5.64s/it]\u001b[32m[I 2021-05-22 18:52:00,537]\u001b[0m Trial 23 finished with value: 0.2001150433801077 and parameters: {'num_leaves': 39}. Best is trial 19 with value: 0.19998576332587892.\u001b[0m\n",
      "num_leaves, val_score: 0.199986:  90%|######### | 18/20 [02:05<00:11,  5.51s/it]\u001b[32m[I 2021-05-22 18:52:05,761]\u001b[0m Trial 24 finished with value: 0.2002563529473538 and parameters: {'num_leaves': 42}. Best is trial 19 with value: 0.19998576332587892.\u001b[0m\n",
      "num_leaves, val_score: 0.199986:  95%|#########5| 19/20 [02:11<00:05,  5.76s/it]\u001b[32m[I 2021-05-22 18:52:12,106]\u001b[0m Trial 25 finished with value: 0.20130909600062977 and parameters: {'num_leaves': 113}. Best is trial 19 with value: 0.19998576332587892.\u001b[0m\n",
      "num_leaves, val_score: 0.199986: 100%|##########| 20/20 [02:17<00:00,  5.63s/it]\u001b[32m[I 2021-05-22 18:52:17,439]\u001b[0m Trial 26 finished with value: 0.20005214896569481 and parameters: {'num_leaves': 41}. Best is trial 19 with value: 0.19998576332587892.\u001b[0m\n",
      "num_leaves, val_score: 0.199986: 100%|##########| 20/20 [02:17<00:00,  6.86s/it]\n",
      "bagging, val_score: 0.199986:  10%|#         | 1/10 [00:05<00:52,  5.78s/it]\u001b[32m[I 2021-05-22 18:52:23,230]\u001b[0m Trial 27 finished with value: 0.20005152644278915 and parameters: {'bagging_fraction': 0.8696124275952481, 'bagging_freq': 1}. Best is trial 27 with value: 0.20005152644278915.\u001b[0m\n",
      "bagging, val_score: 0.199986:  20%|##        | 2/10 [00:11<00:46,  5.85s/it]\u001b[32m[I 2021-05-22 18:52:29,125]\u001b[0m Trial 28 finished with value: 0.20033805457865894 and parameters: {'bagging_fraction': 0.6788503701206317, 'bagging_freq': 6}. Best is trial 27 with value: 0.20005152644278915.\u001b[0m\n",
      "bagging, val_score: 0.199870:  30%|###       | 3/10 [00:18<00:42,  6.11s/it]\u001b[32m[I 2021-05-22 18:52:35,550]\u001b[0m Trial 29 finished with value: 0.19987020697375024 and parameters: {'bagging_fraction': 0.840081722766568, 'bagging_freq': 3}. Best is trial 29 with value: 0.19987020697375024.\u001b[0m\n",
      "bagging, val_score: 0.199870:  40%|####      | 4/10 [00:25<00:38,  6.42s/it]\u001b[32m[I 2021-05-22 18:52:42,450]\u001b[0m Trial 30 finished with value: 0.2000806412158076 and parameters: {'bagging_fraction': 0.7831042903007852, 'bagging_freq': 5}. Best is trial 29 with value: 0.19987020697375024.\u001b[0m\n",
      "bagging, val_score: 0.199870:  50%|#####     | 5/10 [00:33<00:35,  7.13s/it]\u001b[32m[I 2021-05-22 18:52:50,828]\u001b[0m Trial 31 finished with value: 0.2002204313377217 and parameters: {'bagging_fraction': 0.6727411846321532, 'bagging_freq': 3}. Best is trial 29 with value: 0.19987020697375024.\u001b[0m\n",
      "bagging, val_score: 0.199870:  60%|######    | 6/10 [00:38<00:26,  6.55s/it]\u001b[32m[I 2021-05-22 18:52:56,244]\u001b[0m Trial 32 finished with value: 0.2009497794388603 and parameters: {'bagging_fraction': 0.5208424470828812, 'bagging_freq': 7}. Best is trial 29 with value: 0.19987020697375024.\u001b[0m\n",
      "bagging, val_score: 0.199870:  70%|#######   | 7/10 [00:44<00:18,  6.21s/it]\u001b[32m[I 2021-05-22 18:53:01,749]\u001b[0m Trial 33 finished with value: 0.2011122965497146 and parameters: {'bagging_fraction': 0.4487416381455262, 'bagging_freq': 4}. Best is trial 29 with value: 0.19987020697375024.\u001b[0m\n",
      "bagging, val_score: 0.199870:  80%|########  | 8/10 [00:49<00:11,  5.98s/it]\u001b[32m[I 2021-05-22 18:53:07,230]\u001b[0m Trial 34 finished with value: 0.2000637825512298 and parameters: {'bagging_fraction': 0.7965204240769268, 'bagging_freq': 1}. Best is trial 29 with value: 0.19987020697375024.\u001b[0m\n",
      "bagging, val_score: 0.199870:  90%|######### | 9/10 [00:55<00:05,  5.80s/it]\u001b[32m[I 2021-05-22 18:53:12,633]\u001b[0m Trial 35 finished with value: 0.20044224027789795 and parameters: {'bagging_fraction': 0.5900230133056779, 'bagging_freq': 5}. Best is trial 29 with value: 0.19987020697375024.\u001b[0m\n",
      "bagging, val_score: 0.199870: 100%|##########| 10/10 [01:01<00:00,  5.82s/it]\u001b[32m[I 2021-05-22 18:53:18,503]\u001b[0m Trial 36 finished with value: 0.20007216979906087 and parameters: {'bagging_fraction': 0.857066925905009, 'bagging_freq': 7}. Best is trial 29 with value: 0.19987020697375024.\u001b[0m\n",
      "bagging, val_score: 0.199870: 100%|##########| 10/10 [01:01<00:00,  6.11s/it]\n",
      "feature_fraction_stage2, val_score: 0.199870:  17%|#6        | 1/6 [00:05<00:29,  5.92s/it]\u001b[32m[I 2021-05-22 18:53:24,430]\u001b[0m Trial 37 finished with value: 0.20019352276427002 and parameters: {'feature_fraction': 0.45199999999999996}. Best is trial 37 with value: 0.20019352276427002.\u001b[0m\n",
      "feature_fraction_stage2, val_score: 0.199870:  33%|###3      | 2/6 [00:12<00:24,  6.09s/it]\u001b[32m[I 2021-05-22 18:53:30,639]\u001b[0m Trial 38 finished with value: 0.19987020697375024 and parameters: {'feature_fraction': 0.516}. Best is trial 38 with value: 0.19987020697375024.\u001b[0m\n",
      "feature_fraction_stage2, val_score: 0.199870:  50%|#####     | 3/6 [00:18<00:18,  6.15s/it]\u001b[32m[I 2021-05-22 18:53:36,870]\u001b[0m Trial 39 finished with value: 0.19996091783165013 and parameters: {'feature_fraction': 0.5479999999999999}. Best is trial 38 with value: 0.19987020697375024.\u001b[0m\n",
      "feature_fraction_stage2, val_score: 0.199870:  67%|######6   | 4/6 [00:24<00:11,  5.98s/it]\u001b[32m[I 2021-05-22 18:53:42,571]\u001b[0m Trial 40 finished with value: 0.20010533881153425 and parameters: {'feature_fraction': 0.484}. Best is trial 38 with value: 0.19987020697375024.\u001b[0m\n",
      "feature_fraction_stage2, val_score: 0.199870:  83%|########3 | 5/6 [00:30<00:06,  6.04s/it]\u001b[32m[I 2021-05-22 18:53:48,726]\u001b[0m Trial 41 finished with value: 0.20019352276427002 and parameters: {'feature_fraction': 0.42}. Best is trial 38 with value: 0.19987020697375024.\u001b[0m\n",
      "feature_fraction_stage2, val_score: 0.199870: 100%|##########| 6/6 [00:36<00:00,  6.13s/it]\u001b[32m[I 2021-05-22 18:53:55,034]\u001b[0m Trial 42 finished with value: 0.19996091783165013 and parameters: {'feature_fraction': 0.58}. Best is trial 38 with value: 0.19987020697375024.\u001b[0m\n",
      "feature_fraction_stage2, val_score: 0.199870: 100%|##########| 6/6 [00:36<00:00,  6.09s/it]\n",
      "regularization_factors, val_score: 0.199574:   5%|5         | 1/20 [00:07<02:28,  7.80s/it]\u001b[32m[I 2021-05-22 18:54:02,840]\u001b[0m Trial 43 finished with value: 0.19957367190652828 and parameters: {'lambda_l1': 3.4253823141860353, 'lambda_l2': 0.35694255292860133}. Best is trial 43 with value: 0.19957367190652828.\u001b[0m\n",
      "regularization_factors, val_score: 0.199574:  10%|#         | 2/20 [00:14<02:03,  6.88s/it]\u001b[32m[I 2021-05-22 18:54:09,080]\u001b[0m Trial 44 finished with value: 0.19987020488748977 and parameters: {'lambda_l1': 6.782471892288647e-06, 'lambda_l2': 1.7112843783837853e-08}. Best is trial 43 with value: 0.19957367190652828.\u001b[0m\n",
      "regularization_factors, val_score: 0.199574:  15%|#5        | 3/20 [00:21<01:57,  6.93s/it]\u001b[32m[I 2021-05-22 18:54:16,074]\u001b[0m Trial 45 finished with value: 0.19972040448575934 and parameters: {'lambda_l1': 0.019230272372914626, 'lambda_l2': 0.5637051837103557}. Best is trial 43 with value: 0.19957367190652828.\u001b[0m\n",
      "regularization_factors, val_score: 0.199574:  20%|##        | 4/20 [00:27<01:46,  6.67s/it]\u001b[32m[I 2021-05-22 18:54:22,346]\u001b[0m Trial 46 finished with value: 0.19987016649320802 and parameters: {'lambda_l1': 1.8540672274288212e-08, 'lambda_l2': 9.016758999672641e-06}. Best is trial 43 with value: 0.19957367190652828.\u001b[0m\n",
      "regularization_factors, val_score: 0.199574:  25%|##5       | 5/20 [00:33<01:38,  6.54s/it]\u001b[32m[I 2021-05-22 18:54:28,654]\u001b[0m Trial 47 finished with value: 0.19986993878720338 and parameters: {'lambda_l1': 1.8422763304842978e-08, 'lambda_l2': 5.3499395466007717e-05}. Best is trial 43 with value: 0.19957367190652828.\u001b[0m\n",
      "regularization_factors, val_score: 0.199574:  30%|###       | 6/20 [00:39<01:30,  6.48s/it]\u001b[32m[I 2021-05-22 18:54:35,023]\u001b[0m Trial 48 finished with value: 0.1998702016964996 and parameters: {'lambda_l1': 5.431857707778582e-07, 'lambda_l2': 1.139922647617167e-06}. Best is trial 43 with value: 0.19957367190652828.\u001b[0m\n",
      "regularization_factors, val_score: 0.199574:  35%|###5      | 7/20 [00:46<01:25,  6.59s/it]\u001b[32m[I 2021-05-22 18:54:41,821]\u001b[0m Trial 49 finished with value: 0.19975452124438797 and parameters: {'lambda_l1': 0.005711822365922218, 'lambda_l2': 0.2972343199697394}. Best is trial 43 with value: 0.19957367190652828.\u001b[0m\n",
      "regularization_factors, val_score: 0.199574:  40%|####      | 8/20 [00:53<01:18,  6.53s/it]\u001b[32m[I 2021-05-22 18:54:48,217]\u001b[0m Trial 50 finished with value: 0.19987019235674777 and parameters: {'lambda_l1': 5.542114485655267e-06, 'lambda_l2': 2.889317498801917e-06}. Best is trial 43 with value: 0.19957367190652828.\u001b[0m\n",
      "regularization_factors, val_score: 0.199574:  45%|####5     | 9/20 [00:59<01:11,  6.46s/it]\u001b[32m[I 2021-05-22 18:54:54,536]\u001b[0m Trial 51 finished with value: 0.1998702017107031 and parameters: {'lambda_l1': 1.3658496698004992e-05, 'lambda_l2': 2.704402729554223e-07}. Best is trial 43 with value: 0.19957367190652828.\u001b[0m\n",
      "regularization_factors, val_score: 0.199574:  50%|#####     | 10/20 [01:05<01:04,  6.47s/it]\u001b[32m[I 2021-05-22 18:55:01,034]\u001b[0m Trial 52 finished with value: 0.19987014200186745 and parameters: {'lambda_l1': 2.582521225758069e-08, 'lambda_l2': 1.4478195136557731e-05}. Best is trial 43 with value: 0.19957367190652828.\u001b[0m\n",
      "regularization_factors, val_score: 0.199574:  55%|#####5    | 11/20 [01:15<01:07,  7.50s/it]\u001b[32m[I 2021-05-22 18:55:10,855]\u001b[0m Trial 53 finished with value: 0.1997057709031859 and parameters: {'lambda_l1': 9.78091032182985, 'lambda_l2': 0.0074611024643731726}. Best is trial 43 with value: 0.19957367190652828.\u001b[0m\n",
      "regularization_factors, val_score: 0.199574:  60%|######    | 12/20 [01:23<01:00,  7.53s/it]\u001b[32m[I 2021-05-22 18:55:18,458]\u001b[0m Trial 54 finished with value: 0.199753732234198 and parameters: {'lambda_l1': 5.423051208633522, 'lambda_l2': 0.012670500170212212}. Best is trial 43 with value: 0.19957367190652828.\u001b[0m\n",
      "regularization_factors, val_score: 0.199574:  65%|######5   | 13/20 [01:32<00:55,  7.93s/it]\u001b[32m[I 2021-05-22 18:55:27,303]\u001b[0m Trial 55 finished with value: 0.19969439542427544 and parameters: {'lambda_l1': 5.926285649285118, 'lambda_l2': 0.002186285892568533}. Best is trial 43 with value: 0.19957367190652828.\u001b[0m\n",
      "regularization_factors, val_score: 0.199574:  70%|#######   | 14/20 [01:39<00:46,  7.67s/it]\u001b[32m[I 2021-05-22 18:55:34,387]\u001b[0m Trial 56 finished with value: 0.19983485777132956 and parameters: {'lambda_l1': 0.409850138426331, 'lambda_l2': 0.002048970580670522}. Best is trial 43 with value: 0.19957367190652828.\u001b[0m\n",
      "regularization_factors, val_score: 0.199574:  75%|#######5  | 15/20 [01:46<00:37,  7.59s/it]\u001b[32m[I 2021-05-22 18:55:41,769]\u001b[0m Trial 57 finished with value: 0.19961117042948603 and parameters: {'lambda_l1': 0.3487957973770866, 'lambda_l2': 2.1261420723839746}. Best is trial 43 with value: 0.19957367190652828.\u001b[0m\n",
      "regularization_factors, val_score: 0.199574:  80%|########  | 16/20 [01:54<00:30,  7.59s/it]\u001b[32m[I 2021-05-22 18:55:49,382]\u001b[0m Trial 58 finished with value: 0.19959985584096218 and parameters: {'lambda_l1': 0.15083649271197724, 'lambda_l2': 5.060875710045474}. Best is trial 43 with value: 0.19957367190652828.\u001b[0m\n",
      "regularization_factors, val_score: 0.199437:  85%|########5 | 17/20 [02:02<00:23,  7.67s/it]\u001b[32m[I 2021-05-22 18:55:57,228]\u001b[0m Trial 59 finished with value: 0.19943667960479963 and parameters: {'lambda_l1': 0.0021162855817617346, 'lambda_l2': 9.484825815823141}. Best is trial 59 with value: 0.19943667960479963.\u001b[0m\n",
      "regularization_factors, val_score: 0.199437:  90%|######### | 18/20 [02:08<00:14,  7.35s/it]\u001b[32m[I 2021-05-22 18:56:03,835]\u001b[0m Trial 60 finished with value: 0.19974779904044812 and parameters: {'lambda_l1': 0.0003320476165792685, 'lambda_l2': 0.10212940996488261}. Best is trial 59 with value: 0.19943667960479963.\u001b[0m\n",
      "regularization_factors, val_score: 0.199437:  95%|#########5| 19/20 [02:16<00:07,  7.32s/it]\u001b[32m[I 2021-05-22 18:56:11,095]\u001b[0m Trial 61 finished with value: 0.19961970063416604 and parameters: {'lambda_l1': 0.0006641557163285655, 'lambda_l2': 8.600828545382024}. Best is trial 59 with value: 0.19943667960479963.\u001b[0m\n",
      "regularization_factors, val_score: 0.199437: 100%|##########| 20/20 [02:22<00:00,  7.06s/it]\u001b[32m[I 2021-05-22 18:56:17,527]\u001b[0m Trial 62 finished with value: 0.1998290695482925 and parameters: {'lambda_l1': 0.003912210637545124, 'lambda_l2': 0.08216746701789335}. Best is trial 59 with value: 0.19943667960479963.\u001b[0m\n",
      "regularization_factors, val_score: 0.199437: 100%|##########| 20/20 [02:22<00:00,  7.12s/it]\n",
      "min_data_in_leaf, val_score: 0.199437:  20%|##        | 1/5 [00:07<00:30,  7.51s/it]\u001b[32m[I 2021-05-22 18:56:25,049]\u001b[0m Trial 63 finished with value: 0.199601693215155 and parameters: {'min_child_samples': 10}. Best is trial 63 with value: 0.199601693215155.\u001b[0m\n",
      "min_data_in_leaf, val_score: 0.199437:  40%|####      | 2/5 [00:15<00:23,  7.86s/it]\u001b[32m[I 2021-05-22 18:56:33,151]\u001b[0m Trial 64 finished with value: 0.19947812942582863 and parameters: {'min_child_samples': 25}. Best is trial 64 with value: 0.19947812942582863.\u001b[0m\n",
      "min_data_in_leaf, val_score: 0.199437:  60%|######    | 3/5 [00:23<00:15,  7.97s/it]\u001b[32m[I 2021-05-22 18:56:41,256]\u001b[0m Trial 65 finished with value: 0.19945595739070773 and parameters: {'min_child_samples': 100}. Best is trial 65 with value: 0.19945595739070773.\u001b[0m\n",
      "min_data_in_leaf, val_score: 0.199386:  80%|########  | 4/5 [00:31<00:08,  8.02s/it]\u001b[32m[I 2021-05-22 18:56:49,338]\u001b[0m Trial 66 finished with value: 0.19938617897042646 and parameters: {'min_child_samples': 50}. Best is trial 66 with value: 0.19938617897042646.\u001b[0m\n",
      "min_data_in_leaf, val_score: 0.199386: 100%|##########| 5/5 [00:40<00:00,  8.21s/it]\u001b[32m[I 2021-05-22 18:56:57,905]\u001b[0m Trial 67 finished with value: 0.19967091449094967 and parameters: {'min_child_samples': 5}. Best is trial 66 with value: 0.19938617897042646.\u001b[0m\n",
      "min_data_in_leaf, val_score: 0.199386: 100%|##########| 5/5 [00:40<00:00,  8.07s/it]"
     ]
    },
    {
     "name": "stdout",
     "output_type": "stream",
     "text": [
      "Best score: 0.19938617897042646\n",
      "Best params: {'objective': 'binary', 'metric': 'binary_logloss', 'verbosity': -1, 'boosting_type': 'gbdt', 'feature_pre_filter': False, 'lambda_l1': 0.0021162855817617346, 'lambda_l2': 9.484825815823141, 'num_leaves': 31, 'feature_fraction': 0.5, 'bagging_fraction': 0.840081722766568, 'bagging_freq': 3, 'min_child_samples': 50}\n",
      "  Params: \n",
      "    objective: binary\n",
      "    metric: binary_logloss\n",
      "    verbosity: -1\n",
      "    boosting_type: gbdt\n",
      "    feature_pre_filter: False\n",
      "    lambda_l1: 0.0021162855817617346\n",
      "    lambda_l2: 9.484825815823141\n",
      "    num_leaves: 31\n",
      "    feature_fraction: 0.5\n",
      "    bagging_fraction: 0.840081722766568\n",
      "    bagging_freq: 3\n",
      "    min_child_samples: 50\n"
     ]
    },
    {
     "name": "stderr",
     "output_type": "stream",
     "text": [
      "\n"
     ]
    }
   ],
   "source": [
    "from sklearn.model_selection import KFold\n",
    "\n",
    "import optuna.integration.lightgbm as lgb\n",
    "\n",
    "\n",
    "dtrain = lgb.Dataset(X_25, label=y)\n",
    "\n",
    "params = {\n",
    "    \"objective\": \"binary\",\n",
    "    \"metric\": \"binary_logloss\",\n",
    "    \"verbosity\": -1,\n",
    "    \"boosting_type\": \"gbdt\",\n",
    "}\n",
    "\n",
    "tuner = lgb.LightGBMTunerCV(\n",
    "    params, dtrain, verbose_eval=0, early_stopping_rounds=100, folds=KFold(n_splits=3), show_progress_bar=True\n",
    ")\n",
    "\n",
    "tuner.run()\n",
    "\n",
    "print(\"Best score:\", tuner.best_score)\n",
    "best_params = tuner.best_params\n",
    "print(\"Best params:\", best_params)\n",
    "print(\"  Params: \")\n",
    "for key, value in best_params.items():\n",
    "    print(\"    {}: {}\".format(key, value))"
   ]
  },
  {
   "cell_type": "code",
   "execution_count": null,
   "metadata": {},
   "outputs": [
    {
     "name": "stdout",
     "output_type": "stream",
     "text": [
      "Accuracy: 0.945 (0.002)\n"
     ]
    }
   ],
   "source": [
    "data_train = lgb.Dataset(X_25, label=y)\n",
    "params = best_params\n",
    "\n",
    "\n",
    "# evaluate the model\n",
    "\n",
    "model = LGBMClassifier()\n",
    "cv = RepeatedStratifiedKFold(n_splits=10, n_repeats=3, random_state=1)\n",
    "n_scores = cross_val_score(model, X, y, scoring='accuracy', cv=cv, n_jobs=-1, error_score='raise')\n",
    "print('Accuracy: %.3f (%.3f)' % (np.mean(n_scores), np.std(n_scores)))\n",
    "# fit the model on the whole dataset\n",
    "model.fit(X, y)"
   ]
  },
  {
   "cell_type": "markdown",
   "metadata": {},
   "source": [
    "## Use SHAP values on un-optimised lightGBM model"
   ]
  },
  {
   "cell_type": "markdown",
   "metadata": {},
   "source": [
    "Run lightGBM on the entire data set"
   ]
  },
  {
   "cell_type": "code",
   "execution_count": 17,
   "metadata": {},
   "outputs": [
    {
     "name": "stdout",
     "output_type": "stream",
     "text": [
      "Accuracy: 0.945 (0.002)\n"
     ]
    },
    {
     "data": {
      "text/plain": [
       "LGBMClassifier(boosting_type='gbdt', class_weight=None, colsample_bytree=1.0,\n",
       "               importance_type='split', learning_rate=0.1, max_depth=-1,\n",
       "               min_child_samples=20, min_child_weight=0.001, min_split_gain=0.0,\n",
       "               n_estimators=100, n_jobs=-1, num_leaves=31, objective=None,\n",
       "               random_state=None, reg_alpha=0.0, reg_lambda=0.0, silent=True,\n",
       "               subsample=1.0, subsample_for_bin=200000, subsample_freq=0)"
      ]
     },
     "execution_count": 17,
     "metadata": {},
     "output_type": "execute_result"
    }
   ],
   "source": [
    "import lightgbm as lgb\n",
    "from lightgbm import LGBMClassifier\n",
    "from sklearn.model_selection import RepeatedStratifiedKFold\n",
    "\n",
    "data_train = lgb.Dataset(X, label=y)\n",
    "params = {'objective': 'binary',\n",
    "          'boosting_type': 'gbdt',\n",
    "          'metric': 'binary_logloss',\n",
    "          'learning_rate': 0.01,\n",
    "          'num_leaves': 10,\n",
    "          'max_depth': 10,\n",
    "          'min_data': 10,\n",
    "          'verbose': 1,\n",
    "          'force_col_wise': True}\n",
    "\n",
    "\n",
    "# evaluate the model\n",
    "\n",
    "model = LGBMClassifier()\n",
    "cv = RepeatedStratifiedKFold(n_splits=10, n_repeats=3, random_state=1)\n",
    "n_scores = cross_val_score(model, X, y, scoring='accuracy', cv=cv, n_jobs=-1, error_score='raise')\n",
    "print('Accuracy: %.3f (%.3f)' % (np.mean(n_scores), np.std(n_scores)))\n",
    "# fit the model on the whole dataset\n",
    "model.fit(X, y)\n"
   ]
  },
  {
   "cell_type": "code",
   "execution_count": 18,
   "metadata": {},
   "outputs": [
    {
     "name": "stderr",
     "output_type": "stream",
     "text": [
      "LightGBM binary classifier with TreeExplainer shap values output has changed to a list of ndarray\n"
     ]
    },
    {
     "data": {
      "image/png": "[encoded data removed]",
      "text/plain": [
       "<Figure size 576x972 with 1 Axes>"
      ]
     },
     "metadata": {
      "needs_background": "light"
     },
     "output_type": "display_data"
    }
   ],
   "source": [
    "shap_valueslgb = shap.TreeExplainer(model).shap_values(X)\n",
    "shap.summary_plot(shap_valueslgb, X, plot_type=\"bar\", show=True, max_display=30)"
   ]
  },
  {
   "cell_type": "code",
   "execution_count": 19,
   "metadata": {},
   "outputs": [],
   "source": [
    "feature_importance = pandas.DataFrame(list(zip(all_variables, shap_valueslgb[0].sum(0))), columns=['feature_name', 'feature_importance_vals'])\n",
    "feature_importance = feature_importance.iloc[(-np.abs(feature_importance['feature_importance_vals'].values)).argsort()]"
   ]
  },
  {
   "cell_type": "code",
   "execution_count": 20,
   "metadata": {},
   "outputs": [
    {
     "data": {
      "text/html": [
       "<div>\n",
       "<style scoped>\n",
       "    .dataframe tbody tr th:only-of-type {\n",
       "        vertical-align: middle;\n",
       "    }\n",
       "\n",
       "    .dataframe tbody tr th {\n",
       "        vertical-align: top;\n",
       "    }\n",
       "\n",
       "    .dataframe thead th {\n",
       "        text-align: right;\n",
       "    }\n",
       "</style>\n",
       "<table border=\"1\" class=\"dataframe\">\n",
       "  <thead>\n",
       "    <tr style=\"text-align: right;\">\n",
       "      <th></th>\n",
       "      <th>feature_name</th>\n",
       "      <th>feature_importance_vals</th>\n",
       "    </tr>\n",
       "  </thead>\n",
       "  <tbody>\n",
       "    <tr>\n",
       "      <th>15</th>\n",
       "      <td>p_sigmad0</td>\n",
       "      <td>-16034.749343</td>\n",
       "    </tr>\n",
       "    <tr>\n",
       "      <th>52</th>\n",
       "      <td>p_deltaEta1</td>\n",
       "      <td>15707.860278</td>\n",
       "    </tr>\n",
       "    <tr>\n",
       "      <th>50</th>\n",
       "      <td>p_Rhad</td>\n",
       "      <td>-14840.342740</td>\n",
       "    </tr>\n",
       "    <tr>\n",
       "      <th>14</th>\n",
       "      <td>p_d0</td>\n",
       "      <td>12023.072927</td>\n",
       "    </tr>\n",
       "    <tr>\n",
       "      <th>129</th>\n",
       "      <td>p_ptconecoreTrackPtrCorrection</td>\n",
       "      <td>10587.434495</td>\n",
       "    </tr>\n",
       "    <tr>\n",
       "      <th>...</th>\n",
       "      <td>...</td>\n",
       "      <td>...</td>\n",
       "    </tr>\n",
       "    <tr>\n",
       "      <th>107</th>\n",
       "      <td>p_maxEcell_gain</td>\n",
       "      <td>0.000000</td>\n",
       "    </tr>\n",
       "    <tr>\n",
       "      <th>136</th>\n",
       "      <td>p_widths2</td>\n",
       "      <td>0.000000</td>\n",
       "    </tr>\n",
       "    <tr>\n",
       "      <th>116</th>\n",
       "      <td>p_nCells_Lr1_LowG</td>\n",
       "      <td>0.000000</td>\n",
       "    </tr>\n",
       "    <tr>\n",
       "      <th>128</th>\n",
       "      <td>p_ptconeCorrBitset</td>\n",
       "      <td>0.000000</td>\n",
       "    </tr>\n",
       "    <tr>\n",
       "      <th>101</th>\n",
       "      <td>p_etconeCorrBitset</td>\n",
       "      <td>0.000000</td>\n",
       "    </tr>\n",
       "  </tbody>\n",
       "</table>\n",
       "<p>160 rows × 2 columns</p>\n",
       "</div>"
      ],
      "text/plain": [
       "                       feature_name  feature_importance_vals\n",
       "15                        p_sigmad0            -16034.749343\n",
       "52                      p_deltaEta1             15707.860278\n",
       "50                           p_Rhad            -14840.342740\n",
       "14                             p_d0             12023.072927\n",
       "129  p_ptconecoreTrackPtrCorrection             10587.434495\n",
       "..                              ...                      ...\n",
       "107                 p_maxEcell_gain                 0.000000\n",
       "136                       p_widths2                 0.000000\n",
       "116               p_nCells_Lr1_LowG                 0.000000\n",
       "128              p_ptconeCorrBitset                 0.000000\n",
       "101              p_etconeCorrBitset                 0.000000\n",
       "\n",
       "[160 rows x 2 columns]"
      ]
     },
     "execution_count": 20,
     "metadata": {},
     "output_type": "execute_result"
    }
   ],
   "source": [
    "feature_importance"
   ]
  },
  {
   "cell_type": "code",
   "execution_count": 21,
   "metadata": {},
   "outputs": [
    {
     "data": {
      "text/plain": [
       "(162500, 25)"
      ]
     },
     "execution_count": 21,
     "metadata": {},
     "output_type": "execute_result"
    }
   ],
   "source": [
    "# names of top 25 features according to shap\n",
    "top_25_features = feature_importance.head(25)\n",
    "\n",
    "# get the data for these features\n",
    "X_25_shap = X.iloc[:,top_25_features.index]\n",
    "X_25_shap.shape"
   ]
  },
  {
   "cell_type": "markdown",
   "metadata": {},
   "source": [
    "### Retry lightGBM classification with these 25 shap features"
   ]
  },
  {
   "cell_type": "code",
   "execution_count": 22,
   "metadata": {},
   "outputs": [
    {
     "name": "stdout",
     "output_type": "stream",
     "text": [
      "Accuracy: 0.943 (0.002)\n"
     ]
    }
   ],
   "source": [
    "import lightgbm as lgb\n",
    "from lightgbm import LGBMClassifier\n",
    "from sklearn.model_selection import RepeatedStratifiedKFold\n",
    "\n",
    "data_train = lgb.Dataset(X_25_shap, label=y)\n",
    "params = {'objective': 'binary',\n",
    "          'boosting_type': 'gbdt',\n",
    "          'metric': 'binary_logloss',\n",
    "          'learning_rate': 0.01,\n",
    "          'num_leaves': 10,\n",
    "          'max_depth': 10,\n",
    "          'min_data': 10,\n",
    "          'verbose': 1,\n",
    "          'force_col_wise': True}\n",
    "\n",
    "\n",
    "# evaluate the model\n",
    "\n",
    "model = LGBMClassifier()\n",
    "cv = RepeatedStratifiedKFold(n_splits=10, n_repeats=3, random_state=1)\n",
    "n_scores = cross_val_score(model, X_25_shap, y, scoring='accuracy', cv=cv, n_jobs=-1, error_score='raise')\n",
    "print('Accuracy: %.3f (%.3f)' % (np.mean(n_scores), np.std(n_scores)))\n",
    "# fit the model on the whole dataset\n",
    "#model.fit(X_25_shap, y)"
   ]
  },
  {
   "cell_type": "markdown",
   "metadata": {},
   "source": [
    "### Run optuna on the 25 shap features dataset"
   ]
  },
  {
   "cell_type": "code",
   "execution_count": 23,
   "metadata": {},
   "outputs": [
    {
     "name": "stderr",
     "output_type": "stream",
     "text": [
      "\u001b[32m[I 2021-05-23 19:46:03,313]\u001b[0m A new study created in memory with name: no-name-7f4ce93d-4aac-40e3-a731-981d5708234e\u001b[0m\n",
      "feature_fraction, val_score: 0.143125:  14%|#4        | 1/7 [00:10<01:00, 10.04s/it]\u001b[32m[I 2021-05-23 19:46:13,374]\u001b[0m Trial 0 finished with value: 0.14312469141868436 and parameters: {'feature_fraction': 0.7}. Best is trial 0 with value: 0.14312469141868436.\u001b[0m\n",
      "feature_fraction, val_score: 0.143125:  29%|##8       | 2/7 [00:20<00:51, 10.24s/it]\u001b[32m[I 2021-05-23 19:46:24,065]\u001b[0m Trial 1 finished with value: 0.1434927612068904 and parameters: {'feature_fraction': 0.8}. Best is trial 0 with value: 0.14312469141868436.\u001b[0m\n",
      "feature_fraction, val_score: 0.143125:  43%|####2     | 3/7 [00:30<00:40, 10.24s/it]\u001b[32m[I 2021-05-23 19:46:34,293]\u001b[0m Trial 2 finished with value: 0.14343714015518894 and parameters: {'feature_fraction': 0.5}. Best is trial 0 with value: 0.14312469141868436.\u001b[0m\n",
      "feature_fraction, val_score: 0.143125:  57%|#####7    | 4/7 [00:44<00:33, 11.08s/it]\u001b[32m[I 2021-05-23 19:46:47,353]\u001b[0m Trial 3 finished with value: 0.14374399391494164 and parameters: {'feature_fraction': 0.4}. Best is trial 0 with value: 0.14312469141868436.\u001b[0m\n",
      "feature_fraction, val_score: 0.143125:  71%|#######1  | 5/7 [00:53<00:21, 10.69s/it]\u001b[32m[I 2021-05-23 19:46:57,126]\u001b[0m Trial 4 finished with value: 0.14366110632101528 and parameters: {'feature_fraction': 0.8999999999999999}. Best is trial 0 with value: 0.14312469141868436.\u001b[0m\n",
      "feature_fraction, val_score: 0.143125:  86%|########5 | 6/7 [01:03<00:10, 10.46s/it]\u001b[32m[I 2021-05-23 19:47:07,041]\u001b[0m Trial 5 finished with value: 0.14341144412489887 and parameters: {'feature_fraction': 0.6}. Best is trial 0 with value: 0.14312469141868436.\u001b[0m\n",
      "feature_fraction, val_score: 0.143125: 100%|##########| 7/7 [01:14<00:00, 10.64s/it]\u001b[32m[I 2021-05-23 19:47:18,102]\u001b[0m Trial 6 finished with value: 0.14338168077824612 and parameters: {'feature_fraction': 1.0}. Best is trial 0 with value: 0.14312469141868436.\u001b[0m\n",
      "feature_fraction, val_score: 0.143125: 100%|##########| 7/7 [01:14<00:00, 10.68s/it]\n",
      "num_leaves, val_score: 0.143125:   5%|5         | 1/20 [00:14<04:33, 14.40s/it]\u001b[32m[I 2021-05-23 19:47:32,516]\u001b[0m Trial 7 finished with value: 0.14363350277112238 and parameters: {'num_leaves': 158}. Best is trial 7 with value: 0.14363350277112238.\u001b[0m\n",
      "num_leaves, val_score: 0.143125:  10%|#         | 2/20 [00:25<03:58, 13.27s/it]\u001b[32m[I 2021-05-23 19:47:43,139]\u001b[0m Trial 8 finished with value: 0.14357418886767306 and parameters: {'num_leaves': 58}. Best is trial 8 with value: 0.14357418886767306.\u001b[0m\n",
      "num_leaves, val_score: 0.143125:  15%|#5        | 3/20 [00:41<04:01, 14.21s/it]\u001b[32m[I 2021-05-23 19:47:59,549]\u001b[0m Trial 9 finished with value: 0.14380064509954127 and parameters: {'num_leaves': 195}. Best is trial 8 with value: 0.14357418886767306.\u001b[0m\n",
      "num_leaves, val_score: 0.143125:  20%|##        | 4/20 [00:51<03:26, 12.91s/it]\u001b[32m[I 2021-05-23 19:48:09,413]\u001b[0m Trial 10 finished with value: 0.143750860408776 and parameters: {'num_leaves': 35}. Best is trial 8 with value: 0.14357418886767306.\u001b[0m\n",
      "num_leaves, val_score: 0.143125:  25%|##5       | 5/20 [01:04<03:12, 12.86s/it]\u001b[32m[I 2021-05-23 19:48:22,147]\u001b[0m Trial 11 finished with value: 0.1436434495578001 and parameters: {'num_leaves': 101}. Best is trial 8 with value: 0.14357418886767306.\u001b[0m\n",
      "num_leaves, val_score: 0.143125:  30%|###       | 6/20 [01:14<02:47, 12.00s/it]\u001b[32m[I 2021-05-23 19:48:32,147]\u001b[0m Trial 12 finished with value: 0.14349807226432346 and parameters: {'num_leaves': 36}. Best is trial 12 with value: 0.14349807226432346.\u001b[0m\n",
      "num_leaves, val_score: 0.143125:  35%|###5      | 7/20 [01:30<02:52, 13.31s/it]\u001b[32m[I 2021-05-23 19:48:48,509]\u001b[0m Trial 13 finished with value: 0.1438302633412142 and parameters: {'num_leaves': 204}. Best is trial 12 with value: 0.14349807226432346.\u001b[0m\n",
      "num_leaves, val_score: 0.143125:  40%|####      | 8/20 [01:41<02:33, 12.77s/it]\u001b[32m[I 2021-05-23 19:49:00,041]\u001b[0m Trial 14 finished with value: 0.14326693777511715 and parameters: {'num_leaves': 21}. Best is trial 14 with value: 0.14326693777511715.\u001b[0m\n",
      "num_leaves, val_score: 0.143125:  45%|####5     | 9/20 [01:58<02:33, 13.99s/it]\u001b[32m[I 2021-05-23 19:49:16,876]\u001b[0m Trial 15 finished with value: 0.14392461484239602 and parameters: {'num_leaves': 208}. Best is trial 14 with value: 0.14326693777511715.\u001b[0m\n",
      "num_leaves, val_score: 0.143125:  50%|#####     | 10/20 [02:08<02:08, 12.82s/it]\u001b[32m[I 2021-05-23 19:49:26,964]\u001b[0m Trial 16 finished with value: 0.1439569516137524 and parameters: {'num_leaves': 37}. Best is trial 14 with value: 0.14326693777511715.\u001b[0m\n",
      "num_leaves, val_score: 0.143125:  55%|#####5    | 11/20 [02:28<02:13, 14.85s/it]\u001b[32m[I 2021-05-23 19:49:46,531]\u001b[0m Trial 17 finished with value: 0.14441796299207535 and parameters: {'num_leaves': 255}. Best is trial 14 with value: 0.14326693777511715.\u001b[0m\n",
      "num_leaves, val_score: 0.143125:  60%|######    | 12/20 [02:39<01:49, 13.66s/it]\u001b[32m[I 2021-05-23 19:49:57,419]\u001b[0m Trial 18 finished with value: 0.14371846468019453 and parameters: {'num_leaves': 82}. Best is trial 14 with value: 0.14326693777511715.\u001b[0m\n",
      "num_leaves, val_score: 0.143125:  65%|######5   | 13/20 [02:49<01:28, 12.66s/it]\u001b[32m[I 2021-05-23 19:50:07,749]\u001b[0m Trial 19 finished with value: 0.14333441467641087 and parameters: {'num_leaves': 28}. Best is trial 14 with value: 0.14326693777511715.\u001b[0m\n",
      "num_leaves, val_score: 0.143125:  70%|#######   | 14/20 [03:00<01:11, 11.98s/it]\u001b[32m[I 2021-05-23 19:50:18,151]\u001b[0m Trial 20 finished with value: 0.1465426501285394 and parameters: {'num_leaves': 6}. Best is trial 14 with value: 0.14326693777511715.\u001b[0m\n",
      "num_leaves, val_score: 0.143125:  75%|#######5  | 15/20 [03:10<00:57, 11.49s/it]\u001b[32m[I 2021-05-23 19:50:28,496]\u001b[0m Trial 21 finished with value: 0.14654265012853895 and parameters: {'num_leaves': 6}. Best is trial 14 with value: 0.14326693777511715.\u001b[0m\n",
      "num_leaves, val_score: 0.143125:  80%|########  | 16/20 [03:23<00:47, 11.83s/it]\u001b[32m[I 2021-05-23 19:50:41,121]\u001b[0m Trial 22 finished with value: 0.1436434495578001 and parameters: {'num_leaves': 101}. Best is trial 14 with value: 0.14326693777511715.\u001b[0m\n",
      "num_leaves, val_score: 0.143125:  85%|########5 | 17/20 [03:33<00:34, 11.34s/it]\u001b[32m[I 2021-05-23 19:50:51,305]\u001b[0m Trial 23 finished with value: 0.16264037536271556 and parameters: {'num_leaves': 2}. Best is trial 14 with value: 0.14326693777511715.\u001b[0m\n",
      "num_leaves, val_score: 0.143125:  90%|######### | 18/20 [03:47<00:24, 12.29s/it]\u001b[32m[I 2021-05-23 19:51:05,803]\u001b[0m Trial 24 finished with value: 0.14402292776165773 and parameters: {'num_leaves': 147}. Best is trial 14 with value: 0.14326693777511715.\u001b[0m\n",
      "num_leaves, val_score: 0.143125:  95%|#########5| 19/20 [03:59<00:12, 12.15s/it]\u001b[32m[I 2021-05-23 19:51:17,646]\u001b[0m Trial 25 finished with value: 0.1434605331574477 and parameters: {'num_leaves': 67}. Best is trial 14 with value: 0.14326693777511715.\u001b[0m\n",
      "num_leaves, val_score: 0.143125: 100%|##########| 20/20 [04:10<00:00, 11.67s/it]\u001b[32m[I 2021-05-23 19:51:28,174]\u001b[0m Trial 26 finished with value: 0.1434269843553785 and parameters: {'num_leaves': 25}. Best is trial 14 with value: 0.14326693777511715.\u001b[0m\n",
      "num_leaves, val_score: 0.143125: 100%|##########| 20/20 [04:10<00:00, 12.50s/it]\n",
      "bagging, val_score: 0.143125:  10%|#         | 1/10 [00:09<01:21,  9.09s/it]\u001b[32m[I 2021-05-23 19:51:37,277]\u001b[0m Trial 27 finished with value: 0.14473149168070495 and parameters: {'bagging_fraction': 0.6580611638366213, 'bagging_freq': 3}. Best is trial 27 with value: 0.14473149168070495.\u001b[0m\n",
      "bagging, val_score: 0.143125:  20%|##        | 2/10 [00:19<01:16,  9.53s/it]\u001b[32m[I 2021-05-23 19:51:47,838]\u001b[0m Trial 28 finished with value: 0.14428694342206863 and parameters: {'bagging_fraction': 0.6673992239082763, 'bagging_freq': 1}. Best is trial 28 with value: 0.14428694342206863.\u001b[0m\n",
      "bagging, val_score: 0.143125:  30%|###       | 3/10 [00:26<01:01,  8.74s/it]\u001b[32m[I 2021-05-23 19:51:54,719]\u001b[0m Trial 29 finished with value: 0.1449196515478351 and parameters: {'bagging_fraction': 0.5086637184801674, 'bagging_freq': 2}. Best is trial 28 with value: 0.14428694342206863.\u001b[0m\n",
      "bagging, val_score: 0.143125:  40%|####      | 4/10 [00:32<00:47,  7.92s/it]\u001b[32m[I 2021-05-23 19:52:00,730]\u001b[0m Trial 30 finished with value: 0.1467007173744513 and parameters: {'bagging_fraction': 0.41712900832745003, 'bagging_freq': 6}. Best is trial 28 with value: 0.14428694342206863.\u001b[0m\n",
      "bagging, val_score: 0.143125:  50%|#####     | 5/10 [00:42<00:43,  8.64s/it]\u001b[32m[I 2021-05-23 19:52:11,036]\u001b[0m Trial 31 finished with value: 0.14377858309480987 and parameters: {'bagging_fraction': 0.7314968646582396, 'bagging_freq': 1}. Best is trial 31 with value: 0.14377858309480987.\u001b[0m\n",
      "bagging, val_score: 0.143125:  60%|######    | 6/10 [00:52<00:35,  8.89s/it]\u001b[32m[I 2021-05-23 19:52:20,535]\u001b[0m Trial 32 finished with value: 0.14458007851567825 and parameters: {'bagging_fraction': 0.6211463614821957, 'bagging_freq': 4}. Best is trial 31 with value: 0.14377858309480987.\u001b[0m\n",
      "bagging, val_score: 0.143125:  70%|#######   | 7/10 [01:04<00:29,  9.73s/it]\u001b[32m[I 2021-05-23 19:52:32,209]\u001b[0m Trial 33 finished with value: 0.14337535685710645 and parameters: {'bagging_fraction': 0.9756130425151649, 'bagging_freq': 3}. Best is trial 33 with value: 0.14337535685710645.\u001b[0m\n",
      "bagging, val_score: 0.143125:  80%|########  | 8/10 [01:11<00:18,  9.09s/it]\u001b[32m[I 2021-05-23 19:52:39,824]\u001b[0m Trial 34 finished with value: 0.14504176421577267 and parameters: {'bagging_fraction': 0.508846686801626, 'bagging_freq': 6}. Best is trial 33 with value: 0.14337535685710645.\u001b[0m\n",
      "bagging, val_score: 0.143125:  90%|######### | 9/10 [01:23<00:09,  9.97s/it]\u001b[32m[I 2021-05-23 19:52:51,833]\u001b[0m Trial 35 finished with value: 0.14360963279266056 and parameters: {'bagging_fraction': 0.9418077415827982, 'bagging_freq': 6}. Best is trial 33 with value: 0.14337535685710645.\u001b[0m\n",
      "bagging, val_score: 0.143125: 100%|##########| 10/10 [01:32<00:00,  9.65s/it]\u001b[32m[I 2021-05-23 19:53:00,750]\u001b[0m Trial 36 finished with value: 0.14439215078725262 and parameters: {'bagging_fraction': 0.5749207183300079, 'bagging_freq': 1}. Best is trial 33 with value: 0.14337535685710645.\u001b[0m\n",
      "bagging, val_score: 0.143125: 100%|##########| 10/10 [01:32<00:00,  9.26s/it]\n",
      "feature_fraction_stage2, val_score: 0.143125:  17%|#6        | 1/6 [00:10<00:51, 10.32s/it]\u001b[32m[I 2021-05-23 19:53:11,075]\u001b[0m Trial 37 finished with value: 0.14312469141868436 and parameters: {'feature_fraction': 0.716}. Best is trial 37 with value: 0.14312469141868436.\u001b[0m\n",
      "feature_fraction_stage2, val_score: 0.143125:  33%|###3      | 2/6 [00:21<00:42, 10.68s/it]\u001b[32m[I 2021-05-23 19:53:22,594]\u001b[0m Trial 38 finished with value: 0.14351285844140196 and parameters: {'feature_fraction': 0.6839999999999999}. Best is trial 37 with value: 0.14312469141868436.\u001b[0m\n",
      "feature_fraction_stage2, val_score: 0.143125:  50%|#####     | 3/6 [00:33<00:32, 10.95s/it]\u001b[32m[I 2021-05-23 19:53:34,181]\u001b[0m Trial 39 finished with value: 0.1435985734884051 and parameters: {'feature_fraction': 0.62}. Best is trial 37 with value: 0.14312469141868436.\u001b[0m\n",
      "feature_fraction_stage2, val_score: 0.143125:  67%|######6   | 4/6 [00:44<00:22, 11.07s/it]\u001b[32m[I 2021-05-23 19:53:45,535]\u001b[0m Trial 40 finished with value: 0.14359857348840507 and parameters: {'feature_fraction': 0.652}. Best is trial 37 with value: 0.14312469141868436.\u001b[0m\n",
      "feature_fraction_stage2, val_score: 0.143090:  83%|########3 | 5/6 [00:55<00:11, 11.11s/it]\u001b[32m[I 2021-05-23 19:53:56,732]\u001b[0m Trial 41 finished with value: 0.14309025631217684 and parameters: {'feature_fraction': 0.7799999999999999}. Best is trial 41 with value: 0.14309025631217684.\u001b[0m\n",
      "feature_fraction_stage2, val_score: 0.143090: 100%|##########| 6/6 [01:07<00:00, 11.12s/it]\u001b[32m[I 2021-05-23 19:54:07,878]\u001b[0m Trial 42 finished with value: 0.14309025631217678 and parameters: {'feature_fraction': 0.748}. Best is trial 42 with value: 0.14309025631217678.\u001b[0m\n",
      "feature_fraction_stage2, val_score: 0.143090: 100%|##########| 6/6 [01:07<00:00, 11.19s/it]\n",
      "regularization_factors, val_score: 0.143090:   5%|5         | 1/20 [00:11<03:32, 11.21s/it]\u001b[32m[I 2021-05-23 19:54:19,092]\u001b[0m Trial 43 finished with value: 0.14331698576139587 and parameters: {'lambda_l1': 7.797490661614976e-06, 'lambda_l2': 0.0004362017455922052}. Best is trial 43 with value: 0.14331698576139587.\u001b[0m\n",
      "regularization_factors, val_score: 0.143090:  10%|#         | 2/20 [00:22<03:22, 11.26s/it]\u001b[32m[I 2021-05-23 19:54:30,478]\u001b[0m Trial 44 finished with value: 0.1434653705650298 and parameters: {'lambda_l1': 7.44674769745475e-08, 'lambda_l2': 0.006529437580726655}. Best is trial 43 with value: 0.14331698576139587.\u001b[0m\n",
      "regularization_factors, val_score: 0.142229:  15%|#5        | 3/20 [00:36<03:25, 12.06s/it]\u001b[32m[I 2021-05-23 19:54:44,409]\u001b[0m Trial 45 finished with value: 0.14222944852875363 and parameters: {'lambda_l1': 2.1151779022110595e-05, 'lambda_l2': 3.6708881077581497}. Best is trial 45 with value: 0.14222944852875363.\u001b[0m\n",
      "regularization_factors, val_score: 0.142229:  20%|##        | 4/20 [00:47<03:07, 11.74s/it]\u001b[32m[I 2021-05-23 19:54:55,389]\u001b[0m Trial 46 finished with value: 0.14259603464151094 and parameters: {'lambda_l1': 0.34723588694242247, 'lambda_l2': 0.9869486862378906}. Best is trial 45 with value: 0.14222944852875363.\u001b[0m\n",
      "regularization_factors, val_score: 0.142229:  25%|##5       | 5/20 [00:58<02:52, 11.49s/it]\u001b[32m[I 2021-05-23 19:55:06,306]\u001b[0m Trial 47 finished with value: 0.14308971053580408 and parameters: {'lambda_l1': 1.2219033602335777e-08, 'lambda_l2': 5.130168805243738e-07}. Best is trial 45 with value: 0.14222944852875363.\u001b[0m\n",
      "regularization_factors, val_score: 0.142229:  30%|###       | 6/20 [01:10<02:41, 11.54s/it]\u001b[32m[I 2021-05-23 19:55:17,965]\u001b[0m Trial 48 finished with value: 0.14317439375654115 and parameters: {'lambda_l1': 0.07838571240370834, 'lambda_l2': 1.5253161596224093e-07}. Best is trial 45 with value: 0.14222944852875363.\u001b[0m\n",
      "regularization_factors, val_score: 0.142229:  35%|###5      | 7/20 [01:21<02:29, 11.51s/it]\u001b[32m[I 2021-05-23 19:55:29,386]\u001b[0m Trial 49 finished with value: 0.14302775258321201 and parameters: {'lambda_l1': 0.5340922683252126, 'lambda_l2': 5.7364383059954875e-06}. Best is trial 45 with value: 0.14222944852875363.\u001b[0m\n",
      "regularization_factors, val_score: 0.142229:  40%|####      | 8/20 [01:32<02:15, 11.30s/it]\u001b[32m[I 2021-05-23 19:55:40,196]\u001b[0m Trial 50 finished with value: 0.14342585405574937 and parameters: {'lambda_l1': 0.007727853236867937, 'lambda_l2': 0.0015316776325750244}. Best is trial 45 with value: 0.14222944852875363.\u001b[0m\n",
      "regularization_factors, val_score: 0.142229:  45%|####5     | 9/20 [01:43<02:03, 11.20s/it]\u001b[32m[I 2021-05-23 19:55:51,187]\u001b[0m Trial 51 finished with value: 0.1430454054818857 and parameters: {'lambda_l1': 5.63963337504828e-05, 'lambda_l2': 0.00025743900409267524}. Best is trial 45 with value: 0.14222944852875363.\u001b[0m\n",
      "regularization_factors, val_score: 0.142229:  50%|#####     | 10/20 [01:55<01:54, 11.41s/it]\u001b[32m[I 2021-05-23 19:56:03,078]\u001b[0m Trial 52 finished with value: 0.14311989890654297 and parameters: {'lambda_l1': 0.0282776403284927, 'lambda_l2': 0.10498923580122192}. Best is trial 45 with value: 0.14222944852875363.\u001b[0m\n",
      "regularization_factors, val_score: 0.142124:  55%|#####5    | 11/20 [02:07<01:44, 11.65s/it]\u001b[32m[I 2021-05-23 19:56:15,276]\u001b[0m Trial 53 finished with value: 0.14212400068789077 and parameters: {'lambda_l1': 1.2358412258283023e-06, 'lambda_l2': 7.541355578565014}. Best is trial 53 with value: 0.14212400068789077.\u001b[0m\n",
      "regularization_factors, val_score: 0.142063:  60%|######    | 12/20 [02:20<01:37, 12.13s/it]\u001b[32m[I 2021-05-23 19:56:28,524]\u001b[0m Trial 54 finished with value: 0.142062562082975 and parameters: {'lambda_l1': 8.982258204990467e-07, 'lambda_l2': 4.605385202853453}. Best is trial 54 with value: 0.142062562082975.\u001b[0m\n",
      "regularization_factors, val_score: 0.142063:  65%|######5   | 13/20 [02:35<01:30, 12.86s/it]\u001b[32m[I 2021-05-23 19:56:43,091]\u001b[0m Trial 55 finished with value: 0.1424284108954702 and parameters: {'lambda_l1': 5.974449099683185e-07, 'lambda_l2': 7.0402461964444685}. Best is trial 54 with value: 0.142062562082975.\u001b[0m\n",
      "regularization_factors, val_score: 0.142063:  70%|#######   | 14/20 [02:47<01:16, 12.69s/it]\u001b[32m[I 2021-05-23 19:56:55,399]\u001b[0m Trial 56 finished with value: 0.1431638013184573 and parameters: {'lambda_l1': 1.5176186314853501e-06, 'lambda_l2': 0.08291629585934014}. Best is trial 54 with value: 0.142062562082975.\u001b[0m\n",
      "regularization_factors, val_score: 0.141919:  75%|#######5  | 15/20 [03:02<01:07, 13.41s/it]\u001b[32m[I 2021-05-23 19:57:10,486]\u001b[0m Trial 57 finished with value: 0.14191858476237512 and parameters: {'lambda_l1': 1.619246801524985e-08, 'lambda_l2': 9.781097821392834}. Best is trial 57 with value: 0.14191858476237512.\u001b[0m\n",
      "regularization_factors, val_score: 0.141919:  80%|########  | 16/20 [03:14<00:52, 13.09s/it]\u001b[32m[I 2021-05-23 19:57:22,825]\u001b[0m Trial 58 finished with value: 0.14324386599900982 and parameters: {'lambda_l1': 1.3112370025438303e-08, 'lambda_l2': 0.07153988152259057}. Best is trial 57 with value: 0.14191858476237512.\u001b[0m\n",
      "regularization_factors, val_score: 0.141919:  85%|########5 | 17/20 [03:25<00:37, 12.44s/it]\u001b[32m[I 2021-05-23 19:57:33,761]\u001b[0m Trial 59 finished with value: 0.14255221330896004 and parameters: {'lambda_l1': 0.0011471307651389853, 'lambda_l2': 0.8671232320802331}. Best is trial 57 with value: 0.14191858476237512.\u001b[0m\n",
      "regularization_factors, val_score: 0.141919:  90%|######### | 18/20 [03:41<00:26, 13.26s/it]\u001b[32m[I 2021-05-23 19:57:48,933]\u001b[0m Trial 60 finished with value: 0.14221147171357143 and parameters: {'lambda_l1': 1.0686220762487606e-07, 'lambda_l2': 8.892389585952934}. Best is trial 57 with value: 0.14191858476237512.\u001b[0m\n",
      "regularization_factors, val_score: 0.141919:  95%|#########5| 19/20 [03:51<00:12, 12.57s/it]\u001b[32m[I 2021-05-23 19:57:59,885]\u001b[0m Trial 61 finished with value: 0.14333655410709578 and parameters: {'lambda_l1': 0.0002079275012093779, 'lambda_l2': 1.5817491415163144e-08}. Best is trial 57 with value: 0.14191858476237512.\u001b[0m\n",
      "regularization_factors, val_score: 0.141919: 100%|##########| 20/20 [04:03<00:00, 12.22s/it]\u001b[32m[I 2021-05-23 19:58:11,287]\u001b[0m Trial 62 finished with value: 0.14287703140652167 and parameters: {'lambda_l1': 1.0581236583638945e-08, 'lambda_l2': 0.639505265662912}. Best is trial 57 with value: 0.14191858476237512.\u001b[0m\n",
      "regularization_factors, val_score: 0.141919: 100%|##########| 20/20 [04:03<00:00, 12.17s/it]\n",
      "min_data_in_leaf, val_score: 0.141919:  20%|##        | 1/5 [00:14<00:57, 14.40s/it]\u001b[32m[I 2021-05-23 19:58:25,700]\u001b[0m Trial 63 finished with value: 0.14203908013777078 and parameters: {'min_child_samples': 50}. Best is trial 63 with value: 0.14203908013777078.\u001b[0m\n",
      "min_data_in_leaf, val_score: 0.141919:  40%|####      | 2/5 [00:29<00:43, 14.50s/it]\u001b[32m[I 2021-05-23 19:58:40,425]\u001b[0m Trial 64 finished with value: 0.14223156832384745 and parameters: {'min_child_samples': 10}. Best is trial 63 with value: 0.14203908013777078.\u001b[0m\n",
      "min_data_in_leaf, val_score: 0.141919:  60%|######    | 3/5 [00:41<00:27, 13.99s/it]\u001b[32m[I 2021-05-23 19:58:53,227]\u001b[0m Trial 65 finished with value: 0.14205251448511658 and parameters: {'min_child_samples': 25}. Best is trial 63 with value: 0.14203908013777078.\u001b[0m\n",
      "min_data_in_leaf, val_score: 0.141919:  80%|########  | 4/5 [00:57<00:14, 14.35s/it]\u001b[32m[I 2021-05-23 19:59:08,431]\u001b[0m Trial 66 finished with value: 0.14192346407659434 and parameters: {'min_child_samples': 5}. Best is trial 66 with value: 0.14192346407659434.\u001b[0m\n",
      "min_data_in_leaf, val_score: 0.141919: 100%|##########| 5/5 [01:12<00:00, 14.60s/it]\u001b[32m[I 2021-05-23 19:59:23,614]\u001b[0m Trial 67 finished with value: 0.14204566501853066 and parameters: {'min_child_samples': 100}. Best is trial 66 with value: 0.14192346407659434.\u001b[0m\n",
      "min_data_in_leaf, val_score: 0.141919: 100%|##########| 5/5 [01:12<00:00, 14.46s/it]"
     ]
    },
    {
     "name": "stdout",
     "output_type": "stream",
     "text": [
      "Best score: 0.14191858476237512\n",
      "Best params: {'objective': 'binary', 'metric': 'binary_logloss', 'verbosity': -1, 'boosting_type': 'gbdt', 'feature_pre_filter': False, 'lambda_l1': 1.619246801524985e-08, 'lambda_l2': 9.781097821392834, 'num_leaves': 31, 'feature_fraction': 0.748, 'bagging_fraction': 1.0, 'bagging_freq': 0, 'min_child_samples': 20}\n",
      "  Params: \n",
      "    objective: binary\n",
      "    metric: binary_logloss\n",
      "    verbosity: -1\n",
      "    boosting_type: gbdt\n",
      "    feature_pre_filter: False\n",
      "    lambda_l1: 1.619246801524985e-08\n",
      "    lambda_l2: 9.781097821392834\n",
      "    num_leaves: 31\n",
      "    feature_fraction: 0.748\n",
      "    bagging_fraction: 1.0\n",
      "    bagging_freq: 0\n",
      "    min_child_samples: 20\n"
     ]
    },
    {
     "name": "stderr",
     "output_type": "stream",
     "text": [
      "\n"
     ]
    }
   ],
   "source": [
    "from sklearn.model_selection import KFold\n",
    "\n",
    "import optuna.integration.lightgbm as lgb\n",
    "\n",
    "\n",
    "dtrain = lgb.Dataset(X_25_shap, label=y)\n",
    "\n",
    "params = {\n",
    "    \"objective\": \"binary\",\n",
    "    \"metric\": \"binary_logloss\",\n",
    "    \"verbosity\": -1,\n",
    "    \"boosting_type\": \"gbdt\",\n",
    "}\n",
    "\n",
    "tuner = lgb.LightGBMTunerCV(\n",
    "    params, dtrain, verbose_eval=0, early_stopping_rounds=100, folds=KFold(n_splits=3), show_progress_bar=True\n",
    ")\n",
    "\n",
    "tuner.run()\n",
    "\n",
    "print(\"Best score:\", tuner.best_score)\n",
    "best_params = tuner.best_params\n",
    "print(\"Best params:\", best_params)\n",
    "print(\"  Params: \")\n",
    "for key, value in best_params.items():\n",
    "    print(\"    {}: {}\".format(key, value))"
   ]
  },
  {
   "cell_type": "code",
   "execution_count": 24,
   "metadata": {},
   "outputs": [
    {
     "name": "stdout",
     "output_type": "stream",
     "text": [
      "Accuracy: 0.943 (0.002)\n"
     ]
    },
    {
     "data": {
      "text/plain": [
       "LGBMClassifier(boosting_type='gbdt', class_weight=None, colsample_bytree=1.0,\n",
       "               importance_type='split', learning_rate=0.1, max_depth=-1,\n",
       "               min_child_samples=20, min_child_weight=0.001, min_split_gain=0.0,\n",
       "               n_estimators=100, n_jobs=-1, num_leaves=31, objective=None,\n",
       "               random_state=None, reg_alpha=0.0, reg_lambda=0.0, silent=True,\n",
       "               subsample=1.0, subsample_for_bin=200000, subsample_freq=0)"
      ]
     },
     "execution_count": 24,
     "metadata": {},
     "output_type": "execute_result"
    }
   ],
   "source": [
    "data_train = lgb.Dataset(X_25_shap, label=y)\n",
    "params = best_params\n",
    "\n",
    "\n",
    "# evaluate the model\n",
    "\n",
    "model = LGBMClassifier()\n",
    "cv = RepeatedStratifiedKFold(n_splits=10, n_repeats=3, random_state=1)\n",
    "n_scores = cross_val_score(model, X_25_shap, y, scoring='accuracy', cv=cv, n_jobs=-1, error_score='raise')\n",
    "print('Accuracy: %.3f (%.3f)' % (np.mean(n_scores), np.std(n_scores)))\n",
    "# fit the model on the whole dataset\n",
    "model.fit(X_25_shap, y)"
   ]
  },
  {
   "cell_type": "code",
   "execution_count": 122,
   "metadata": {},
   "outputs": [],
   "source": [
    "## XGBoost classifier"
   ]
  },
  {
   "cell_type": "code",
   "execution_count": 148,
   "metadata": {},
   "outputs": [],
   "source": [
    "from xgboost import XGBClassifier"
   ]
  },
  {
   "cell_type": "code",
   "execution_count": 153,
   "metadata": {},
   "outputs": [],
   "source": [
    "def XGB_CrossValidation(n_estimators, learning_rate, max_depth, data, targets):\n",
    "    \"\"\"Decision Tree cross validation.\n",
    "       Fits a Decision Tree with the given paramaters to the target \n",
    "       given data, calculated a CV accuracy score and returns the mean.\n",
    "       The goal is to find combinations\n",
    "       that maximize the accuracy\n",
    "    \"\"\"\n",
    "    \n",
    "    estimator = XGBClassifier(n_estimators=n_estimators, learning_rate=learning_rate, \n",
    "                                 max_depth=max_depth, random_state=0)\n",
    "    \n",
    "    cval = cross_val_score(estimator, data, targets, scoring='neg_log_loss', cv=5)\n",
    "    \n",
    "    return cval.mean()"
   ]
  },
  {
   "cell_type": "code",
   "execution_count": 154,
   "metadata": {},
   "outputs": [],
   "source": [
    "def optimize_XGB(data, targets, pars, n_iter=5):\n",
    "    \"\"\"Apply Bayesian Optimization to Decision Tree parameters.\"\"\"\n",
    "    \n",
    "    def crossval_wrapper(n_estimators, learning_rate, max_depth):\n",
    "        \"\"\"Wrapper of Decision Tree cross validation. \n",
    "           max_depth and n_estimators\n",
    "           are cast to integer before we pass them along.\n",
    "        \"\"\"\n",
    "        return XGB_CrossValidation(n_estimators=int(n_estimators), \n",
    "                                            learning_rate=learning_rate, \n",
    "                                            max_depth=int(max_depth),\n",
    "                                            data=data, \n",
    "                                            targets=targets)\n",
    "\n",
    "    optimizer = BayesianOptimization(f=crossval_wrapper, \n",
    "                                     pbounds=pars, \n",
    "                                     random_state=42, \n",
    "                                     verbose=2)\n",
    "    optimizer.maximize(init_points=4, n_iter=n_iter)\n",
    "\n",
    "    return optimizer"
   ]
  },
  {
   "cell_type": "code",
   "execution_count": 157,
   "metadata": {},
   "outputs": [
    {
     "name": "stdout",
     "output_type": "stream",
     "text": [
      "|   iter    |  target   | learni... | max_depth | n_esti... |\n",
      "-------------------------------------------------------------\n",
      "| \u001b[0m 1       \u001b[0m | \u001b[0m-0.1497  \u001b[0m | \u001b[0m 0.3746  \u001b[0m | \u001b[0m 4.803   \u001b[0m | \u001b[0m 379.4   \u001b[0m |\n",
      "| \u001b[0m 2       \u001b[0m | \u001b[0m-0.1659  \u001b[0m | \u001b[0m 0.5987  \u001b[0m | \u001b[0m 1.624   \u001b[0m | \u001b[0m 120.2   \u001b[0m |\n",
      "| \u001b[95m 3       \u001b[0m | \u001b[95m-0.1468  \u001b[0m | \u001b[95m 0.05818 \u001b[0m | \u001b[95m 4.465   \u001b[0m | \u001b[95m 320.5   \u001b[0m |\n",
      "| \u001b[0m 4       \u001b[0m | \u001b[0m-0.1605  \u001b[0m | \u001b[0m 0.7081  \u001b[0m | \u001b[0m 1.082   \u001b[0m | \u001b[0m 486.5   \u001b[0m |\n",
      "| \u001b[0m 5       \u001b[0m | \u001b[0m-0.1611  \u001b[0m | \u001b[0m 0.9906  \u001b[0m | \u001b[0m 1.013   \u001b[0m | \u001b[0m 299.7   \u001b[0m |\n",
      "| \u001b[0m 6       \u001b[0m | \u001b[0m-0.189   \u001b[0m | \u001b[0m 0.05956 \u001b[0m | \u001b[0m 4.964   \u001b[0m | \u001b[0m 50.2    \u001b[0m |\n",
      "| \u001b[0m 7       \u001b[0m | \u001b[0m-0.1647  \u001b[0m | \u001b[0m 0.0247  \u001b[0m | \u001b[0m 4.999   \u001b[0m | \u001b[0m 204.4   \u001b[0m |\n"
     ]
    },
    {
     "name": "stderr",
     "output_type": "stream",
     "text": [
      "divide by zero encountered in log\n",
      "invalid value encountered in multiply\n",
      "divide by zero encountered in log\n",
      "invalid value encountered in multiply\n",
      "divide by zero encountered in log\n",
      "invalid value encountered in multiply\n",
      "divide by zero encountered in log\n",
      "invalid value encountered in multiply\n"
     ]
    },
    {
     "name": "stdout",
     "output_type": "stream",
     "text": [
      "| \u001b[0m 8       \u001b[0m | \u001b[0m nan     \u001b[0m | \u001b[0m 0.9326  \u001b[0m | \u001b[0m 4.997   \u001b[0m | \u001b[0m 499.8   \u001b[0m |\n"
     ]
    },
    {
     "name": "stderr",
     "output_type": "stream",
     "text": [
      "divide by zero encountered in log\n",
      "invalid value encountered in multiply\n"
     ]
    },
    {
     "ename": "ValueError",
     "evalue": "Input contains NaN, infinity or a value too large for dtype('float64').",
     "output_type": "error",
     "traceback": [
      "\u001b[0;31m---------------------------------------------------------------------------\u001b[0m",
      "\u001b[0;31mStopIteration\u001b[0m                             Traceback (most recent call last)",
      "\u001b[0;32m/opt/conda/envs/python3/lib/python3.7/site-packages/bayes_opt/bayesian_optimization.py\u001b[0m in \u001b[0;36mmaximize\u001b[0;34m(self, init_points, n_iter, acq, kappa, xi, **gp_params)\u001b[0m\n\u001b[1;32m    168\u001b[0m             \u001b[0;32mtry\u001b[0m\u001b[0;34m:\u001b[0m\u001b[0;34m\u001b[0m\u001b[0;34m\u001b[0m\u001b[0m\n\u001b[0;32m--> 169\u001b[0;31m                 \u001b[0mx_probe\u001b[0m \u001b[0;34m=\u001b[0m \u001b[0mnext\u001b[0m\u001b[0;34m(\u001b[0m\u001b[0mself\u001b[0m\u001b[0;34m.\u001b[0m\u001b[0m_queue\u001b[0m\u001b[0;34m)\u001b[0m\u001b[0;34m\u001b[0m\u001b[0;34m\u001b[0m\u001b[0m\n\u001b[0m\u001b[1;32m    170\u001b[0m             \u001b[0;32mexcept\u001b[0m \u001b[0mStopIteration\u001b[0m\u001b[0;34m:\u001b[0m\u001b[0;34m\u001b[0m\u001b[0;34m\u001b[0m\u001b[0m\n",
      "\u001b[0;32m/opt/conda/envs/python3/lib/python3.7/site-packages/bayes_opt/bayesian_optimization.py\u001b[0m in \u001b[0;36m__next__\u001b[0;34m(self)\u001b[0m\n\u001b[1;32m     25\u001b[0m         \u001b[0;32mif\u001b[0m \u001b[0mself\u001b[0m\u001b[0;34m.\u001b[0m\u001b[0mempty\u001b[0m\u001b[0;34m:\u001b[0m\u001b[0;34m\u001b[0m\u001b[0;34m\u001b[0m\u001b[0m\n\u001b[0;32m---> 26\u001b[0;31m             \u001b[0;32mraise\u001b[0m \u001b[0mStopIteration\u001b[0m\u001b[0;34m(\u001b[0m\u001b[0;34m\"Queue is empty, no more objects to retrieve.\"\u001b[0m\u001b[0;34m)\u001b[0m\u001b[0;34m\u001b[0m\u001b[0;34m\u001b[0m\u001b[0m\n\u001b[0m\u001b[1;32m     27\u001b[0m         \u001b[0mobj\u001b[0m \u001b[0;34m=\u001b[0m \u001b[0mself\u001b[0m\u001b[0;34m.\u001b[0m\u001b[0m_queue\u001b[0m\u001b[0;34m[\u001b[0m\u001b[0;36m0\u001b[0m\u001b[0;34m]\u001b[0m\u001b[0;34m\u001b[0m\u001b[0;34m\u001b[0m\u001b[0m\n",
      "\u001b[0;31mStopIteration\u001b[0m: Queue is empty, no more objects to retrieve.",
      "\nDuring handling of the above exception, another exception occurred:\n",
      "\u001b[0;31mValueError\u001b[0m                                Traceback (most recent call last)",
      "\u001b[0;32m<ipython-input-157-ab243dc8f93b>\u001b[0m in \u001b[0;36m<module>\u001b[0;34m\u001b[0m\n\u001b[1;32m      7\u001b[0m                                              \u001b[0my\u001b[0m\u001b[0;34m,\u001b[0m\u001b[0;34m\u001b[0m\u001b[0;34m\u001b[0m\u001b[0m\n\u001b[1;32m      8\u001b[0m                                              \u001b[0mparameters_BayesianOptimization\u001b[0m\u001b[0;34m,\u001b[0m\u001b[0;34m\u001b[0m\u001b[0;34m\u001b[0m\u001b[0m\n\u001b[0;32m----> 9\u001b[0;31m                                              n_iter=5)\n\u001b[0m\u001b[1;32m     10\u001b[0m \u001b[0mprint\u001b[0m\u001b[0;34m(\u001b[0m\u001b[0mBayesianOptimization\u001b[0m\u001b[0;34m.\u001b[0m\u001b[0mmax\u001b[0m\u001b[0;34m)\u001b[0m\u001b[0;34m\u001b[0m\u001b[0;34m\u001b[0m\u001b[0m\n",
      "\u001b[0;32m<ipython-input-154-726b8531d611>\u001b[0m in \u001b[0;36moptimize_XGB\u001b[0;34m(data, targets, pars, n_iter)\u001b[0m\n\u001b[1;32m     17\u001b[0m                                      \u001b[0mrandom_state\u001b[0m\u001b[0;34m=\u001b[0m\u001b[0;36m42\u001b[0m\u001b[0;34m,\u001b[0m\u001b[0;34m\u001b[0m\u001b[0;34m\u001b[0m\u001b[0m\n\u001b[1;32m     18\u001b[0m                                      verbose=2)\n\u001b[0;32m---> 19\u001b[0;31m     \u001b[0moptimizer\u001b[0m\u001b[0;34m.\u001b[0m\u001b[0mmaximize\u001b[0m\u001b[0;34m(\u001b[0m\u001b[0minit_points\u001b[0m\u001b[0;34m=\u001b[0m\u001b[0;36m4\u001b[0m\u001b[0;34m,\u001b[0m \u001b[0mn_iter\u001b[0m\u001b[0;34m=\u001b[0m\u001b[0mn_iter\u001b[0m\u001b[0;34m)\u001b[0m\u001b[0;34m\u001b[0m\u001b[0;34m\u001b[0m\u001b[0m\n\u001b[0m\u001b[1;32m     20\u001b[0m \u001b[0;34m\u001b[0m\u001b[0m\n\u001b[1;32m     21\u001b[0m     \u001b[0;32mreturn\u001b[0m \u001b[0moptimizer\u001b[0m\u001b[0;34m\u001b[0m\u001b[0;34m\u001b[0m\u001b[0m\n",
      "\u001b[0;32m/opt/conda/envs/python3/lib/python3.7/site-packages/bayes_opt/bayesian_optimization.py\u001b[0m in \u001b[0;36mmaximize\u001b[0;34m(self, init_points, n_iter, acq, kappa, xi, **gp_params)\u001b[0m\n\u001b[1;32m    169\u001b[0m                 \u001b[0mx_probe\u001b[0m \u001b[0;34m=\u001b[0m \u001b[0mnext\u001b[0m\u001b[0;34m(\u001b[0m\u001b[0mself\u001b[0m\u001b[0;34m.\u001b[0m\u001b[0m_queue\u001b[0m\u001b[0;34m)\u001b[0m\u001b[0;34m\u001b[0m\u001b[0;34m\u001b[0m\u001b[0m\n\u001b[1;32m    170\u001b[0m             \u001b[0;32mexcept\u001b[0m \u001b[0mStopIteration\u001b[0m\u001b[0;34m:\u001b[0m\u001b[0;34m\u001b[0m\u001b[0;34m\u001b[0m\u001b[0m\n\u001b[0;32m--> 171\u001b[0;31m                 \u001b[0mx_probe\u001b[0m \u001b[0;34m=\u001b[0m \u001b[0mself\u001b[0m\u001b[0;34m.\u001b[0m\u001b[0msuggest\u001b[0m\u001b[0;34m(\u001b[0m\u001b[0mutil\u001b[0m\u001b[0;34m)\u001b[0m\u001b[0;34m\u001b[0m\u001b[0;34m\u001b[0m\u001b[0m\n\u001b[0m\u001b[1;32m    172\u001b[0m                 \u001b[0miteration\u001b[0m \u001b[0;34m+=\u001b[0m \u001b[0;36m1\u001b[0m\u001b[0;34m\u001b[0m\u001b[0;34m\u001b[0m\u001b[0m\n\u001b[1;32m    173\u001b[0m \u001b[0;34m\u001b[0m\u001b[0m\n",
      "\u001b[0;32m/opt/conda/envs/python3/lib/python3.7/site-packages/bayes_opt/bayesian_optimization.py\u001b[0m in \u001b[0;36msuggest\u001b[0;34m(self, utility_function)\u001b[0m\n\u001b[1;32m    122\u001b[0m         \u001b[0;32mwith\u001b[0m \u001b[0mwarnings\u001b[0m\u001b[0;34m.\u001b[0m\u001b[0mcatch_warnings\u001b[0m\u001b[0;34m(\u001b[0m\u001b[0;34m)\u001b[0m\u001b[0;34m:\u001b[0m\u001b[0;34m\u001b[0m\u001b[0;34m\u001b[0m\u001b[0m\n\u001b[1;32m    123\u001b[0m             \u001b[0mwarnings\u001b[0m\u001b[0;34m.\u001b[0m\u001b[0msimplefilter\u001b[0m\u001b[0;34m(\u001b[0m\u001b[0;34m\"ignore\"\u001b[0m\u001b[0;34m)\u001b[0m\u001b[0;34m\u001b[0m\u001b[0;34m\u001b[0m\u001b[0m\n\u001b[0;32m--> 124\u001b[0;31m             \u001b[0mself\u001b[0m\u001b[0;34m.\u001b[0m\u001b[0m_gp\u001b[0m\u001b[0;34m.\u001b[0m\u001b[0mfit\u001b[0m\u001b[0;34m(\u001b[0m\u001b[0mself\u001b[0m\u001b[0;34m.\u001b[0m\u001b[0m_space\u001b[0m\u001b[0;34m.\u001b[0m\u001b[0mparams\u001b[0m\u001b[0;34m,\u001b[0m \u001b[0mself\u001b[0m\u001b[0;34m.\u001b[0m\u001b[0m_space\u001b[0m\u001b[0;34m.\u001b[0m\u001b[0mtarget\u001b[0m\u001b[0;34m)\u001b[0m\u001b[0;34m\u001b[0m\u001b[0;34m\u001b[0m\u001b[0m\n\u001b[0m\u001b[1;32m    125\u001b[0m \u001b[0;34m\u001b[0m\u001b[0m\n\u001b[1;32m    126\u001b[0m         \u001b[0;31m# Finding argmax of the acquisition function.\u001b[0m\u001b[0;34m\u001b[0m\u001b[0;34m\u001b[0m\u001b[0;34m\u001b[0m\u001b[0m\n",
      "\u001b[0;32m/opt/conda/envs/python3/lib/python3.7/site-packages/sklearn/gaussian_process/_gpr.py\u001b[0m in \u001b[0;36mfit\u001b[0;34m(self, X, y)\u001b[0m\n\u001b[1;32m    189\u001b[0m         \u001b[0;32mif\u001b[0m \u001b[0mself\u001b[0m\u001b[0;34m.\u001b[0m\u001b[0mkernel_\u001b[0m\u001b[0;34m.\u001b[0m\u001b[0mrequires_vector_input\u001b[0m\u001b[0;34m:\u001b[0m\u001b[0;34m\u001b[0m\u001b[0;34m\u001b[0m\u001b[0m\n\u001b[1;32m    190\u001b[0m             X, y = check_X_y(X, y, multi_output=True, y_numeric=True,\n\u001b[0;32m--> 191\u001b[0;31m                              ensure_2d=True, dtype=\"numeric\")\n\u001b[0m\u001b[1;32m    192\u001b[0m         \u001b[0;32melse\u001b[0m\u001b[0;34m:\u001b[0m\u001b[0;34m\u001b[0m\u001b[0;34m\u001b[0m\u001b[0m\n\u001b[1;32m    193\u001b[0m             X, y = check_X_y(X, y, multi_output=True, y_numeric=True,\n",
      "\u001b[0;32m/opt/conda/envs/python3/lib/python3.7/site-packages/sklearn/utils/validation.py\u001b[0m in \u001b[0;36mcheck_X_y\u001b[0;34m(X, y, accept_sparse, accept_large_sparse, dtype, order, copy, force_all_finite, ensure_2d, allow_nd, multi_output, ensure_min_samples, ensure_min_features, y_numeric, warn_on_dtype, estimator)\u001b[0m\n\u001b[1;32m    756\u001b[0m     \u001b[0;32mif\u001b[0m \u001b[0mmulti_output\u001b[0m\u001b[0;34m:\u001b[0m\u001b[0;34m\u001b[0m\u001b[0;34m\u001b[0m\u001b[0m\n\u001b[1;32m    757\u001b[0m         y = check_array(y, 'csr', force_all_finite=True, ensure_2d=False,\n\u001b[0;32m--> 758\u001b[0;31m                         dtype=None)\n\u001b[0m\u001b[1;32m    759\u001b[0m     \u001b[0;32melse\u001b[0m\u001b[0;34m:\u001b[0m\u001b[0;34m\u001b[0m\u001b[0;34m\u001b[0m\u001b[0m\n\u001b[1;32m    760\u001b[0m         \u001b[0my\u001b[0m \u001b[0;34m=\u001b[0m \u001b[0mcolumn_or_1d\u001b[0m\u001b[0;34m(\u001b[0m\u001b[0my\u001b[0m\u001b[0;34m,\u001b[0m \u001b[0mwarn\u001b[0m\u001b[0;34m=\u001b[0m\u001b[0;32mTrue\u001b[0m\u001b[0;34m)\u001b[0m\u001b[0;34m\u001b[0m\u001b[0;34m\u001b[0m\u001b[0m\n",
      "\u001b[0;32m/opt/conda/envs/python3/lib/python3.7/site-packages/sklearn/utils/validation.py\u001b[0m in \u001b[0;36mcheck_array\u001b[0;34m(array, accept_sparse, accept_large_sparse, dtype, order, copy, force_all_finite, ensure_2d, allow_nd, ensure_min_samples, ensure_min_features, warn_on_dtype, estimator)\u001b[0m\n\u001b[1;32m    576\u001b[0m         \u001b[0;32mif\u001b[0m \u001b[0mforce_all_finite\u001b[0m\u001b[0;34m:\u001b[0m\u001b[0;34m\u001b[0m\u001b[0;34m\u001b[0m\u001b[0m\n\u001b[1;32m    577\u001b[0m             _assert_all_finite(array,\n\u001b[0;32m--> 578\u001b[0;31m                                allow_nan=force_all_finite == 'allow-nan')\n\u001b[0m\u001b[1;32m    579\u001b[0m \u001b[0;34m\u001b[0m\u001b[0m\n\u001b[1;32m    580\u001b[0m     \u001b[0;32mif\u001b[0m \u001b[0mensure_min_samples\u001b[0m \u001b[0;34m>\u001b[0m \u001b[0;36m0\u001b[0m\u001b[0;34m:\u001b[0m\u001b[0;34m\u001b[0m\u001b[0;34m\u001b[0m\u001b[0m\n",
      "\u001b[0;32m/opt/conda/envs/python3/lib/python3.7/site-packages/sklearn/utils/validation.py\u001b[0m in \u001b[0;36m_assert_all_finite\u001b[0;34m(X, allow_nan, msg_dtype)\u001b[0m\n\u001b[1;32m     58\u001b[0m                     \u001b[0mmsg_err\u001b[0m\u001b[0;34m.\u001b[0m\u001b[0mformat\u001b[0m\u001b[0;34m\u001b[0m\u001b[0;34m\u001b[0m\u001b[0m\n\u001b[1;32m     59\u001b[0m                     (type_err,\n\u001b[0;32m---> 60\u001b[0;31m                      msg_dtype if msg_dtype is not None else X.dtype)\n\u001b[0m\u001b[1;32m     61\u001b[0m             )\n\u001b[1;32m     62\u001b[0m     \u001b[0;31m# for object dtype data, we only check for NaNs (GH-13254)\u001b[0m\u001b[0;34m\u001b[0m\u001b[0;34m\u001b[0m\u001b[0;34m\u001b[0m\u001b[0m\n",
      "\u001b[0;31mValueError\u001b[0m: Input contains NaN, infinity or a value too large for dtype('float64')."
     ]
    }
   ],
   "source": [
    "parameters_BayesianOptimization = {\"learning_rate\": (0.0001, 1), \n",
    "                                   \"max_depth\": (1, 5),\n",
    "                                   \"n_estimators\": (50,500)\n",
    "                                  }\n",
    "\n",
    "BayesianOptimization = optimize_XGB(X_25_shap, \n",
    "                                             y, \n",
    "                                             parameters_BayesianOptimization, \n",
    "                                             n_iter=5)\n",
    "print(BayesianOptimization.max)"
   ]
  },
  {
   "cell_type": "code",
   "execution_count": 158,
   "metadata": {},
   "outputs": [
    {
     "ename": "TypeError",
     "evalue": "'property' object is not subscriptable",
     "output_type": "error",
     "traceback": [
      "\u001b[0;31m---------------------------------------------------------------------------\u001b[0m",
      "\u001b[0;31mTypeError\u001b[0m                                 Traceback (most recent call last)",
      "\u001b[0;32m<ipython-input-158-793889738050>\u001b[0m in \u001b[0;36m<module>\u001b[0;34m\u001b[0m\n\u001b[0;32m----> 1\u001b[0;31m xgb = XGBClassifier(n_estimators=int(BayesianOptimization.max['params']['n_estimators']), \n\u001b[0m\u001b[1;32m      2\u001b[0m                                  \u001b[0mlearning_rate\u001b[0m\u001b[0;34m=\u001b[0m\u001b[0mBayesianOptimization\u001b[0m\u001b[0;34m.\u001b[0m\u001b[0mmax\u001b[0m\u001b[0;34m[\u001b[0m\u001b[0;34m'params'\u001b[0m\u001b[0;34m]\u001b[0m\u001b[0;34m[\u001b[0m\u001b[0;34m'learning_rate'\u001b[0m\u001b[0;34m]\u001b[0m\u001b[0;34m,\u001b[0m\u001b[0;34m\u001b[0m\u001b[0;34m\u001b[0m\u001b[0m\n\u001b[1;32m      3\u001b[0m                                  \u001b[0mmax_depth\u001b[0m\u001b[0;34m=\u001b[0m\u001b[0mint\u001b[0m\u001b[0;34m(\u001b[0m\u001b[0mBayesianOptimization\u001b[0m\u001b[0;34m.\u001b[0m\u001b[0mmax\u001b[0m\u001b[0;34m[\u001b[0m\u001b[0;34m'params'\u001b[0m\u001b[0;34m]\u001b[0m\u001b[0;34m[\u001b[0m\u001b[0;34m'max_depth'\u001b[0m\u001b[0;34m]\u001b[0m\u001b[0;34m)\u001b[0m\u001b[0;34m,\u001b[0m\u001b[0;34m\u001b[0m\u001b[0;34m\u001b[0m\u001b[0m\n\u001b[1;32m      4\u001b[0m                                  random_state=0)\n\u001b[1;32m      5\u001b[0m \u001b[0mscores\u001b[0m \u001b[0;34m=\u001b[0m \u001b[0mcross_val_score\u001b[0m\u001b[0;34m(\u001b[0m\u001b[0mxgb\u001b[0m\u001b[0;34m,\u001b[0m \u001b[0mX_25_shap\u001b[0m\u001b[0;34m,\u001b[0m \u001b[0my\u001b[0m\u001b[0;34m,\u001b[0m \u001b[0mcv\u001b[0m\u001b[0;34m=\u001b[0m\u001b[0;36m5\u001b[0m\u001b[0;34m,\u001b[0m \u001b[0mscoring\u001b[0m\u001b[0;34m=\u001b[0m\u001b[0;34m'neg_log_loss'\u001b[0m\u001b[0;34m)\u001b[0m\u001b[0;34m\u001b[0m\u001b[0;34m\u001b[0m\u001b[0m\n",
      "\u001b[0;31mTypeError\u001b[0m: 'property' object is not subscriptable"
     ]
    }
   ],
   "source": [
    "xgb = XGBClassifier(n_estimators=int(BayesianOptimization.max['params']['n_estimators']), \n",
    "                                 learning_rate=BayesianOptimization.max['params']['learning_rate'], \n",
    "                                 max_depth=int(BayesianOptimization.max['params']['max_depth']), \n",
    "                                 random_state=0)\n",
    "scores = cross_val_score(xgb, X_25_shap, y, cv=5, scoring='neg_log_loss') \n",
    "print(f\"{scores.mean():.4f} accuracy with a standard deviation of {scores.std():.4f}\")"
   ]
  },
  {
   "cell_type": "code",
   "execution_count": null,
   "metadata": {},
   "outputs": [],
   "source": [
    "# fit the final model\n",
    "xgb.fit(X_25_shap, y)"
   ]
  },
  {
   "cell_type": "markdown",
   "metadata": {},
   "source": [
    "# Run algos on test data and make output files"
   ]
  },
  {
   "cell_type": "markdown",
   "metadata": {},
   "source": [
    "## LightGBM"
   ]
  },
  {
   "cell_type": "markdown",
   "metadata": {},
   "source": [
    "### Select only the 25 best features"
   ]
  },
  {
   "cell_type": "code",
   "execution_count": 47,
   "metadata": {},
   "outputs": [
    {
     "data": {
      "text/plain": [
       "(160651, 25)"
      ]
     },
     "execution_count": 47,
     "metadata": {},
     "output_type": "execute_result"
    }
   ],
   "source": [
    "transformed_X_test_25 = transformed_X_test.iloc[:,top_25_features.index]\n",
    "transformed_X_test_25.shape"
   ]
  },
  {
   "cell_type": "markdown",
   "metadata": {},
   "source": [
    "### Make continuous classification predictions on the test data using the trained lightGBM model (with shap chosen features and optuna hyp params)"
   ]
  },
  {
   "cell_type": "code",
   "execution_count": 79,
   "metadata": {},
   "outputs": [],
   "source": [
    "lightGBM_test_predictions = model.predict_proba(transformed_X_test_25)[:,0]"
   ]
  },
  {
   "cell_type": "markdown",
   "metadata": {},
   "source": [
    "### Save data predictions in output file"
   ]
  },
  {
   "cell_type": "code",
   "execution_count": 91,
   "metadata": {},
   "outputs": [
    {
     "data": {
      "text/plain": [
       "160651"
      ]
     },
     "execution_count": 91,
     "metadata": {},
     "output_type": "execute_result"
    }
   ],
   "source": [
    "lightGBM_test_predictions.shape[0]"
   ]
  },
  {
   "cell_type": "code",
   "execution_count": 83,
   "metadata": {},
   "outputs": [
    {
     "data": {
      "text/plain": [
       "(array([3.00000e+00, 3.00000e+00, 1.40000e+01, 4.80000e+01, 1.84000e+02,\n",
       "        4.78000e+02, 9.91000e+02, 3.79400e+03, 2.26300e+04, 1.32506e+05]),\n",
       " array([0.05619657, 0.15051285, 0.24482912, 0.3391454 , 0.43346168,\n",
       "        0.52777795, 0.62209423, 0.71641051, 0.81072678, 0.90504306,\n",
       "        0.99935934]),\n",
       " <a list of 10 Patch objects>)"
      ]
     },
     "execution_count": 83,
     "metadata": {},
     "output_type": "execute_result"
    },
    {
     "data": {
      "image/png": "[encoded data removed]",
      "text/plain": [
       "<Figure size 432x288 with 1 Axes>"
      ]
     },
     "metadata": {
      "needs_background": "light"
     },
     "output_type": "display_data"
    }
   ],
   "source": [
    "plt.hist(lightGBM_test_predictions)"
   ]
  },
  {
   "cell_type": "code",
   "execution_count": 106,
   "metadata": {},
   "outputs": [],
   "source": [
    "out_df=pandas.DataFrame(lightGBM_test_predictions)"
   ]
  },
  {
   "cell_type": "code",
   "execution_count": 112,
   "metadata": {},
   "outputs": [],
   "source": [
    "out_df.to_csv('solutions/Classification_NiallGray_LightGBMAlgo.txt',header=False)"
   ]
  },
  {
   "cell_type": "code",
   "execution_count": 105,
   "metadata": {},
   "outputs": [
    {
     "data": {
      "text/plain": [
       "array([0.98698023, 0.86010173, 0.89974283, 0.78812873, 0.998884  ,\n",
       "       0.96924959, 0.96613005, 0.95821074, 0.99438984, 0.91629155])"
      ]
     },
     "execution_count": 105,
     "metadata": {},
     "output_type": "execute_result"
    }
   ],
   "source": [
    "lightGBM_test_predictions[0:10]"
   ]
  },
  {
   "cell_type": "markdown",
   "metadata": {},
   "source": [
    "### Save the variables list"
   ]
  },
  {
   "cell_type": "code",
   "execution_count": 121,
   "metadata": {},
   "outputs": [],
   "source": [
    "top_25_features.feature_name.to_csv('solutions/Classification_NiallGray_LightGBMAlgo_VariableList.txt',index=False, header=False)"
   ]
  },
  {
   "cell_type": "markdown",
   "metadata": {},
   "source": [
    "## XGBoost"
   ]
  },
  {
   "cell_type": "code",
   "execution_count": 133,
   "metadata": {},
   "outputs": [],
   "source": [
    "XGBoost_test_predictions = xgb.predict_proba(transformed_X_test_25)[:,0]"
   ]
  },
  {
   "cell_type": "code",
   "execution_count": 134,
   "metadata": {},
   "outputs": [
    {
     "data": {
      "text/plain": [
       "(array([2.2000e+01, 2.4000e+01, 4.2000e+01, 4.6000e+01, 6.9000e+01,\n",
       "        8.9000e+01, 1.2000e+02, 2.2300e+02, 7.0600e+02, 1.5931e+05]),\n",
       " array([0.02530468, 0.12277421, 0.22024374, 0.31771326, 0.4151828 ,\n",
       "        0.51265234, 0.61012185, 0.7075914 , 0.8050609 , 0.9025305 ,\n",
       "        1.        ], dtype=float32),\n",
       " <a list of 10 Patch objects>)"
      ]
     },
     "execution_count": 134,
     "metadata": {},
     "output_type": "execute_result"
    },
    {
     "data": {
      "image/png": "[encoded data removed]",
      "text/plain": [
       "<Figure size 432x288 with 1 Axes>"
      ]
     },
     "metadata": {
      "needs_background": "light"
     },
     "output_type": "display_data"
    }
   ],
   "source": [
    "plt.hist(XGBoost_test_predictions)"
   ]
  },
  {
   "cell_type": "code",
   "execution_count": 135,
   "metadata": {},
   "outputs": [],
   "source": [
    "out_df_xgb=pandas.DataFrame(XGBoost_test_predictions)"
   ]
  },
  {
   "cell_type": "code",
   "execution_count": 136,
   "metadata": {},
   "outputs": [],
   "source": [
    "out_df_xgb.to_csv('solutions/Classification_NiallGray_xgboost.txt',header=False)"
   ]
  },
  {
   "cell_type": "code",
   "execution_count": 137,
   "metadata": {},
   "outputs": [],
   "source": [
    "top_25_features.feature_name.to_csv('solutions/Classification_NiallGray_xgboost_VariableList.txt',index=False, header=False)"
   ]
  },
  {
   "cell_type": "code",
   "execution_count": null,
   "metadata": {},
   "outputs": [],
   "source": []
  }
 ],
 "metadata": {
  "kernelspec": {
   "display_name": "AML",
   "language": "python",
   "name": "aml"
  },
  "language_info": {
   "codemirror_mode": {
    "name": "ipython",
    "version": 3
   },
   "file_extension": ".py",
   "mimetype": "text/x-python",
   "name": "python",
   "nbconvert_exporter": "python",
   "pygments_lexer": "ipython3",
   "version": "3.8.8"
  },
  "toc": {
   "base_numbering": 1,
   "nav_menu": {},
   "number_sections": false,
   "sideBar": true,
   "skip_h1_title": false,
   "title_cell": "Table of Contents",
   "title_sidebar": "Contents",
   "toc_cell": false,
   "toc_position": {},
   "toc_section_display": true,
   "toc_window_display": false
  },
  "varInspector": {
   "cols": {
    "lenName": 16,
    "lenType": 16,
    "lenVar": 40
   },
   "kernels_config": {
    "python": {
     "delete_cmd_postfix": "",
     "delete_cmd_prefix": "del ",
     "library": "var_list.py",
     "varRefreshCmd": "print(var_dic_list())"
    },
    "r": {
     "delete_cmd_postfix": ") ",
     "delete_cmd_prefix": "rm(",
     "library": "var_list.r",
     "varRefreshCmd": "cat(var_dic_list()) "
    }
   },
   "types_to_exclude": [
    "module",
    "function",
    "builtin_function_or_method",
    "instance",
    "_Feature"
   ],
   "window_display": false
  }
 },
 "nbformat": 4,
 "nbformat_minor": 4
}
