{
 "cells": [
  {
   "cell_type": "markdown",
   "metadata": {},
   "source": [
    "# Regression using neural network models\n",
    "\n",
    "Estimate (i.e. make regression for) the energy of electrons. This should be based on maximum 15 variables from the Electron Variable List. The target variable for this task is \"p_truth_E\": Energy (in GeV) of the electrons, and you should only train on real (i.e. truth identified, \"Truth==1\") electrons. Note: It is an advantage to ONLY train the regression on true electrons (Truth = 1), but when submitting the solution, the regression estimate should be applied to ALL candidates, as you don't (perfectly) know, which are electrons, and which are not. We evaluate algorithm performance by considering Mean Absolute Error (MAE) on relative estimate accuracy: (E_pred-E_true)/E_true."
   ]
  },
  {
   "cell_type": "markdown",
   "metadata": {},
   "source": [
    "We start by opening the files and loading them into a Numpy array"
   ]
  },
  {
   "cell_type": "code",
   "execution_count": 23,
   "metadata": {},
   "outputs": [],
   "source": [
    "import h5py\n",
    "import pandas\n",
    "from copy import deepcopy\n",
    "import numpy as np\n",
    "from sklearn.preprocessing import RobustScaler\n",
    "from sklearn.ensemble import GradientBoostingClassifier\n",
    "from bayes_opt import BayesianOptimization\n",
    "from sklearn.model_selection import cross_val_score\n",
    "import seaborn as sns"
   ]
  },
  {
   "cell_type": "code",
   "execution_count": 24,
   "metadata": {},
   "outputs": [],
   "source": [
    "def load_data(name):\n",
    "    with h5py.File(f'{name}.h5', 'r') as f:\n",
    "        return pandas.DataFrame(f[name][:])\n",
    "\n",
    "train = load_data('train')\n",
    "test  = load_data('test')"
   ]
  },
  {
   "cell_type": "code",
   "execution_count": 25,
   "metadata": {},
   "outputs": [],
   "source": [
    "## temporarily use a fraction of the data to speed everything up\n",
    "#train=train.sample(frac = 0.3)"
   ]
  },
  {
   "cell_type": "markdown",
   "metadata": {},
   "source": [
    "Then we can verify the shape"
   ]
  },
  {
   "cell_type": "code",
   "execution_count": 26,
   "metadata": {},
   "outputs": [
    {
     "name": "stdout",
     "output_type": "stream",
     "text": [
      "Shape of training data set: (162500, 166)\n",
      "Shape of test data set: (160651, 164)\n"
     ]
    }
   ],
   "source": [
    "print (f'Shape of training data set: {train.shape}')\n",
    "print (f'Shape of test data set: {test.shape}')"
   ]
  },
  {
   "cell_type": "markdown",
   "metadata": {},
   "source": [
    "As expected, the test set contains 2 columns less: `Truth` and `p_truth_E`.\n",
    "    \n",
    "Then we copy the variable list from the course website <https://www.nbi.dk/~petersen/Teaching/ML2020/SmallProject/VariableList.html>"
   ]
  },
  {
   "cell_type": "code",
   "execution_count": 27,
   "metadata": {},
   "outputs": [],
   "source": [
    "all_variables = ['actualInteractionsPerCrossing', 'averageInteractionsPerCrossing', 'correctedActualMu', 'correctedAverageMu', 'correctedScaledActualMu', 'correctedScaledAverageMu', 'NvtxReco', 'p_nTracks', 'p_pt_track', 'p_eta', 'p_phi', 'p_charge', 'p_qOverP', 'p_z0', 'p_d0', 'p_sigmad0', 'p_d0Sig', 'p_EptRatio', 'p_dPOverP', 'p_z0theta', 'p_etaCluster', 'p_phiCluster', 'p_eCluster', 'p_rawEtaCluster', 'p_rawPhiCluster', 'p_rawECluster', 'p_eClusterLr0', 'p_eClusterLr1', 'p_eClusterLr2', 'p_eClusterLr3', 'p_etaClusterLr1', 'p_etaClusterLr2', 'p_phiClusterLr2', 'p_eAccCluster', 'p_f0Cluster', 'p_etaCalo', 'p_phiCalo', 'p_eTileGap3Cluster', 'p_cellIndexCluster', 'p_phiModCalo', 'p_etaModCalo', 'p_dPhiTH3', 'p_R12', 'p_fTG3', 'p_weta2', 'p_Reta', 'p_Rphi', 'p_Eratio', 'p_f1', 'p_f3', 'p_Rhad', 'p_Rhad1', 'p_deltaEta1', 'p_deltaPhiRescaled2', 'p_TRTPID', 'p_TRTTrackOccupancy', 'p_numberOfInnermostPixelHits', 'p_numberOfPixelHits', 'p_numberOfSCTHits', 'p_numberOfTRTHits', 'p_numberOfTRTXenonHits', 'p_chi2', 'p_ndof', 'p_SharedMuonTrack', 'p_E7x7_Lr2', 'p_E7x7_Lr3', 'p_E_Lr0_HiG', 'p_E_Lr0_LowG', 'p_E_Lr0_MedG', 'p_E_Lr1_HiG', 'p_E_Lr1_LowG', 'p_E_Lr1_MedG', 'p_E_Lr2_HiG', 'p_E_Lr2_LowG', 'p_E_Lr2_MedG', 'p_E_Lr3_HiG', 'p_E_Lr3_LowG', 'p_E_Lr3_MedG', 'p_ambiguityType', 'p_asy1', 'p_author', 'p_barys1', 'p_core57cellsEnergyCorrection', 'p_deltaEta0', 'p_deltaEta2', 'p_deltaEta3', 'p_deltaPhi0', 'p_deltaPhi1', 'p_deltaPhi2', 'p_deltaPhi3', 'p_deltaPhiFromLastMeasurement', 'p_deltaPhiRescaled0', 'p_deltaPhiRescaled1', 'p_deltaPhiRescaled3', 'p_e1152', 'p_e132', 'p_e235', 'p_e255', 'p_e2ts1', 'p_ecore', 'p_emins1', 'p_etconeCorrBitset', 'p_ethad', 'p_ethad1', 'p_f1core', 'p_f3core', 'p_maxEcell_energy', 'p_maxEcell_gain', 'p_maxEcell_time', 'p_maxEcell_x', 'p_maxEcell_y', 'p_maxEcell_z', 'p_nCells_Lr0_HiG', 'p_nCells_Lr0_LowG', 'p_nCells_Lr0_MedG', 'p_nCells_Lr1_HiG', 'p_nCells_Lr1_LowG', 'p_nCells_Lr1_MedG', 'p_nCells_Lr2_HiG', 'p_nCells_Lr2_LowG', 'p_nCells_Lr2_MedG', 'p_nCells_Lr3_HiG', 'p_nCells_Lr3_LowG', 'p_nCells_Lr3_MedG', 'p_pos', 'p_pos7', 'p_poscs1', 'p_poscs2', 'p_ptconeCorrBitset', 'p_ptconecoreTrackPtrCorrection', 'p_r33over37allcalo', 'p_topoetconeCorrBitset', 'p_topoetconecoreConeEnergyCorrection', 'p_topoetconecoreConeSCEnergyCorrection', 'p_weta1', 'p_widths1', 'p_widths2', 'p_wtots1', 'p_e233', 'p_e237', 'p_e277', 'p_e2tsts1', 'p_ehad1', 'p_emaxs1', 'p_fracs1', 'p_DeltaE', 'p_E3x5_Lr0', 'p_E3x5_Lr1', 'p_E3x5_Lr2', 'p_E3x5_Lr3', 'p_E5x7_Lr0', 'p_E5x7_Lr1', 'p_E5x7_Lr2', 'p_E5x7_Lr3', 'p_E7x11_Lr0', 'p_E7x11_Lr1', 'p_E7x11_Lr2', 'p_E7x11_Lr3', 'p_E7x7_Lr0', 'p_E7x7_Lr1' ]"
   ]
  },
  {
   "cell_type": "markdown",
   "metadata": {},
   "source": [
    "Finally, we divide the training data into data (`X`) and targets (`y`)\n",
    "\n",
    "Only use the entries which we know are true electrons for training.\n"
   ]
  },
  {
   "cell_type": "code",
   "execution_count": 50,
   "metadata": {},
   "outputs": [
    {
     "name": "stdout",
     "output_type": "stream",
     "text": [
      "Shape of X: (121495, 160)\n",
      "Shape of y: (121495,)\n",
      "Shape of X_test: (160651, 160)\n"
     ]
    }
   ],
   "source": [
    "train = train.loc[train['Truth']==1]\n",
    "X = train[all_variables]\n",
    "y = train['p_truth_E']\n",
    "X_test = test[all_variables]\n",
    "\n",
    "\n",
    "\n",
    "print (f'Shape of X: {X.shape}')\n",
    "print (f'Shape of y: {y.shape}')\n",
    "print (f'Shape of X_test: {X_test.shape}')"
   ]
  },
  {
   "cell_type": "code",
   "execution_count": 29,
   "metadata": {},
   "outputs": [
    {
     "data": {
      "text/html": [
       "<div>\n",
       "<style scoped>\n",
       "    .dataframe tbody tr th:only-of-type {\n",
       "        vertical-align: middle;\n",
       "    }\n",
       "\n",
       "    .dataframe tbody tr th {\n",
       "        vertical-align: top;\n",
       "    }\n",
       "\n",
       "    .dataframe thead th {\n",
       "        text-align: right;\n",
       "    }\n",
       "</style>\n",
       "<table border=\"1\" class=\"dataframe\">\n",
       "  <thead>\n",
       "    <tr style=\"text-align: right;\">\n",
       "      <th></th>\n",
       "      <th>actualInteractionsPerCrossing</th>\n",
       "      <th>averageInteractionsPerCrossing</th>\n",
       "      <th>correctedActualMu</th>\n",
       "      <th>correctedAverageMu</th>\n",
       "      <th>correctedScaledActualMu</th>\n",
       "      <th>correctedScaledAverageMu</th>\n",
       "      <th>NvtxReco</th>\n",
       "      <th>p_nTracks</th>\n",
       "      <th>p_pt_track</th>\n",
       "      <th>p_eta</th>\n",
       "      <th>...</th>\n",
       "      <th>p_E5x7_Lr0</th>\n",
       "      <th>p_E5x7_Lr1</th>\n",
       "      <th>p_E5x7_Lr2</th>\n",
       "      <th>p_E5x7_Lr3</th>\n",
       "      <th>p_E7x11_Lr0</th>\n",
       "      <th>p_E7x11_Lr1</th>\n",
       "      <th>p_E7x11_Lr2</th>\n",
       "      <th>p_E7x11_Lr3</th>\n",
       "      <th>p_E7x7_Lr0</th>\n",
       "      <th>p_E7x7_Lr1</th>\n",
       "    </tr>\n",
       "  </thead>\n",
       "  <tbody>\n",
       "    <tr>\n",
       "      <th>0</th>\n",
       "      <td>26.5</td>\n",
       "      <td>26.5</td>\n",
       "      <td>26.5</td>\n",
       "      <td>26.5</td>\n",
       "      <td>26.5</td>\n",
       "      <td>26.5</td>\n",
       "      <td>18</td>\n",
       "      <td>3</td>\n",
       "      <td>42011.792969</td>\n",
       "      <td>1.834715</td>\n",
       "      <td>...</td>\n",
       "      <td>215.588013</td>\n",
       "      <td>43402.332031</td>\n",
       "      <td>74045.820312</td>\n",
       "      <td>337.980713</td>\n",
       "      <td>273.708801</td>\n",
       "      <td>43091.683594</td>\n",
       "      <td>74447.539062</td>\n",
       "      <td>470.177124</td>\n",
       "      <td>273.708801</td>\n",
       "      <td>43091.683594</td>\n",
       "    </tr>\n",
       "    <tr>\n",
       "      <th>3</th>\n",
       "      <td>37.5</td>\n",
       "      <td>37.5</td>\n",
       "      <td>37.5</td>\n",
       "      <td>37.5</td>\n",
       "      <td>37.5</td>\n",
       "      <td>37.5</td>\n",
       "      <td>17</td>\n",
       "      <td>2</td>\n",
       "      <td>44975.042969</td>\n",
       "      <td>-2.023659</td>\n",
       "      <td>...</td>\n",
       "      <td>0.000000</td>\n",
       "      <td>27372.955078</td>\n",
       "      <td>104002.000000</td>\n",
       "      <td>921.178040</td>\n",
       "      <td>0.000000</td>\n",
       "      <td>27101.673828</td>\n",
       "      <td>106995.789062</td>\n",
       "      <td>1127.115356</td>\n",
       "      <td>0.000000</td>\n",
       "      <td>27101.673828</td>\n",
       "    </tr>\n",
       "  </tbody>\n",
       "</table>\n",
       "<p>2 rows × 160 columns</p>\n",
       "</div>"
      ],
      "text/plain": [
       "   actualInteractionsPerCrossing  averageInteractionsPerCrossing  \\\n",
       "0                           26.5                            26.5   \n",
       "3                           37.5                            37.5   \n",
       "\n",
       "   correctedActualMu  correctedAverageMu  correctedScaledActualMu  \\\n",
       "0               26.5                26.5                     26.5   \n",
       "3               37.5                37.5                     37.5   \n",
       "\n",
       "   correctedScaledAverageMu  NvtxReco  p_nTracks    p_pt_track     p_eta  ...  \\\n",
       "0                      26.5        18          3  42011.792969  1.834715  ...   \n",
       "3                      37.5        17          2  44975.042969 -2.023659  ...   \n",
       "\n",
       "   p_E5x7_Lr0    p_E5x7_Lr1     p_E5x7_Lr2  p_E5x7_Lr3  p_E7x11_Lr0  \\\n",
       "0  215.588013  43402.332031   74045.820312  337.980713   273.708801   \n",
       "3    0.000000  27372.955078  104002.000000  921.178040     0.000000   \n",
       "\n",
       "    p_E7x11_Lr1    p_E7x11_Lr2  p_E7x11_Lr3  p_E7x7_Lr0    p_E7x7_Lr1  \n",
       "0  43091.683594   74447.539062   470.177124  273.708801  43091.683594  \n",
       "3  27101.673828  106995.789062  1127.115356    0.000000  27101.673828  \n",
       "\n",
       "[2 rows x 160 columns]"
      ]
     },
     "execution_count": 29,
     "metadata": {},
     "output_type": "execute_result"
    }
   ],
   "source": [
    "X.head(2)"
   ]
  },
  {
   "cell_type": "code",
   "execution_count": 30,
   "metadata": {},
   "outputs": [],
   "source": [
    "#!pip install seaborn update"
   ]
  },
  {
   "cell_type": "code",
   "execution_count": 31,
   "metadata": {},
   "outputs": [
    {
     "data": {
      "text/plain": [
       "<seaborn.axisgrid.FacetGrid at 0x127f96310>"
      ]
     },
     "execution_count": 31,
     "metadata": {},
     "output_type": "execute_result"
    },
    {
     "data": {
      "image/png": "[encoded data removed]",
      "text/plain": [
       "<Figure size 360x360 with 1 Axes>"
      ]
     },
     "metadata": {
      "needs_background": "light"
     },
     "output_type": "display_data"
    }
   ],
   "source": [
    "sns.displot(data=train, x=y)"
   ]
  },
  {
   "cell_type": "markdown",
   "metadata": {},
   "source": [
    "## Preprocessing"
   ]
  },
  {
   "cell_type": "markdown",
   "metadata": {},
   "source": [
    "### Check null values"
   ]
  },
  {
   "cell_type": "code",
   "execution_count": 32,
   "metadata": {},
   "outputs": [
    {
     "data": {
      "text/plain": [
       "eventNumber                       0\n",
       "runNumber                         0\n",
       "actualInteractionsPerCrossing     0\n",
       "averageInteractionsPerCrossing    0\n",
       "correctedActualMu                 0\n",
       "                                 ..\n",
       "p_E7x11_Lr2                       0\n",
       "p_E7x11_Lr3                       0\n",
       "p_E7x7_Lr0                        0\n",
       "p_E7x7_Lr1                        0\n",
       "index                             0\n",
       "Length: 166, dtype: int64"
      ]
     },
     "execution_count": 32,
     "metadata": {},
     "output_type": "execute_result"
    }
   ],
   "source": [
    "train.isnull().sum()"
   ]
  },
  {
   "cell_type": "markdown",
   "metadata": {},
   "source": [
    "No nulls\n",
    "### Scale the data"
   ]
  },
  {
   "cell_type": "code",
   "execution_count": 51,
   "metadata": {},
   "outputs": [],
   "source": [
    "transformed_X = deepcopy(X) \n",
    "transformed_X_test = deepcopy(X_test)\n",
    "# This loop transforms every variable _independently_ \n",
    "for variable in X.columns: \n",
    "    scaler = RobustScaler().fit(np.array(transformed_X[variable]).reshape(-1,1))\n",
    "    transformed_X[variable] = scaler.transform(np.array(transformed_X[variable]).reshape(-1,1))\n",
    "    transformed_X_test[variable] = scaler.transform(np.array(transformed_X_test[variable]).reshape(-1,1))"
   ]
  },
  {
   "cell_type": "markdown",
   "metadata": {},
   "source": [
    "### Select k Best features"
   ]
  },
  {
   "cell_type": "code",
   "execution_count": 34,
   "metadata": {},
   "outputs": [],
   "source": [
    "from sklearn.feature_selection import SelectKBest, f_regression"
   ]
  },
  {
   "cell_type": "code",
   "execution_count": 54,
   "metadata": {},
   "outputs": [
    {
     "name": "stderr",
     "output_type": "stream",
     "text": [
      "/Users/niallgray/opt/miniconda3/envs/aml/lib/python3.8/site-packages/sklearn/feature_selection/_univariate_selection.py:301: RuntimeWarning: invalid value encountered in true_divide\n",
      "  corr /= X_norms\n"
     ]
    },
    {
     "data": {
      "text/plain": [
       "Index(['p_eCluster', 'p_rawECluster', 'p_eClusterLr2', 'p_eAccCluster',\n",
       "       'p_cellIndexCluster', 'p_E7x7_Lr2', 'p_e235', 'p_e255', 'p_ecore',\n",
       "       'p_e233', 'p_e237', 'p_e277', 'p_E3x5_Lr2', 'p_E5x7_Lr2',\n",
       "       'p_E7x11_Lr2'],\n",
       "      dtype='object')"
      ]
     },
     "execution_count": 54,
     "metadata": {},
     "output_type": "execute_result"
    }
   ],
   "source": [
    "# Create and fit selector\n",
    "selector = SelectKBest(score_func=f_regression, k=15)\n",
    "X_15 = selector.fit_transform(transformed_X, y)\n",
    "# Get columns to keep and create new dataframe with those only\n",
    "cols = selector.get_support(indices=True)\n",
    "features_df_new = X.iloc[:,cols]\n",
    "features_df_new.columns"
   ]
  },
  {
   "cell_type": "code",
   "execution_count": 56,
   "metadata": {},
   "outputs": [],
   "source": [
    "transformed_X_test_15 = selector.transform(transformed_X_test)"
   ]
  },
  {
   "cell_type": "code",
   "execution_count": 36,
   "metadata": {},
   "outputs": [],
   "source": [
    "from sklearn.model_selection import train_test_split\n",
    "X_train, X_test, y_train, y_test = train_test_split(X_15,y,test_size=.3, random_state=42)"
   ]
  },
  {
   "cell_type": "code",
   "execution_count": 37,
   "metadata": {},
   "outputs": [
    {
     "name": "stdout",
     "output_type": "stream",
     "text": [
      "Baseline MAE is 36932.90\n"
     ]
    }
   ],
   "source": [
    "from sklearn.metrics import mean_absolute_error\n",
    "\n",
    "# \"Learn\" the mean from the training data\n",
    "mean_train = np.mean(y_train)\n",
    "# Get predictions on the test set\n",
    "baseline_predictions = np.ones(y_test.shape) * mean_train\n",
    "# Compute MAE\n",
    "mae_baseline = mean_absolute_error(y_test, baseline_predictions)\n",
    "print(\"Baseline MAE is {:.2f}\".format(mae_baseline))\n"
   ]
  },
  {
   "cell_type": "markdown",
   "metadata": {},
   "source": [
    "## XGBoost regression"
   ]
  },
  {
   "cell_type": "code",
   "execution_count": 20,
   "metadata": {},
   "outputs": [],
   "source": [
    "# # xgboost for regression\n",
    "# from xgboost import XGBRegressor\n",
    "# from sklearn.model_selection import cross_val_score\n",
    "# from sklearn.model_selection import RepeatedKFold\n",
    "# # evaluate the model\n",
    "# model = XGBRegressor(objective='reg:squarederror')\n",
    "# cv = RepeatedKFold(n_splits=10, n_repeats=3, random_state=1)\n",
    "# n_scores = cross_val_score(model, X_15, y, scoring='neg_mean_absolute_error', cv=cv, n_jobs=-1, error_score='raise')\n",
    "# print('MAE: %.3f (%.3f)' % (np.mean(n_scores), np.std(n_scores)))\n",
    "# # fit the model on the whole dataset\n",
    "# model = XGBRegressor(objective='reg:squarederror')\n",
    "# model.fit(X, y)\n"
   ]
  },
  {
   "cell_type": "markdown",
   "metadata": {},
   "source": [
    "## LightGBM regression"
   ]
  },
  {
   "cell_type": "code",
   "execution_count": 21,
   "metadata": {},
   "outputs": [],
   "source": [
    "# from lightgbm import LGBMRegressor\n",
    "# from sklearn.model_selection import cross_val_score\n",
    "# from sklearn.model_selection import RepeatedKFold\n",
    "\n",
    "# # evaluate the model\n",
    "# model = LGBMRegressor()\n",
    "# cv = RepeatedKFold(n_splits=10, n_repeats=3, random_state=1)\n",
    "# n_scores = cross_val_score(model, X_15, y, scoring='neg_mean_absolute_error', cv=cv, n_jobs=-1, error_score='raise')\n",
    "# print('MAE: %.3f (%.3f)' % (np.mean(n_scores), np.std(n_scores)))\n",
    "# # fit the model on the whole dataset\n",
    "# model = LGBMRegressor()\n",
    "# model.fit(X, y)\n"
   ]
  },
  {
   "cell_type": "markdown",
   "metadata": {},
   "source": [
    "## Hyperparameter tuning"
   ]
  },
  {
   "cell_type": "markdown",
   "metadata": {},
   "source": [
    "### Random Search"
   ]
  },
  {
   "cell_type": "code",
   "execution_count": 18,
   "metadata": {},
   "outputs": [
    {
     "name": "stdout",
     "output_type": "stream",
     "text": [
      "Fitting 30 folds for each of 500 candidates, totalling 15000 fits\n"
     ]
    },
    {
     "name": "stderr",
     "output_type": "stream",
     "text": [
      "[Parallel(n_jobs=-1)]: Using backend LokyBackend with 8 concurrent workers.\n",
      "[Parallel(n_jobs=-1)]: Done  34 tasks      | elapsed:    6.8s\n",
      "[Parallel(n_jobs=-1)]: Done 184 tasks      | elapsed:   34.0s\n",
      "[Parallel(n_jobs=-1)]: Done 434 tasks      | elapsed:  1.4min\n",
      "[Parallel(n_jobs=-1)]: Done 784 tasks      | elapsed:  3.2min\n",
      "[Parallel(n_jobs=-1)]: Done 1234 tasks      | elapsed:  4.7min\n",
      "[Parallel(n_jobs=-1)]: Done 1784 tasks      | elapsed:  6.6min\n",
      "[Parallel(n_jobs=-1)]: Done 2434 tasks      | elapsed:  9.5min\n",
      "[Parallel(n_jobs=-1)]: Done 3184 tasks      | elapsed: 12.1min\n",
      "[Parallel(n_jobs=-1)]: Done 4034 tasks      | elapsed: 15.1min\n",
      "[Parallel(n_jobs=-1)]: Done 4984 tasks      | elapsed: 19.2min\n",
      "[Parallel(n_jobs=-1)]: Done 6034 tasks      | elapsed: 22.6min\n",
      "[Parallel(n_jobs=-1)]: Done 7184 tasks      | elapsed: 27.1min\n",
      "[Parallel(n_jobs=-1)]: Done 8434 tasks      | elapsed: 31.7min\n",
      "[Parallel(n_jobs=-1)]: Done 9784 tasks      | elapsed: 36.4min\n",
      "[Parallel(n_jobs=-1)]: Done 12784 tasks      | elapsed: 48.6min\n",
      "[Parallel(n_jobs=-1)]: Done 14434 tasks      | elapsed: 55.0min\n"
     ]
    },
    {
     "name": "stdout",
     "output_type": "stream",
     "text": [
      "Best Score: -6462.42947586077\n",
      "Best Hyperparameters: {'alpha': 0.0002531181460133387, 'fit_intercept': True, 'normalize': True, 'solver': 'svd'}\n"
     ]
    },
    {
     "name": "stderr",
     "output_type": "stream",
     "text": [
      "[Parallel(n_jobs=-1)]: Done 15000 out of 15000 | elapsed: 57.1min finished\n"
     ]
    }
   ],
   "source": [
    "# from scipy.stats import loguniform\n",
    "# from sklearn.linear_model import Ridge\n",
    "# from sklearn.model_selection import RepeatedKFold\n",
    "# from sklearn.model_selection import RandomizedSearchCV\n",
    "\n",
    "# # define model\n",
    "# model = Ridge()\n",
    "# # define evaluation\n",
    "# cv = RepeatedKFold(n_splits=10, n_repeats=3, random_state=1)\n",
    "# # define search space\n",
    "# space = dict()\n",
    "# space['solver'] = ['svd', 'cholesky', 'lsqr', 'sag']\n",
    "# space['alpha'] = loguniform(1e-5, 100)\n",
    "# space['fit_intercept'] = [True, False]\n",
    "# space['normalize'] = [True, False]\n",
    "# # define search\n",
    "# search = RandomizedSearchCV(model, space, n_iter=500, scoring='neg_mean_absolute_error', n_jobs=-1, cv=cv, random_state=1, verbose=1)\n",
    "# # execute search\n",
    "# result = search.fit(X_15, y)\n",
    "# # summarize result\n",
    "# print('Best Score: %s' % result.best_score_)\n",
    "print('Best Hyperparameters: %s' % result.best_params_)"
   ]
  },
  {
   "cell_type": "markdown",
   "metadata": {},
   "source": [
    "### Grid Search"
   ]
  },
  {
   "cell_type": "code",
   "execution_count": 16,
   "metadata": {},
   "outputs": [
    {
     "name": "stdout",
     "output_type": "stream",
     "text": [
      "Fitting 30 folds for each of 128 candidates, totalling 3840 fits\n"
     ]
    },
    {
     "name": "stderr",
     "output_type": "stream",
     "text": [
      "[Parallel(n_jobs=-1)]: Using backend LokyBackend with 8 concurrent workers.\n",
      "[Parallel(n_jobs=-1)]: Done  34 tasks      | elapsed:    6.2s\n",
      "[Parallel(n_jobs=-1)]: Done 184 tasks      | elapsed:   36.3s\n",
      "[Parallel(n_jobs=-1)]: Done 434 tasks      | elapsed:  1.6min\n",
      "[Parallel(n_jobs=-1)]: Done 784 tasks      | elapsed:  2.9min\n",
      "[Parallel(n_jobs=-1)]: Done 1234 tasks      | elapsed:  4.6min\n",
      "[Parallel(n_jobs=-1)]: Done 1784 tasks      | elapsed:  6.7min\n",
      "[Parallel(n_jobs=-1)]: Done 2434 tasks      | elapsed:  9.2min\n",
      "[Parallel(n_jobs=-1)]: Done 3184 tasks      | elapsed: 11.8min\n",
      "[Parallel(n_jobs=-1)]: Done 3840 out of 3840 | elapsed: 14.4min finished\n"
     ]
    },
    {
     "name": "stdout",
     "output_type": "stream",
     "text": [
      "Best Score: -6464.314837511495\n",
      "Best Hyperparameters: {'alpha': 0.0001, 'fit_intercept': True, 'normalize': True, 'solver': 'sag'}\n"
     ]
    }
   ],
   "source": [
    "# from sklearn.linear_model import Ridge\n",
    "# from sklearn.model_selection import RepeatedKFold\n",
    "# from sklearn.model_selection import GridSearchCV\n",
    "\n",
    "# # define model\n",
    "# model = Ridge()\n",
    "# # define evaluation\n",
    "# cv = RepeatedKFold(n_splits=10, n_repeats=3, random_state=1)\n",
    "# # define search space\n",
    "# space = dict()\n",
    "# space['solver'] = ['svd', 'cholesky', 'lsqr', 'sag']\n",
    "# space['alpha'] = [1e-5, 1e-4, 1e-3, 1e-2, 1e-1, 1, 10, 100]\n",
    "# space['fit_intercept'] = [True, False]\n",
    "# space['normalize'] = [True, False]\n",
    "# # define search\n",
    "# search = GridSearchCV(model, space, scoring='neg_mean_absolute_error', n_jobs=-1, cv=cv, verbose=1)\n",
    "# # execute search\n",
    "# result = search.fit(X_15, y)\n",
    "# # summarize result\n",
    "# print('Best Score: %s' % result.best_score_)\n",
    "# print('Best Hyperparameters: %s' % result.best_params_)"
   ]
  },
  {
   "cell_type": "code",
   "execution_count": null,
   "metadata": {},
   "outputs": [
    {
     "name": "stdout",
     "output_type": "stream",
     "text": [
      "Fitting 30 folds for each of 9 candidates, totalling 270 fits\n"
     ]
    },
    {
     "name": "stderr",
     "output_type": "stream",
     "text": [
      "[Parallel(n_jobs=-1)]: Using backend LokyBackend with 8 concurrent workers.\n",
      "[Parallel(n_jobs=-1)]: Done  34 tasks      | elapsed: 23.6min\n"
     ]
    }
   ],
   "source": [
    "# from xgboost import XGBRegressor\n",
    "# from sklearn.model_selection import RepeatedKFold\n",
    "# from sklearn.model_selection import GridSearchCV\n",
    "\n",
    "# # define model\n",
    "# model = XGBRegressor()\n",
    "# # define evaluation\n",
    "# cv = RepeatedKFold(n_splits=10, n_repeats=3, random_state=1)\n",
    "# # define search space\n",
    "# parameters = {\n",
    "#               'objective':['reg:linear'],\n",
    "#               'learning_rate': [.03, 0.05, .07], #so called `eta` value\n",
    "#               'max_depth': [5, 6, 7],\n",
    "#               'min_child_weight': [4],\n",
    "#               'silent': [1],\n",
    "#               'subsample': [0.7],\n",
    "#               'colsample_bytree': [0.7],\n",
    "#               'n_estimators': [500]}\n",
    "# # define search\n",
    "# search = GridSearchCV(model, parameters, scoring='neg_mean_absolute_error', n_jobs=-1, cv=cv, verbose=1)\n",
    "# # execute search\n",
    "# result = search.fit(X_15, y)\n",
    "# # summarize result\n",
    "# print('Best Score: %s' % result.best_score_)\n",
    "# print('Best Hyperparameters: %s' % result.best_params_)"
   ]
  },
  {
   "cell_type": "markdown",
   "metadata": {},
   "source": [
    "## Bayesian optimisation of hyperparameters and cross validation"
   ]
  },
  {
   "cell_type": "code",
   "execution_count": 69,
   "metadata": {},
   "outputs": [],
   "source": [
    "from sklearn.neural_network import MLPRegressor\n"
   ]
  },
  {
   "cell_type": "code",
   "execution_count": 70,
   "metadata": {},
   "outputs": [],
   "source": [
    "def sklNN_CrossValidation(hidden_layer_sizes, learning_rate_init, data, targets):\n",
    "    \"\"\"Cross validation.\n",
    "       Fits a NN with the given paramaters to the target \n",
    "       given data, calculated a CV accuracy score and returns the mean.\n",
    "       The goal is to find combinations\n",
    "       that maximize the accuracy\n",
    "    \"\"\"\n",
    "    \n",
    "    estimator = MLPRegressor(hidden_layer_sizes=hidden_layer_sizes, learning_rate_init=learning_rate_init, random_state=0)\n",
    "    \n",
    "    cval = cross_val_score(estimator, data, targets, scoring='neg_mean_absolute_error', cv=5)\n",
    "    \n",
    "    return cval.mean()"
   ]
  },
  {
   "cell_type": "code",
   "execution_count": 71,
   "metadata": {},
   "outputs": [],
   "source": [
    "def optimize_sklNN(data, targets, pars, n_iter=5):\n",
    "    \"\"\"Apply Bayesian Optimization to NN parameters.\"\"\"\n",
    "    \n",
    "    def crossval_wrapper(hidden_layer_sizes, learning_rate_init):\n",
    "        \"\"\"Wrapper of NNe cross validation. \n",
    "           hidden_layer_sizes\n",
    "           is cast to integer before we pass them along.\n",
    "        \"\"\"\n",
    "        return sklNN_CrossValidation(hidden_layer_sizes=int(hidden_layer_sizes), \n",
    "                                            learning_rate_init=learning_rate_init, \n",
    "                                            data=data, \n",
    "                                            targets=targets)\n",
    "\n",
    "    optimizer = BayesianOptimization(f=crossval_wrapper, \n",
    "                                     pbounds=pars, \n",
    "                                     random_state=42, \n",
    "                                     verbose=100)\n",
    "    optimizer.maximize(init_points=4, n_iter=n_iter)\n",
    "\n",
    "    return optimizer"
   ]
  },
  {
   "cell_type": "code",
   "execution_count": 25,
   "metadata": {},
   "outputs": [
    {
     "name": "stdout",
     "output_type": "stream",
     "text": [
      "|   iter    |  target   | hidden... | learni... |\n",
      "-------------------------------------------------\n",
      "| \u001b[0m 1       \u001b[0m | \u001b[0m-6.947e+0\u001b[0m | \u001b[0m 38.08   \u001b[0m | \u001b[0m 0.9507  \u001b[0m |\n",
      "| \u001b[95m 2       \u001b[0m | \u001b[95m-6.409e+0\u001b[0m | \u001b[95m 73.47   \u001b[0m | \u001b[95m 0.5987  \u001b[0m |\n",
      "| \u001b[0m 3       \u001b[0m | \u001b[0m-6.515e+0\u001b[0m | \u001b[0m 16.45   \u001b[0m | \u001b[0m 0.1561  \u001b[0m |\n",
      "| \u001b[0m 4       \u001b[0m | \u001b[0m-6.461e+0\u001b[0m | \u001b[0m 6.75    \u001b[0m | \u001b[0m 0.8662  \u001b[0m |\n",
      "| \u001b[0m 5       \u001b[0m | \u001b[0m-6.531e+0\u001b[0m | \u001b[0m 73.55   \u001b[0m | \u001b[0m 0.5979  \u001b[0m |\n",
      "| \u001b[0m 6       \u001b[0m | \u001b[0m-6.531e+0\u001b[0m | \u001b[0m 73.47   \u001b[0m | \u001b[0m 0.598   \u001b[0m |\n",
      "| \u001b[0m 7       \u001b[0m | \u001b[0m-6.46e+03\u001b[0m | \u001b[0m 6.747   \u001b[0m | \u001b[0m 0.8607  \u001b[0m |\n",
      "| \u001b[0m 8       \u001b[0m | \u001b[0m-6.462e+0\u001b[0m | \u001b[0m 30.77   \u001b[0m | \u001b[0m 0.4783  \u001b[0m |\n",
      "| \u001b[95m 9       \u001b[0m | \u001b[95m-6.388e+0\u001b[0m | \u001b[95m 73.47   \u001b[0m | \u001b[95m 0.5976  \u001b[0m |\n",
      "=================================================\n",
      "{'target': -6387.571888318518, 'params': {'hidden_layer_sizes': 73.46755675774493, 'learning_rate_init': 0.5975716395036551}}\n"
     ]
    }
   ],
   "source": [
    "parameters_BayesianOptimization = {\"hidden_layer_sizes\": (1, 100), \n",
    "                                   \"learning_rate_init\": (0.0001, 1)\n",
    "                                  }\n",
    "\n",
    "BayesianOptimization = optimize_sklNN(X_15, \n",
    "                                             y, \n",
    "                                             parameters_BayesianOptimization, \n",
    "                                             n_iter=5)\n",
    "print(BayesianOptimization.max)"
   ]
  },
  {
   "cell_type": "markdown",
   "metadata": {},
   "source": [
    "Cross-validation on result:\n",
    "\n"
   ]
  },
  {
   "cell_type": "code",
   "execution_count": 30,
   "metadata": {},
   "outputs": [
    {
     "name": "stdout",
     "output_type": "stream",
     "text": [
      "-6387.5719 MAE with a standard deviation of 121.9844\n"
     ]
    }
   ],
   "source": [
    "reg = MLPRegressor(hidden_layer_sizes=int(BayesianOptimization.max['params']['hidden_layer_sizes']), \n",
    "                                 learning_rate_init=BayesianOptimization.max['params']['learning_rate_init'],\n",
    "                                 random_state=0)\n",
    "scores = cross_val_score(reg, X_15, y, cv=5, scoring='neg_mean_absolute_error') \n",
    "print(f\"{scores.mean():.4f} MAE with a standard deviation of {scores.std():.4f}\")"
   ]
  },
  {
   "cell_type": "code",
   "execution_count": 72,
   "metadata": {},
   "outputs": [
    {
     "name": "stdout",
     "output_type": "stream",
     "text": [
      "|   iter    |  target   | hidden... | learni... |\n",
      "-------------------------------------------------\n",
      "| \u001b[0m 1       \u001b[0m | \u001b[0m-6.43e+03\u001b[0m | \u001b[0m 71.24   \u001b[0m | \u001b[0m 0.5852  \u001b[0m |\n",
      "| \u001b[0m 2       \u001b[0m | \u001b[0m-6.971e+0\u001b[0m | \u001b[0m 81.96   \u001b[0m | \u001b[0m 0.4796  \u001b[0m |\n",
      "| \u001b[0m 3       \u001b[0m | \u001b[0m-6.516e+0\u001b[0m | \u001b[0m 64.68   \u001b[0m | \u001b[0m 0.3468  \u001b[0m |\n",
      "| \u001b[0m 4       \u001b[0m | \u001b[0m-6.72e+03\u001b[0m | \u001b[0m 61.74   \u001b[0m | \u001b[0m 0.5599  \u001b[0m |\n",
      "| \u001b[95m 5       \u001b[0m | \u001b[95m-6.366e+0\u001b[0m | \u001b[95m 71.31   \u001b[0m | \u001b[95m 0.5687  \u001b[0m |\n",
      "| \u001b[0m 6       \u001b[0m | \u001b[0m-6.683e+0\u001b[0m | \u001b[0m 71.69   \u001b[0m | \u001b[0m 0.476   \u001b[0m |\n",
      "| \u001b[0m 7       \u001b[0m | \u001b[0m-6.408e+0\u001b[0m | \u001b[0m 71.3    \u001b[0m | \u001b[0m 0.3316  \u001b[0m |\n",
      "| \u001b[0m 8       \u001b[0m | \u001b[0m-6.519e+0\u001b[0m | \u001b[0m 64.2    \u001b[0m | \u001b[0m 0.4316  \u001b[0m |\n",
      "| \u001b[0m 9       \u001b[0m | \u001b[0m-6.689e+0\u001b[0m | \u001b[0m 70.88   \u001b[0m | \u001b[0m 0.3125  \u001b[0m |\n",
      "=================================================\n",
      "{'target': -6366.182935977597, 'params': {'hidden_layer_sizes': 71.30506683048498, 'learning_rate_init': 0.5687396572526524}}\n"
     ]
    }
   ],
   "source": [
    "parameters_BayesianOptimization = {\"hidden_layer_sizes\": (60, 90), \n",
    "                                   \"learning_rate_init\": (0.3, 0.6)\n",
    "                                  }\n",
    "\n",
    "BayesianOptimization = optimize_sklNN(X_15, \n",
    "                                             y, \n",
    "                                             parameters_BayesianOptimization, \n",
    "                                             n_iter=5)\n",
    "print(BayesianOptimization.max)"
   ]
  },
  {
   "cell_type": "code",
   "execution_count": 73,
   "metadata": {},
   "outputs": [
    {
     "name": "stdout",
     "output_type": "stream",
     "text": [
      "-6366.1829 MAE with a standard deviation of 87.2863\n"
     ]
    }
   ],
   "source": [
    "reg = MLPRegressor(hidden_layer_sizes=int(BayesianOptimization.max['params']['hidden_layer_sizes']), \n",
    "                                 learning_rate_init=BayesianOptimization.max['params']['learning_rate_init'],\n",
    "                                 random_state=0)\n",
    "scores = cross_val_score(reg, X_15, y, cv=5, scoring='neg_mean_absolute_error') \n",
    "print(f\"{scores.mean():.4f} MAE with a standard deviation of {scores.std():.4f}\")"
   ]
  },
  {
   "cell_type": "code",
   "execution_count": 74,
   "metadata": {},
   "outputs": [
    {
     "data": {
      "text/plain": [
       "MLPRegressor(hidden_layer_sizes=71, learning_rate_init=0.5687396572526524,\n",
       "             random_state=0)"
      ]
     },
     "execution_count": 74,
     "metadata": {},
     "output_type": "execute_result"
    }
   ],
   "source": [
    "reg.fit(X_15, y)"
   ]
  },
  {
   "cell_type": "markdown",
   "metadata": {},
   "source": [
    "## Run algo on test data and make output files"
   ]
  },
  {
   "cell_type": "code",
   "execution_count": 77,
   "metadata": {},
   "outputs": [],
   "source": [
    "mlpreg_predictions = reg.predict(transformed_X_test_15)"
   ]
  },
  {
   "cell_type": "code",
   "execution_count": 79,
   "metadata": {},
   "outputs": [],
   "source": [
    "out_df_mlp=pandas.DataFrame(mlpreg_predictions)"
   ]
  },
  {
   "cell_type": "code",
   "execution_count": 80,
   "metadata": {},
   "outputs": [],
   "source": [
    "out_df_mlp.to_csv('solutions/Regression_NiallGray_MLPReg.txt',header=False)"
   ]
  },
  {
   "cell_type": "code",
   "execution_count": 81,
   "metadata": {},
   "outputs": [],
   "source": [
    "feature_list.to_csv('solutions/Regression_NiallGray_MLPReg_VariableList.txt',index=False, header=False)"
   ]
  },
  {
   "cell_type": "markdown",
   "metadata": {},
   "source": [
    "### Autokeras"
   ]
  },
  {
   "cell_type": "code",
   "execution_count": 40,
   "metadata": {},
   "outputs": [],
   "source": [
    "# use autokeras to find a model for the insurance dataset\n",
    "from sklearn.model_selection import train_test_split\n",
    "from autokeras import StructuredDataRegressor\n",
    "from numpy import asarray\n"
   ]
  },
  {
   "cell_type": "code",
   "execution_count": 39,
   "metadata": {},
   "outputs": [
    {
     "name": "stdout",
     "output_type": "stream",
     "text": [
      "INFO:tensorflow:Reloading Oracle from existing project ./structured_data_regressor/oracle.json\n",
      "INFO:tensorflow:Oracle triggered exit\n",
      "Epoch 1/231\n",
      "2658/2658 [==============================] - 6s 2ms/step - loss: 126748.5057 - mean_squared_error: 18768837845.7345A: 1s - loss: 138591.4469 - mean - ETA: 0s - loss: 128936.2093 - mean_squared_error: 19244439194 - ETA: 0s - loss: 127363.1123 - mean_squared_error: 18902033672.8\n",
      "Epoch 2/231\n",
      "2658/2658 [==============================] - 5s 2ms/step - loss: 61933.1744 - mean_squared_error: 5375609508.4408\n",
      "Epoch 3/231\n",
      "2658/2658 [==============================] - 5s 2ms/step - loss: 50551.6240 - mean_squared_error: 3592719610.8973A: 3s - loss: 54322.2942 - mean_squar - ETA: 1s - loss: 53152.2777\n",
      "Epoch 4/231\n",
      "2658/2658 [==============================] - 5s 2ms/step - loss: 11611.7117 - mean_squared_error: 352658721.2877\n",
      "Epoch 5/231\n",
      "2658/2658 [==============================] - 5s 2ms/step - loss: 7773.9292 - mean_squared_error: 229255281.2576\n",
      "Epoch 6/231\n",
      "2658/2658 [==============================] - 5s 2ms/step - loss: 7020.9861 - mean_squared_error: 216961012.4122\n",
      "Epoch 7/231\n",
      "2658/2658 [==============================] - 5s 2ms/step - loss: 6770.1493 - mean_squared_error: 213393038.3076\n",
      "Epoch 8/231\n",
      "2658/2658 [==============================] - 5s 2ms/step - loss: 6641.6398 - mean_squared_error: 211440682.1542\n",
      "Epoch 9/231\n",
      "2658/2658 [==============================] - 6s 2ms/step - loss: 6552.0056 - mean_squared_error: 209808795.5397\n",
      "Epoch 10/231\n",
      "2658/2658 [==============================] - 7s 3ms/step - loss: 6491.5165 - mean_squared_error: 208670387.2448\n",
      "Epoch 11/231\n",
      "2658/2658 [==============================] - 7s 2ms/step - loss: 6446.8366 - mean_squared_error: 207763667.1922\n",
      "Epoch 12/231\n",
      "2658/2658 [==============================] - 6s 2ms/step - loss: 6412.5286 - mean_squared_error: 207032073.9496\n",
      "Epoch 13/231\n",
      "2658/2658 [==============================] - 6s 2ms/step - loss: 6385.3913 - mean_squared_error: 206460566.6476A: 5s - loss: 6464.9093 - mean_squared_\n",
      "Epoch 14/231\n",
      "2658/2658 [==============================] - 6s 2ms/step - loss: 6363.5296 - mean_squared_error: 205948869.3998A: 2s - loss: 6\n",
      "Epoch 15/231\n",
      "2658/2658 [==============================] - 6s 2ms/step - loss: 6346.6102 - mean_squared_error: 205516347.0545\n",
      "Epoch 16/231\n",
      "2658/2658 [==============================] - 6s 2ms/step - loss: 6332.8707 - mean_squared_error: 205223287.2779\n",
      "Epoch 17/231\n",
      "2658/2658 [==============================] - 6s 2ms/step - loss: 6321.2826 - mean_squared_error: 204964493.2922A: 2s - l\n",
      "Epoch 18/231\n",
      "2658/2658 [==============================] - 5s 2ms/step - loss: 6311.2076 - mean_squared_error: 204748908.6852A: 0s - loss: 6317.4345 - mean_squared_error: 20546\n",
      "Epoch 19/231\n",
      "2658/2658 [==============================] - 5s 2ms/step - loss: 6301.8878 - mean_squared_error: 204519436.8665\n",
      "Epoch 20/231\n",
      "2658/2658 [==============================] - 5s 2ms/step - loss: 6293.8185 - mean_squared_error: 204388993.3945\n",
      "Epoch 21/231\n",
      "2658/2658 [==============================] - 5s 2ms/step - loss: 6286.3910 - mean_squared_error: 204180635.6751A: 0s - loss: 6291.2803 - mean_squared_error: 2047363\n",
      "Epoch 22/231\n",
      "2658/2658 [==============================] - 5s 2ms/step - loss: 6279.7143 - mean_squared_error: 204049564.5265\n",
      "Epoch 23/231\n",
      "2658/2658 [==============================] - 5s 2ms/step - loss: 6274.1691 - mean_squared_error: 203938381.4479\n",
      "Epoch 24/231\n",
      "2658/2658 [==============================] - 5s 2ms/step - loss: 6267.8215 - mean_squared_error: 203826614.0233\n",
      "Epoch 25/231\n",
      "2658/2658 [==============================] - 5s 2ms/step - loss: 6262.9574 - mean_squared_error: 203705688.3588A: 2s - loss: 63\n",
      "Epoch 26/231\n",
      "2658/2658 [==============================] - 5s 2ms/step - loss: 6257.5022 - mean_squared_error: 203609149.5750\n",
      "Epoch 27/231\n",
      "2658/2658 [==============================] - 5s 2ms/step - loss: 6253.4879 - mean_squared_error: 203539319.2215\n",
      "Epoch 28/231\n",
      "2658/2658 [==============================] - 5s 2ms/step - loss: 6248.5811 - mean_squared_error: 203409242.0684\n",
      "Epoch 29/231\n",
      "2658/2658 [==============================] - 5s 2ms/step - loss: 6244.3284 - mean_squared_error: 203379328.0421\n",
      "Epoch 30/231\n",
      "2658/2658 [==============================] - 6s 2ms/step - loss: 6240.2647 - mean_squared_error: 203316794.7319\n",
      "Epoch 31/231\n",
      "2658/2658 [==============================] - 6s 2ms/step - loss: 6236.5479 - mean_squared_error: 203232020.4453\n",
      "Epoch 32/231\n",
      "2658/2658 [==============================] - 5s 2ms/step - loss: 6232.4607 - mean_squared_error: 203153264.5731\n",
      "Epoch 33/231\n",
      "2658/2658 [==============================] - 5s 2ms/step - loss: 6228.9559 - mean_squared_error: 203131838.3212\n",
      "Epoch 34/231\n",
      "2658/2658 [==============================] - 6s 2ms/step - loss: 6225.2848 - mean_squared_error: 203052667.7909\n",
      "Epoch 35/231\n",
      "2658/2658 [==============================] - 6s 2ms/step - loss: 6221.6197 - mean_squared_error: 202975567.6901A: 2s\n",
      "Epoch 36/231\n",
      "2658/2658 [==============================] - 6s 2ms/step - loss: 6218.2423 - mean_squared_error: 202931502.1677A: 0s - loss: 6224.2904 - mean_squared_error: 20361\n",
      "Epoch 37/231\n",
      "2658/2658 [==============================] - 6s 2ms/step - loss: 6215.4425 - mean_squared_error: 202884701.8842\n",
      "Epoch 38/231\n",
      "2658/2658 [==============================] - 6s 2ms/step - loss: 6212.7432 - mean_squared_error: 202845256.8484\n",
      "Epoch 39/231\n",
      "2658/2658 [==============================] - 6s 2ms/step - loss: 6209.5681 - mean_squared_error: 202782470.2083\n",
      "Epoch 40/231\n",
      "2658/2658 [==============================] - 6s 2ms/step - loss: 6206.8873 - mean_squared_error: 202756079.8902\n",
      "Epoch 41/231\n",
      "2658/2658 [==============================] - 6s 2ms/step - loss: 6204.6094 - mean_squared_error: 202729618.3543A: 0s - loss: 6207.4093 - mean_squared_error: 20303878\n",
      "Epoch 42/231\n",
      "2658/2658 [==============================] - 6s 2ms/step - loss: 6201.8461 - mean_squared_error: 202675970.2377\n",
      "Epoch 43/231\n",
      "2658/2658 [==============================] - 6s 2ms/step - loss: 6199.0466 - mean_squared_error: 202637364.0181A: 2s\n",
      "Epoch 44/231\n",
      "2658/2658 [==============================] - 6s 2ms/step - loss: 6197.3110 - mean_squared_error: 202627344.1956A: 3s - loss: 6259.5189 - mea - ETA: 2s - loss: 62\n",
      "Epoch 45/231\n",
      "2658/2658 [==============================] - 6s 2ms/step - loss: 6195.0578 - mean_squared_error: 202617387.2493\n",
      "Epoch 46/231\n",
      "2658/2658 [==============================] - 6s 2ms/step - loss: 6192.7633 - mean_squared_error: 202562521.8097\n",
      "Epoch 47/231\n",
      "2658/2658 [==============================] - 6s 2ms/step - loss: 6190.5935 - mean_squared_error: 202550372.0226A: 5s - loss: 6303.3484 - mean_squared_e - ETA: 0s - loss: 6201.7638 - mean_squared_err\n",
      "Epoch 48/231\n",
      "2658/2658 [==============================] - 6s 2ms/step - loss: 6188.6227 - mean_squared_error: 202516199.2704\n",
      "Epoch 49/231\n",
      "2658/2658 [==============================] - 6s 2ms/step - loss: 6186.9153 - mean_squared_error: 202477534.8763\n",
      "Epoch 50/231\n",
      "2658/2658 [==============================] - 6s 2ms/step - loss: 6185.2422 - mean_squared_error: 202479181.7924A: 1s - loss: 6215.1400 - mean_squared_e - ETA: 0s - loss: 6197.4600 - mean_squared_erro\n",
      "Epoch 51/231\n",
      "2658/2658 [==============================] - 6s 2ms/step - loss: 6183.1150 - mean_squared_error: 202471370.6687\n",
      "Epoch 52/231\n",
      "2658/2658 [==============================] - 7s 3ms/step - loss: 6181.5630 - mean_squared_error: 202466598.9560\n",
      "Epoch 53/231\n",
      "2658/2658 [==============================] - 6s 2ms/step - loss: 6179.9996 - mean_squared_error: 202439864.3106A: 4s - loss: 6243.8398 - mean_squared_er\n",
      "Epoch 54/231\n",
      "2658/2658 [==============================] - 6s 2ms/step - loss: 6177.9613 - mean_squared_error: 202406582.0820A: 2s - loss: 6211\n",
      "Epoch 55/231\n",
      "2658/2658 [==============================] - 6s 2ms/step - loss: 6176.5825 - mean_squared_error: 202382731.6420A: 2s - loss: 6207.7872 - mean_ - ETA: 0s - loss: 6183.4557 - mean_squared_error: 203\n",
      "Epoch 56/231\n",
      "2658/2658 [==============================] - 7s 2ms/step - loss: 6175.3804 - mean_squared_error: 202396844.2851A: 2s - loss: 6216.8567 - mean_square - ETA: 1s - loss: 6197.6703 - mean\n",
      "Epoch 57/231\n"
     ]
    },
    {
     "name": "stdout",
     "output_type": "stream",
     "text": [
      "2658/2658 [==============================] - 6s 2ms/step - loss: 6173.8738 - mean_squared_error: 202360684.4859\n",
      "Epoch 58/231\n",
      "2658/2658 [==============================] - 5s 2ms/step - loss: 6171.9457 - mean_squared_error: 202347022.1008A: 1s - loss: 6198.3643 - mean_squared_error: 2060160 - ETA: 1s - loss: 6192.2001 - mean_square\n",
      "Epoch 59/231\n",
      "2658/2658 [==============================] - 5s 2ms/step - loss: 6171.0024 - mean_squared_error: 202349640.7311\n",
      "Epoch 60/231\n",
      "2658/2658 [==============================] - 5s 2ms/step - loss: 6169.2971 - mean_squared_error: 202346015.9767\n",
      "Epoch 61/231\n",
      "2658/2658 [==============================] - 5s 2ms/step - loss: 6167.9349 - mean_squared_error: 202347890.3919\n",
      "Epoch 62/231\n",
      "2658/2658 [==============================] - 5s 2ms/step - loss: 6166.8820 - mean_squared_error: 202327449.5495\n",
      "Epoch 63/231\n",
      "2658/2658 [==============================] - 6s 2ms/step - loss: 6165.5517 - mean_squared_error: 202314165.9316A: 5s - loss: 6391.3960 - mea\n",
      "Epoch 64/231\n",
      "2658/2658 [==============================] - 6s 2ms/step - loss: 6164.3074 - mean_squared_error: 202310697.6269A: 4s - loss: 6239.6790 - mean_squared_error:\n",
      "Epoch 65/231\n",
      "2658/2658 [==============================] - 5s 2ms/step - loss: 6163.1141 - mean_squared_error: 202320107.3817\n",
      "Epoch 66/231\n",
      "2658/2658 [==============================] - 5s 2ms/step - loss: 6162.3082 - mean_squared_error: 202309257.6608\n",
      "Epoch 67/231\n",
      "2658/2658 [==============================] - 6s 2ms/step - loss: 6161.0976 - mean_squared_error: 202314686.1572A: 1s - loss: 6193.4143 -\n",
      "Epoch 68/231\n",
      "2658/2658 [==============================] - 6s 2ms/step - loss: 6160.1530 - mean_squared_error: 202301847.5607A: 0s - loss: 6168.8304 - mean_squared_error:\n",
      "Epoch 69/231\n",
      "2658/2658 [==============================] - 7s 3ms/step - loss: 6159.2509 - mean_squared_error: 202314980.0128A: 2s - \n",
      "Epoch 70/231\n",
      "2658/2658 [==============================] - 6s 2ms/step - loss: 6158.0637 - mean_squared_error: 202268314.2038\n",
      "Epoch 71/231\n",
      "2658/2658 [==============================] - 6s 2ms/step - loss: 6157.3571 - mean_squared_error: 202285874.5363\n",
      "Epoch 72/231\n",
      "2658/2658 [==============================] - 5s 2ms/step - loss: 6156.8282 - mean_squared_error: 202287539.7360\n",
      "Epoch 73/231\n",
      "2658/2658 [==============================] - 5s 2ms/step - loss: 6155.8725 - mean_squared_error: 202272770.9500\n",
      "Epoch 74/231\n",
      "2658/2658 [==============================] - 5s 2ms/step - loss: 6154.6496 - mean_squared_error: 202278946.0684\n",
      "Epoch 75/231\n",
      "2658/2658 [==============================] - 5s 2ms/step - loss: 6154.0004 - mean_squared_error: 202291869.2554\n",
      "Epoch 76/231\n",
      "2658/2658 [==============================] - 6s 2ms/step - loss: 6153.1228 - mean_squared_error: 202309045.2193\n",
      "Epoch 77/231\n",
      "2658/2658 [==============================] - 6s 2ms/step - loss: 6152.4712 - mean_squared_error: 202281631.6871\n",
      "Epoch 78/231\n",
      "2658/2658 [==============================] - 6s 2ms/step - loss: 6151.8573 - mean_squared_error: 202287322.7085\n",
      "Epoch 79/231\n",
      "2658/2658 [==============================] - 6s 2ms/step - loss: 6151.0859 - mean_squared_error: 202308744.4799\n",
      "Epoch 80/231\n",
      "2658/2658 [==============================] - 6s 2ms/step - loss: 6150.5353 - mean_squared_error: 202312138.7544\n",
      "Epoch 81/231\n",
      "2658/2658 [==============================] - 6s 2ms/step - loss: 6149.9361 - mean_squared_error: 202295314.3152\n",
      "Epoch 82/231\n",
      "2658/2658 [==============================] - 5s 2ms/step - loss: 6149.3448 - mean_squared_error: 202316321.3704A: 0s - loss: 6151.5943 - mean_squared_error: 202559483.\n",
      "Epoch 83/231\n",
      "2658/2658 [==============================] - 5s 2ms/step - loss: 6148.8383 - mean_squared_error: 202315232.0760\n",
      "Epoch 84/231\n",
      "2658/2658 [==============================] - 6s 2ms/step - loss: 6147.8776 - mean_squared_error: 202289422.1331\n",
      "Epoch 85/231\n",
      "2658/2658 [==============================] - 5s 2ms/step - loss: 6147.6412 - mean_squared_error: 202305544.2392\n",
      "Epoch 86/231\n",
      "2658/2658 [==============================] - 6s 2ms/step - loss: 6146.7277 - mean_squared_error: 202300084.4716\n",
      "Epoch 87/231\n",
      "2658/2658 [==============================] - 6s 2ms/step - loss: 6146.3200 - mean_squared_error: 202319377.1478A: 1s - loss: 6169.5278 - mean_sq\n",
      "Epoch 88/231\n",
      "2658/2658 [==============================] - 6s 2ms/step - loss: 6146.0087 - mean_squared_error: 202312973.1004\n",
      "Epoch 89/231\n",
      "2658/2658 [==============================] - 5s 2ms/step - loss: 6145.6244 - mean_squared_error: 202325963.0688\n",
      "Epoch 90/231\n",
      "2658/2658 [==============================] - 5s 2ms/step - loss: 6144.7867 - mean_squared_error: 202327422.5920\n",
      "Epoch 91/231\n",
      "2658/2658 [==============================] - 6s 2ms/step - loss: 6144.3270 - mean_squared_error: 202320373.2486\n",
      "Epoch 92/231\n",
      "2658/2658 [==============================] - 6s 2ms/step - loss: 6143.5767 - mean_squared_error: 202322484.7469A: 2s - loss: 61\n",
      "Epoch 93/231\n",
      "2658/2658 [==============================] - 6s 2ms/step - loss: 6143.7013 - mean_squared_error: 202323294.5799\n",
      "Epoch 94/231\n",
      "2658/2658 [==============================] - 6s 2ms/step - loss: 6142.8867 - mean_squared_error: 202330579.8330\n",
      "Epoch 95/231\n",
      "2658/2658 [==============================] - 6s 2ms/step - loss: 6142.4415 - mean_squared_error: 202319161.6081\n",
      "Epoch 96/231\n",
      "2658/2658 [==============================] - 6s 2ms/step - loss: 6141.7505 - mean_squared_error: 202338995.7337\n",
      "Epoch 97/231\n",
      "2658/2658 [==============================] - 6s 2ms/step - loss: 6141.6626 - mean_squared_error: 202333252.6002\n",
      "Epoch 98/231\n",
      "2658/2658 [==============================] - 6s 2ms/step - loss: 6140.7816 - mean_squared_error: 202334996.9252\n",
      "Epoch 99/231\n",
      "2658/2658 [==============================] - 6s 2ms/step - loss: 6140.2634 - mean_squared_error: 202346525.9887A: 1s - loss: 6169.3876 \n",
      "Epoch 100/231\n",
      "2658/2658 [==============================] - 6s 2ms/step - loss: 6139.7733 - mean_squared_error: 202348481.5622\n",
      "Epoch 101/231\n",
      "2658/2658 [==============================] - 6s 2ms/step - loss: 6139.6793 - mean_squared_error: 202348582.8349\n",
      "Epoch 102/231\n",
      "2658/2658 [==============================] - 6s 2ms/step - loss: 6138.8964 - mean_squared_error: 202343650.8530\n",
      "Epoch 103/231\n",
      "2658/2658 [==============================] - 6s 2ms/step - loss: 6138.6365 - mean_squared_error: 202358286.7461\n",
      "Epoch 104/231\n",
      "2658/2658 [==============================] - 6s 2ms/step - loss: 6138.5300 - mean_squared_error: 202351993.8992\n",
      "Epoch 105/231\n",
      "2658/2658 [==============================] - 6s 2ms/step - loss: 6138.0793 - mean_squared_error: 202355763.4900\n",
      "Epoch 106/231\n",
      "2658/2658 [==============================] - 6s 2ms/step - loss: 6137.7990 - mean_squared_error: 202341917.6217\n",
      "Epoch 107/231\n",
      "2658/2658 [==============================] - 6s 2ms/step - loss: 6137.2418 - mean_squared_error: 202361594.8289\n",
      "Epoch 108/231\n",
      "2658/2658 [==============================] - 6s 2ms/step - loss: 6137.0613 - mean_squared_error: 202363297.1531\n",
      "Epoch 109/231\n",
      "2658/2658 [==============================] - 6s 2ms/step - loss: 6136.4846 - mean_squared_error: 202371306.6596\n",
      "Epoch 110/231\n",
      "2658/2658 [==============================] - 6s 2ms/step - loss: 6136.2012 - mean_squared_error: 202360687.3622\n",
      "Epoch 111/231\n",
      "2658/2658 [==============================] - 6s 2ms/step - loss: 6135.8384 - mean_squared_error: 202371162.9259\n",
      "Epoch 112/231\n",
      "2658/2658 [==============================] - 6s 2ms/step - loss: 6135.6276 - mean_squared_error: 202374836.3242\n",
      "Epoch 113/231\n",
      "2658/2658 [==============================] - 6s 2ms/step - loss: 6135.5143 - mean_squared_error: 202402040.8725\n",
      "Epoch 114/231\n",
      "2658/2658 [==============================] - 6s 2ms/step - loss: 6135.0586 - mean_squared_error: 202383654.9094\n",
      "Epoch 115/231\n",
      "2658/2658 [==============================] - 6s 2ms/step - loss: 6134.8924 - mean_squared_error: 202387752.7326\n",
      "Epoch 116/231\n",
      "2658/2658 [==============================] - 6s 2ms/step - loss: 6134.8756 - mean_squared_error: 202411338.6747\n",
      "Epoch 117/231\n",
      "2658/2658 [==============================] - 7s 3ms/step - loss: 6134.6032 - mean_squared_error: 202390737.3133\n",
      "Epoch 118/231\n",
      "2658/2658 [==============================] - 6s 2ms/step - loss: 6134.2402 - mean_squared_error: 202391799.3494\n",
      "Epoch 119/231\n"
     ]
    },
    {
     "name": "stdout",
     "output_type": "stream",
     "text": [
      "2658/2658 [==============================] - 5s 2ms/step - loss: 6133.9525 - mean_squared_error: 202398231.7225\n",
      "Epoch 120/231\n",
      "2658/2658 [==============================] - 5s 2ms/step - loss: 6133.6736 - mean_squared_error: 202413662.4889\n",
      "Epoch 121/231\n",
      "2658/2658 [==============================] - 5s 2ms/step - loss: 6133.5465 - mean_squared_error: 202410529.4968\n",
      "Epoch 122/231\n",
      "2658/2658 [==============================] - 6s 2ms/step - loss: 6133.0604 - mean_squared_error: 202406656.3174\n",
      "Epoch 123/231\n",
      "2658/2658 [==============================] - 5s 2ms/step - loss: 6133.2244 - mean_squared_error: 202406059.2554\n",
      "Epoch 124/231\n",
      "2658/2658 [==============================] - 5s 2ms/step - loss: 6132.2869 - mean_squared_error: 202415518.6807A: 2s - l\n",
      "Epoch 125/231\n",
      "2658/2658 [==============================] - 6s 2ms/step - loss: 6132.4893 - mean_squared_error: 202406529.5006\n",
      "Epoch 126/231\n",
      "2658/2658 [==============================] - 5s 2ms/step - loss: 6132.7498 - mean_squared_error: 202398939.3787\n",
      "Epoch 127/231\n",
      "2658/2658 [==============================] - 5s 2ms/step - loss: 6132.2364 - mean_squared_error: 202407757.9225\n",
      "Epoch 128/231\n",
      "2658/2658 [==============================] - 6s 2ms/step - loss: 6131.8987 - mean_squared_error: 202413423.0959A: 2s - loss: 6168.719\n",
      "Epoch 129/231\n",
      "2658/2658 [==============================] - 6s 2ms/step - loss: 6132.5762 - mean_squared_error: 202415165.9842A: 0s - loss: 6138.0473 - mean_squared_error: 20301\n",
      "Epoch 130/231\n",
      "2658/2658 [==============================] - 5s 2ms/step - loss: 6131.6956 - mean_squared_error: 202400052.2196A: 1s - loss: 6166.8148 - mean_squared_error: 2074486 - ETA: 1s - loss: 6160.2720 - \n",
      "Epoch 131/231\n",
      "2658/2658 [==============================] - 5s 2ms/step - loss: 6131.7315 - mean_squared_error: 202419923.3592\n",
      "Epoch 132/231\n",
      "2658/2658 [==============================] - 6s 2ms/step - loss: 6131.5807 - mean_squared_error: 202407628.7416\n",
      "Epoch 133/231\n",
      "2658/2658 [==============================] - 6s 2ms/step - loss: 6131.5427 - mean_squared_error: 202404949.5532\n",
      "Epoch 134/231\n",
      "2658/2658 [==============================] - 6s 2ms/step - loss: 6131.4335 - mean_squared_error: 202423260.1196\n",
      "Epoch 135/231\n",
      "2658/2658 [==============================] - 5s 2ms/step - loss: 6131.0511 - mean_squared_error: 202408385.0034\n",
      "Epoch 136/231\n",
      "2658/2658 [==============================] - 6s 2ms/step - loss: 6130.9115 - mean_squared_error: 202406303.7939\n",
      "Epoch 137/231\n",
      "2658/2658 [==============================] - 6s 2ms/step - loss: 6130.3770 - mean_squared_error: 202413352.8785\n",
      "Epoch 138/231\n",
      "2658/2658 [==============================] - 5s 2ms/step - loss: 6130.4632 - mean_squared_error: 202417401.5434\n",
      "Epoch 139/231\n",
      "2658/2658 [==============================] - 5s 2ms/step - loss: 6130.1354 - mean_squared_error: 202411521.7676\n",
      "Epoch 140/231\n",
      "2658/2658 [==============================] - 5s 2ms/step - loss: 6130.3706 - mean_squared_error: 202439129.5660\n",
      "Epoch 141/231\n",
      "2658/2658 [==============================] - 6s 2ms/step - loss: 6130.0141 - mean_squared_error: 202406442.5453\n",
      "Epoch 142/231\n",
      "2658/2658 [==============================] - 6s 2ms/step - loss: 6129.6861 - mean_squared_error: 202408751.3231\n",
      "Epoch 143/231\n",
      "2658/2658 [==============================] - 6s 2ms/step - loss: 6129.8480 - mean_squared_error: 202439622.6378\n",
      "Epoch 144/231\n",
      "2658/2658 [==============================] - 5s 2ms/step - loss: 6129.3857 - mean_squared_error: 202427916.5942\n",
      "Epoch 145/231\n",
      "2658/2658 [==============================] - 5s 2ms/step - loss: 6129.1155 - mean_squared_error: 202434356.1015\n",
      "Epoch 146/231\n",
      "2658/2658 [==============================] - 6s 2ms/step - loss: 6129.1082 - mean_squared_error: 202424056.8424\n",
      "Epoch 147/231\n",
      "2658/2658 [==============================] - 6s 2ms/step - loss: 6129.2950 - mean_squared_error: 202426602.1557A: 2s - \n",
      "Epoch 148/231\n",
      "2658/2658 [==============================] - 6s 2ms/step - loss: 6129.3507 - mean_squared_error: 202436505.5314\n",
      "Epoch 149/231\n",
      "2658/2658 [==============================] - 6s 2ms/step - loss: 6129.3293 - mean_squared_error: 202430605.5299\n",
      "Epoch 150/231\n",
      "2658/2658 [==============================] - 5s 2ms/step - loss: 6129.0785 - mean_squared_error: 202439917.6743\n",
      "Epoch 151/231\n",
      "2658/2658 [==============================] - 6s 2ms/step - loss: 6128.7127 - mean_squared_error: 202420527.1771A: 2s - loss: 6185.3142 - mean_squared_error: 21155165 - ETA: 2s - loss: 6180.5281 - mean_squared_error: 210403 - ETA: 2s - los\n",
      "Epoch 152/231\n",
      "2658/2658 [==============================] - 6s 2ms/step - loss: 6128.8658 - mean_squared_error: 202446805.4359A: 1s - loss: 6156.6261 -\n",
      "Epoch 153/231\n",
      "2658/2658 [==============================] - 5s 2ms/step - loss: 6128.2824 - mean_squared_error: 202444694.9981\n",
      "Epoch 154/231\n",
      "2658/2658 [==============================] - 5s 2ms/step - loss: 6128.0486 - mean_squared_error: 202430424.8357\n",
      "Epoch 155/231\n",
      "2658/2658 [==============================] - 6s 2ms/step - loss: 6128.1857 - mean_squared_error: 202442417.0636\n",
      "Epoch 156/231\n",
      "2658/2658 [==============================] - 6s 2ms/step - loss: 6127.9459 - mean_squared_error: 202450128.4558\n",
      "Epoch 157/231\n",
      "2658/2658 [==============================] - 6s 2ms/step - loss: 6128.4837 - mean_squared_error: 202446801.1425\n",
      "Epoch 158/231\n",
      "2658/2658 [==============================] - 6s 2ms/step - loss: 6127.8865 - mean_squared_error: 202443084.0978\n",
      "Epoch 159/231\n",
      "2658/2658 [==============================] - 5s 2ms/step - loss: 6127.7752 - mean_squared_error: 202455599.0192\n",
      "Epoch 160/231\n",
      "2658/2658 [==============================] - 6s 2ms/step - loss: 6128.0225 - mean_squared_error: 202449717.9789\n",
      "Epoch 161/231\n",
      "2658/2658 [==============================] - 6s 2ms/step - loss: 6127.4105 - mean_squared_error: 202469997.7721\n",
      "Epoch 162/231\n",
      "2658/2658 [==============================] - 6s 2ms/step - loss: 6127.7107 - mean_squared_error: 202448952.8484\n",
      "Epoch 163/231\n",
      "2658/2658 [==============================] - 6s 2ms/step - loss: 6127.5056 - mean_squared_error: 202457668.5115\n",
      "Epoch 164/231\n",
      "2658/2658 [==============================] - 6s 2ms/step - loss: 6126.6329 - mean_squared_error: 202445463.7924\n",
      "Epoch 165/231\n",
      "2658/2658 [==============================] - 6s 2ms/step - loss: 6126.6111 - mean_squared_error: 202457427.8624\n",
      "Epoch 166/231\n",
      "2658/2658 [==============================] - 6s 2ms/step - loss: 6126.6499 - mean_squared_error: 202460295.8044\n",
      "Epoch 167/231\n",
      "2658/2658 [==============================] - 6s 2ms/step - loss: 6127.2894 - mean_squared_error: 202456033.4772A: 1s - loss: 6146.0807 - mean_squar\n",
      "Epoch 168/231\n",
      "2658/2658 [==============================] - 6s 2ms/step - loss: 6126.6461 - mean_squared_error: 202460159.9398A: 0s - loss: 6132.1655 - mean_squared_error: 2030\n",
      "Epoch 169/231\n",
      "2658/2658 [==============================] - 5s 2ms/step - loss: 6126.5980 - mean_squared_error: 202456993.2253\n",
      "Epoch 170/231\n",
      "2658/2658 [==============================] - 6s 2ms/step - loss: 6126.8528 - mean_squared_error: 202424139.1771\n",
      "Epoch 171/231\n",
      "2658/2658 [==============================] - 6s 2ms/step - loss: 6126.3854 - mean_squared_error: 202448922.4423\n",
      "Epoch 172/231\n",
      "2658/2658 [==============================] - 6s 2ms/step - loss: 6125.7765 - mean_squared_error: 202449564.2670\n",
      "Epoch 173/231\n",
      "2658/2658 [==============================] - 6s 2ms/step - loss: 6126.5552 - mean_squared_error: 202441586.2715\n",
      "Epoch 174/231\n",
      "2658/2658 [==============================] - 6s 2ms/step - loss: 6126.1802 - mean_squared_error: 202445654.6115\n",
      "Epoch 175/231\n",
      "2658/2658 [==============================] - 6s 2ms/step - loss: 6126.3171 - mean_squared_error: 202447119.9556\n",
      "Epoch 176/231\n",
      "2658/2658 [==============================] - 6s 2ms/step - loss: 6125.8744 - mean_squared_error: 202444586.5047\n",
      "Epoch 177/231\n",
      "2658/2658 [==============================] - 7s 3ms/step - loss: 6125.9600 - mean_squared_error: 202448624.9695\n",
      "Epoch 178/231\n",
      "2658/2658 [==============================] - 4s 2ms/step - loss: 6125.4679 - mean_squared_error: 202445129.8970\n",
      "Epoch 179/231\n",
      "2658/2658 [==============================] - 4s 2ms/step - loss: 6125.3015 - mean_squared_error: 202422741.7360\n",
      "Epoch 180/231\n"
     ]
    },
    {
     "name": "stdout",
     "output_type": "stream",
     "text": [
      "2658/2658 [==============================] - 4s 2ms/step - loss: 6125.2377 - mean_squared_error: 202428591.3095\n",
      "Epoch 181/231\n",
      "2658/2658 [==============================] - 4s 2ms/step - loss: 6125.3091 - mean_squared_error: 202442705.3704\n",
      "Epoch 182/231\n",
      "2658/2658 [==============================] - 4s 2ms/step - loss: 6125.1179 - mean_squared_error: 202457033.6217\n",
      "Epoch 183/231\n",
      "2658/2658 [==============================] - 4s 2ms/step - loss: 6124.9139 - mean_squared_error: 202427993.6427\n",
      "Epoch 184/231\n",
      "2658/2658 [==============================] - 4s 2ms/step - loss: 6125.0222 - mean_squared_error: 202445901.5976\n",
      "Epoch 185/231\n",
      "2658/2658 [==============================] - 4s 2ms/step - loss: 6124.9425 - mean_squared_error: 202415490.4882\n",
      "Epoch 186/231\n",
      "2658/2658 [==============================] - 4s 2ms/step - loss: 6124.7421 - mean_squared_error: 202410346.0835\n",
      "Epoch 187/231\n",
      "2658/2658 [==============================] - 4s 2ms/step - loss: 6124.7548 - mean_squared_error: 202445414.9003\n",
      "Epoch 188/231\n",
      "2658/2658 [==============================] - 4s 2ms/step - loss: 6124.3949 - mean_squared_error: 202435510.8958\n",
      "Epoch 189/231\n",
      "2658/2658 [==============================] - 4s 2ms/step - loss: 6124.3705 - mean_squared_error: 202419423.0372\n",
      "Epoch 190/231\n",
      "2658/2658 [==============================] - 4s 2ms/step - loss: 6124.8905 - mean_squared_error: 202465193.9549\n",
      "Epoch 191/231\n",
      "2658/2658 [==============================] - 5s 2ms/step - loss: 6124.2299 - mean_squared_error: 202419652.3302\n",
      "Epoch 192/231\n",
      "2658/2658 [==============================] - 4s 2ms/step - loss: 6124.1592 - mean_squared_error: 202413914.9590\n",
      "Epoch 193/231\n",
      "2658/2658 [==============================] - 4s 2ms/step - loss: 6124.2114 - mean_squared_error: 202415422.0143A: 1s - loss: 6167.964\n",
      "Epoch 194/231\n",
      "2658/2658 [==============================] - 4s 2ms/step - loss: 6124.5252 - mean_squared_error: 202431199.3539\n",
      "Epoch 195/231\n",
      "2658/2658 [==============================] - 4s 2ms/step - loss: 6124.0157 - mean_squared_error: 202426343.6871\n",
      "Epoch 196/231\n",
      "2658/2658 [==============================] - 4s 2ms/step - loss: 6123.9978 - mean_squared_error: 202419870.0474\n",
      "Epoch 197/231\n",
      "2658/2658 [==============================] - 4s 2ms/step - loss: 6124.0241 - mean_squared_error: 202420708.8906\n",
      "Epoch 198/231\n",
      "2658/2658 [==============================] - 5s 2ms/step - loss: 6123.7887 - mean_squared_error: 202412053.2704\n",
      "Epoch 199/231\n",
      "2658/2658 [==============================] - 4s 2ms/step - loss: 6123.7264 - mean_squared_error: 202424069.3088\n",
      "Epoch 200/231\n",
      "2658/2658 [==============================] - 4s 2ms/step - loss: 6123.8602 - mean_squared_error: 202423219.1027\n",
      "Epoch 201/231\n",
      "2658/2658 [==============================] - 4s 2ms/step - loss: 6123.6879 - mean_squared_error: 202429905.7127\n",
      "Epoch 202/231\n",
      "2658/2658 [==============================] - 4s 2ms/step - loss: 6123.3232 - mean_squared_error: 202415843.9248\n",
      "Epoch 203/231\n",
      "2658/2658 [==============================] - 4s 2ms/step - loss: 6123.7997 - mean_squared_error: 202443235.5668\n",
      "Epoch 204/231\n",
      "2658/2658 [==============================] - 4s 2ms/step - loss: 6123.7955 - mean_squared_error: 202444508.1655\n",
      "Epoch 205/231\n",
      "2658/2658 [==============================] - 4s 2ms/step - loss: 6123.4481 - mean_squared_error: 202433701.6247\n",
      "Epoch 206/231\n",
      "2658/2658 [==============================] - 4s 2ms/step - loss: 6123.4788 - mean_squared_error: 202417986.4784\n",
      "Epoch 207/231\n",
      "2658/2658 [==============================] - 4s 2ms/step - loss: 6123.3311 - mean_squared_error: 202436909.1779\n",
      "Epoch 208/231\n",
      "2658/2658 [==============================] - 4s 2ms/step - loss: 6123.2985 - mean_squared_error: 202425656.4814\n",
      "Epoch 209/231\n",
      "2658/2658 [==============================] - 4s 2ms/step - loss: 6123.1773 - mean_squared_error: 202426356.4182\n",
      "Epoch 210/231\n",
      "2658/2658 [==============================] - 4s 2ms/step - loss: 6123.1955 - mean_squared_error: 202433116.0196\n",
      "Epoch 211/231\n",
      "2658/2658 [==============================] - 4s 2ms/step - loss: 6123.0651 - mean_squared_error: 202425991.3569\n",
      "Epoch 212/231\n",
      "2658/2658 [==============================] - 4s 2ms/step - loss: 6123.1312 - mean_squared_error: 202418242.7334A: 1s - loss: 6151.1076 - mean_squa\n",
      "Epoch 213/231\n",
      "2658/2658 [==============================] - 4s 2ms/step - loss: 6123.0596 - mean_squared_error: 202434542.2038\n",
      "Epoch 214/231\n",
      "2658/2658 [==============================] - 4s 2ms/step - loss: 6123.2147 - mean_squared_error: 202430606.6627\n",
      "Epoch 215/231\n",
      "2658/2658 [==============================] - 4s 2ms/step - loss: 6123.0380 - mean_squared_error: 202430917.3765\n",
      "Epoch 216/231\n",
      "2658/2658 [==============================] - 4s 2ms/step - loss: 6123.0949 - mean_squared_error: 202426480.9560\n",
      "Epoch 217/231\n",
      "2658/2658 [==============================] - 4s 2ms/step - loss: 6122.7690 - mean_squared_error: 202422906.3791\n",
      "Epoch 218/231\n",
      "2658/2658 [==============================] - 4s 2ms/step - loss: 6123.0538 - mean_squared_error: 202433111.6811\n",
      "Epoch 219/231\n",
      "2658/2658 [==============================] - 4s 2ms/step - loss: 6122.5899 - mean_squared_error: 202431552.8251\n",
      "Epoch 220/231\n",
      "2658/2658 [==============================] - 4s 2ms/step - loss: 6122.6058 - mean_squared_error: 202423268.8710\n",
      "Epoch 221/231\n",
      "2658/2658 [==============================] - 5s 2ms/step - loss: 6122.6868 - mean_squared_error: 202432883.5036\n",
      "Epoch 222/231\n",
      "2658/2658 [==============================] - 4s 2ms/step - loss: 6122.6669 - mean_squared_error: 202433602.3738\n",
      "Epoch 223/231\n",
      "2658/2658 [==============================] - 4s 2ms/step - loss: 6122.5050 - mean_squared_error: 202431558.0150\n",
      "Epoch 224/231\n",
      "2658/2658 [==============================] - 4s 2ms/step - loss: 6122.3079 - mean_squared_error: 202425342.4693\n",
      "Epoch 225/231\n",
      "2658/2658 [==============================] - 4s 2ms/step - loss: 6122.5543 - mean_squared_error: 202442497.5758\n",
      "Epoch 226/231\n",
      "2658/2658 [==============================] - 4s 2ms/step - loss: 6122.4702 - mean_squared_error: 202431382.5017\n",
      "Epoch 227/231\n",
      "2658/2658 [==============================] - 4s 2ms/step - loss: 6122.3372 - mean_squared_error: 202440215.8360\n",
      "Epoch 228/231\n",
      "2658/2658 [==============================] - 4s 2ms/step - loss: 6122.2171 - mean_squared_error: 202436371.3185\n",
      "Epoch 229/231\n",
      "2658/2658 [==============================] - 4s 2ms/step - loss: 6122.1209 - mean_squared_error: 202433833.7661\n",
      "Epoch 230/231\n",
      "2658/2658 [==============================] - 4s 2ms/step - loss: 6122.5830 - mean_squared_error: 202440388.8883\n",
      "Epoch 231/231\n",
      "2658/2658 [==============================] - 4s 2ms/step - loss: 6122.4102 - mean_squared_error: 202444627.2862\n",
      "INFO:tensorflow:Assets written to: ./structured_data_regressor/best_model/assets\n",
      "MAE: 6133.658\n",
      "WARNING:tensorflow:Model was constructed with shape (None, 15) for input KerasTensor(type_spec=TensorSpec(shape=(None, 15), dtype=tf.float64, name='input_1'), name='input_1', description=\"created by layer 'input_1'\"), but it was called on an input with incompatible shape (None, 1).\n"
     ]
    },
    {
     "ename": "ValueError",
     "evalue": "in user code:\n\n    /Users/niallgray/opt/miniconda3/envs/aml/lib/python3.8/site-packages/tensorflow/python/keras/engine/training.py:1478 predict_function  *\n        return step_function(self, iterator)\n    /Users/niallgray/opt/miniconda3/envs/aml/lib/python3.8/site-packages/autokeras/keras_layers.py:90 call  *\n        split_inputs = tf.split(input_nodes, [1] * len(self.encoding), axis=-1)\n    /Users/niallgray/opt/miniconda3/envs/aml/lib/python3.8/site-packages/tensorflow/python/util/dispatch.py:201 wrapper  **\n        return target(*args, **kwargs)\n    /Users/niallgray/opt/miniconda3/envs/aml/lib/python3.8/site-packages/tensorflow/python/ops/array_ops.py:2053 split\n        return gen_array_ops.split_v(\n    /Users/niallgray/opt/miniconda3/envs/aml/lib/python3.8/site-packages/tensorflow/python/ops/gen_array_ops.py:10085 split_v\n        _, _, _op, _outputs = _op_def_library._apply_op_helper(\n    /Users/niallgray/opt/miniconda3/envs/aml/lib/python3.8/site-packages/tensorflow/python/framework/op_def_library.py:748 _apply_op_helper\n        op = g._create_op_internal(op_type_name, inputs, dtypes=None,\n    /Users/niallgray/opt/miniconda3/envs/aml/lib/python3.8/site-packages/tensorflow/python/framework/func_graph.py:590 _create_op_internal\n        return super(FuncGraph, self)._create_op_internal(  # pylint: disable=protected-access\n    /Users/niallgray/opt/miniconda3/envs/aml/lib/python3.8/site-packages/tensorflow/python/framework/ops.py:3528 _create_op_internal\n        ret = Operation(\n    /Users/niallgray/opt/miniconda3/envs/aml/lib/python3.8/site-packages/tensorflow/python/framework/ops.py:2015 __init__\n        self._c_op = _create_c_op(self._graph, node_def, inputs,\n    /Users/niallgray/opt/miniconda3/envs/aml/lib/python3.8/site-packages/tensorflow/python/framework/ops.py:1856 _create_c_op\n        raise ValueError(str(e))\n\n    ValueError: can't split axis of size 1 into pieces of size [1,1,1,1,1,1,1,1,1,1,1,1,1,1,1] for '{{node model/multi_category_encoding/split}} = SplitV[T=DT_FLOAT, Tlen=DT_INT32, num_split=15](model/Cast_1, model/multi_category_encoding/Const, model/multi_category_encoding/split/split_dim)' with input shapes: [?,1], [15], [] and with computed input tensors: input[1] = <1 1 1 1 1 1 1 1 1 1 1 1 1 1 1>, input[2] = <-1>.\n",
     "output_type": "error",
     "traceback": [
      "\u001b[0;31m---------------------------------------------------------------------------\u001b[0m",
      "\u001b[0;31mValueError\u001b[0m                                Traceback (most recent call last)",
      "\u001b[0;32m<ipython-input-39-ce5a12ff2d34>\u001b[0m in \u001b[0;36m<module>\u001b[0;34m\u001b[0m\n\u001b[1;32m      8\u001b[0m \u001b[0;31m# use the model to make a prediction\u001b[0m\u001b[0;34m\u001b[0m\u001b[0;34m\u001b[0m\u001b[0;34m\u001b[0m\u001b[0m\n\u001b[1;32m      9\u001b[0m \u001b[0mX_new\u001b[0m \u001b[0;34m=\u001b[0m \u001b[0masarray\u001b[0m\u001b[0;34m(\u001b[0m\u001b[0;34m[\u001b[0m\u001b[0;34m[\u001b[0m\u001b[0;36m108\u001b[0m\u001b[0;34m]\u001b[0m\u001b[0;34m]\u001b[0m\u001b[0;34m)\u001b[0m\u001b[0;34m.\u001b[0m\u001b[0mastype\u001b[0m\u001b[0;34m(\u001b[0m\u001b[0;34m'float32'\u001b[0m\u001b[0;34m)\u001b[0m\u001b[0;34m\u001b[0m\u001b[0;34m\u001b[0m\u001b[0m\n\u001b[0;32m---> 10\u001b[0;31m \u001b[0myhat\u001b[0m \u001b[0;34m=\u001b[0m \u001b[0msearch\u001b[0m\u001b[0;34m.\u001b[0m\u001b[0mpredict\u001b[0m\u001b[0;34m(\u001b[0m\u001b[0mX_new\u001b[0m\u001b[0;34m)\u001b[0m\u001b[0;34m\u001b[0m\u001b[0;34m\u001b[0m\u001b[0m\n\u001b[0m\u001b[1;32m     11\u001b[0m \u001b[0mprint\u001b[0m\u001b[0;34m(\u001b[0m\u001b[0;34m'Predicted: %.3f'\u001b[0m \u001b[0;34m%\u001b[0m \u001b[0myhat\u001b[0m\u001b[0;34m[\u001b[0m\u001b[0;36m0\u001b[0m\u001b[0;34m]\u001b[0m\u001b[0;34m)\u001b[0m\u001b[0;34m\u001b[0m\u001b[0;34m\u001b[0m\u001b[0m\n\u001b[1;32m     12\u001b[0m \u001b[0;31m# get the best performing model\u001b[0m\u001b[0;34m\u001b[0m\u001b[0;34m\u001b[0m\u001b[0;34m\u001b[0m\u001b[0m\n",
      "\u001b[0;32m~/opt/miniconda3/envs/aml/lib/python3.8/site-packages/autokeras/tasks/structured_data.py\u001b[0m in \u001b[0;36mpredict\u001b[0;34m(self, x, **kwargs)\u001b[0m\n\u001b[1;32m    157\u001b[0m         \u001b[0mx\u001b[0m \u001b[0;34m=\u001b[0m \u001b[0mself\u001b[0m\u001b[0;34m.\u001b[0m\u001b[0mread_for_predict\u001b[0m\u001b[0;34m(\u001b[0m\u001b[0mx\u001b[0m\u001b[0;34m)\u001b[0m\u001b[0;34m\u001b[0m\u001b[0;34m\u001b[0m\u001b[0m\n\u001b[1;32m    158\u001b[0m \u001b[0;34m\u001b[0m\u001b[0m\n\u001b[0;32m--> 159\u001b[0;31m         \u001b[0;32mreturn\u001b[0m \u001b[0msuper\u001b[0m\u001b[0;34m(\u001b[0m\u001b[0;34m)\u001b[0m\u001b[0;34m.\u001b[0m\u001b[0mpredict\u001b[0m\u001b[0;34m(\u001b[0m\u001b[0mx\u001b[0m\u001b[0;34m=\u001b[0m\u001b[0mx\u001b[0m\u001b[0;34m,\u001b[0m \u001b[0;34m**\u001b[0m\u001b[0mkwargs\u001b[0m\u001b[0;34m)\u001b[0m\u001b[0;34m\u001b[0m\u001b[0;34m\u001b[0m\u001b[0m\n\u001b[0m\u001b[1;32m    160\u001b[0m \u001b[0;34m\u001b[0m\u001b[0m\n\u001b[1;32m    161\u001b[0m     \u001b[0;32mdef\u001b[0m \u001b[0mevaluate\u001b[0m\u001b[0;34m(\u001b[0m\u001b[0mself\u001b[0m\u001b[0;34m,\u001b[0m \u001b[0mx\u001b[0m\u001b[0;34m,\u001b[0m \u001b[0my\u001b[0m\u001b[0;34m=\u001b[0m\u001b[0;32mNone\u001b[0m\u001b[0;34m,\u001b[0m \u001b[0;34m**\u001b[0m\u001b[0mkwargs\u001b[0m\u001b[0;34m)\u001b[0m\u001b[0;34m:\u001b[0m\u001b[0;34m\u001b[0m\u001b[0;34m\u001b[0m\u001b[0m\n",
      "\u001b[0;32m~/opt/miniconda3/envs/aml/lib/python3.8/site-packages/autokeras/auto_model.py\u001b[0m in \u001b[0;36mpredict\u001b[0;34m(self, x, batch_size, verbose, **kwargs)\u001b[0m\n\u001b[1;32m    436\u001b[0m         \u001b[0mdataset\u001b[0m \u001b[0;34m=\u001b[0m \u001b[0mpipeline\u001b[0m\u001b[0;34m.\u001b[0m\u001b[0mtransform_x\u001b[0m\u001b[0;34m(\u001b[0m\u001b[0mdataset\u001b[0m\u001b[0;34m)\u001b[0m\u001b[0;34m\u001b[0m\u001b[0;34m\u001b[0m\u001b[0m\n\u001b[1;32m    437\u001b[0m         \u001b[0mdataset\u001b[0m \u001b[0;34m=\u001b[0m \u001b[0mtf\u001b[0m\u001b[0;34m.\u001b[0m\u001b[0mdata\u001b[0m\u001b[0;34m.\u001b[0m\u001b[0mDataset\u001b[0m\u001b[0;34m.\u001b[0m\u001b[0mzip\u001b[0m\u001b[0;34m(\u001b[0m\u001b[0;34m(\u001b[0m\u001b[0mdataset\u001b[0m\u001b[0;34m,\u001b[0m \u001b[0mdataset\u001b[0m\u001b[0;34m)\u001b[0m\u001b[0;34m)\u001b[0m\u001b[0;34m\u001b[0m\u001b[0;34m\u001b[0m\u001b[0m\n\u001b[0;32m--> 438\u001b[0;31m         \u001b[0my\u001b[0m \u001b[0;34m=\u001b[0m \u001b[0mmodel\u001b[0m\u001b[0;34m.\u001b[0m\u001b[0mpredict\u001b[0m\u001b[0;34m(\u001b[0m\u001b[0mdataset\u001b[0m\u001b[0;34m,\u001b[0m \u001b[0;34m**\u001b[0m\u001b[0mkwargs\u001b[0m\u001b[0;34m)\u001b[0m\u001b[0;34m\u001b[0m\u001b[0;34m\u001b[0m\u001b[0m\n\u001b[0m\u001b[1;32m    439\u001b[0m         y = utils.predict_with_adaptive_batch_size(\n\u001b[1;32m    440\u001b[0m             \u001b[0mmodel\u001b[0m\u001b[0;34m=\u001b[0m\u001b[0mmodel\u001b[0m\u001b[0;34m,\u001b[0m \u001b[0mbatch_size\u001b[0m\u001b[0;34m=\u001b[0m\u001b[0mbatch_size\u001b[0m\u001b[0;34m,\u001b[0m \u001b[0mx\u001b[0m\u001b[0;34m=\u001b[0m\u001b[0mdataset\u001b[0m\u001b[0;34m,\u001b[0m \u001b[0mverbose\u001b[0m\u001b[0;34m=\u001b[0m\u001b[0mverbose\u001b[0m\u001b[0;34m,\u001b[0m \u001b[0;34m**\u001b[0m\u001b[0mkwargs\u001b[0m\u001b[0;34m\u001b[0m\u001b[0;34m\u001b[0m\u001b[0m\n",
      "\u001b[0;32m~/opt/miniconda3/envs/aml/lib/python3.8/site-packages/tensorflow/python/keras/engine/training.py\u001b[0m in \u001b[0;36mpredict\u001b[0;34m(self, x, batch_size, verbose, steps, callbacks, max_queue_size, workers, use_multiprocessing)\u001b[0m\n\u001b[1;32m   1627\u001b[0m           \u001b[0;32mfor\u001b[0m \u001b[0mstep\u001b[0m \u001b[0;32min\u001b[0m \u001b[0mdata_handler\u001b[0m\u001b[0;34m.\u001b[0m\u001b[0msteps\u001b[0m\u001b[0;34m(\u001b[0m\u001b[0;34m)\u001b[0m\u001b[0;34m:\u001b[0m\u001b[0;34m\u001b[0m\u001b[0;34m\u001b[0m\u001b[0m\n\u001b[1;32m   1628\u001b[0m             \u001b[0mcallbacks\u001b[0m\u001b[0;34m.\u001b[0m\u001b[0mon_predict_batch_begin\u001b[0m\u001b[0;34m(\u001b[0m\u001b[0mstep\u001b[0m\u001b[0;34m)\u001b[0m\u001b[0;34m\u001b[0m\u001b[0;34m\u001b[0m\u001b[0m\n\u001b[0;32m-> 1629\u001b[0;31m             \u001b[0mtmp_batch_outputs\u001b[0m \u001b[0;34m=\u001b[0m \u001b[0mself\u001b[0m\u001b[0;34m.\u001b[0m\u001b[0mpredict_function\u001b[0m\u001b[0;34m(\u001b[0m\u001b[0miterator\u001b[0m\u001b[0;34m)\u001b[0m\u001b[0;34m\u001b[0m\u001b[0;34m\u001b[0m\u001b[0m\n\u001b[0m\u001b[1;32m   1630\u001b[0m             \u001b[0;32mif\u001b[0m \u001b[0mdata_handler\u001b[0m\u001b[0;34m.\u001b[0m\u001b[0mshould_sync\u001b[0m\u001b[0;34m:\u001b[0m\u001b[0;34m\u001b[0m\u001b[0;34m\u001b[0m\u001b[0m\n\u001b[1;32m   1631\u001b[0m               \u001b[0mcontext\u001b[0m\u001b[0;34m.\u001b[0m\u001b[0masync_wait\u001b[0m\u001b[0;34m(\u001b[0m\u001b[0;34m)\u001b[0m\u001b[0;34m\u001b[0m\u001b[0;34m\u001b[0m\u001b[0m\n",
      "\u001b[0;32m~/opt/miniconda3/envs/aml/lib/python3.8/site-packages/tensorflow/python/eager/def_function.py\u001b[0m in \u001b[0;36m__call__\u001b[0;34m(self, *args, **kwds)\u001b[0m\n\u001b[1;32m    826\u001b[0m     \u001b[0mtracing_count\u001b[0m \u001b[0;34m=\u001b[0m \u001b[0mself\u001b[0m\u001b[0;34m.\u001b[0m\u001b[0mexperimental_get_tracing_count\u001b[0m\u001b[0;34m(\u001b[0m\u001b[0;34m)\u001b[0m\u001b[0;34m\u001b[0m\u001b[0;34m\u001b[0m\u001b[0m\n\u001b[1;32m    827\u001b[0m     \u001b[0;32mwith\u001b[0m \u001b[0mtrace\u001b[0m\u001b[0;34m.\u001b[0m\u001b[0mTrace\u001b[0m\u001b[0;34m(\u001b[0m\u001b[0mself\u001b[0m\u001b[0;34m.\u001b[0m\u001b[0m_name\u001b[0m\u001b[0;34m)\u001b[0m \u001b[0;32mas\u001b[0m \u001b[0mtm\u001b[0m\u001b[0;34m:\u001b[0m\u001b[0;34m\u001b[0m\u001b[0;34m\u001b[0m\u001b[0m\n\u001b[0;32m--> 828\u001b[0;31m       \u001b[0mresult\u001b[0m \u001b[0;34m=\u001b[0m \u001b[0mself\u001b[0m\u001b[0;34m.\u001b[0m\u001b[0m_call\u001b[0m\u001b[0;34m(\u001b[0m\u001b[0;34m*\u001b[0m\u001b[0margs\u001b[0m\u001b[0;34m,\u001b[0m \u001b[0;34m**\u001b[0m\u001b[0mkwds\u001b[0m\u001b[0;34m)\u001b[0m\u001b[0;34m\u001b[0m\u001b[0;34m\u001b[0m\u001b[0m\n\u001b[0m\u001b[1;32m    829\u001b[0m       \u001b[0mcompiler\u001b[0m \u001b[0;34m=\u001b[0m \u001b[0;34m\"xla\"\u001b[0m \u001b[0;32mif\u001b[0m \u001b[0mself\u001b[0m\u001b[0;34m.\u001b[0m\u001b[0m_experimental_compile\u001b[0m \u001b[0;32melse\u001b[0m \u001b[0;34m\"nonXla\"\u001b[0m\u001b[0;34m\u001b[0m\u001b[0;34m\u001b[0m\u001b[0m\n\u001b[1;32m    830\u001b[0m       \u001b[0mnew_tracing_count\u001b[0m \u001b[0;34m=\u001b[0m \u001b[0mself\u001b[0m\u001b[0;34m.\u001b[0m\u001b[0mexperimental_get_tracing_count\u001b[0m\u001b[0;34m(\u001b[0m\u001b[0;34m)\u001b[0m\u001b[0;34m\u001b[0m\u001b[0;34m\u001b[0m\u001b[0m\n",
      "\u001b[0;32m~/opt/miniconda3/envs/aml/lib/python3.8/site-packages/tensorflow/python/eager/def_function.py\u001b[0m in \u001b[0;36m_call\u001b[0;34m(self, *args, **kwds)\u001b[0m\n\u001b[1;32m    869\u001b[0m       \u001b[0;31m# This is the first call of __call__, so we have to initialize.\u001b[0m\u001b[0;34m\u001b[0m\u001b[0;34m\u001b[0m\u001b[0;34m\u001b[0m\u001b[0m\n\u001b[1;32m    870\u001b[0m       \u001b[0minitializers\u001b[0m \u001b[0;34m=\u001b[0m \u001b[0;34m[\u001b[0m\u001b[0;34m]\u001b[0m\u001b[0;34m\u001b[0m\u001b[0;34m\u001b[0m\u001b[0m\n\u001b[0;32m--> 871\u001b[0;31m       \u001b[0mself\u001b[0m\u001b[0;34m.\u001b[0m\u001b[0m_initialize\u001b[0m\u001b[0;34m(\u001b[0m\u001b[0margs\u001b[0m\u001b[0;34m,\u001b[0m \u001b[0mkwds\u001b[0m\u001b[0;34m,\u001b[0m \u001b[0madd_initializers_to\u001b[0m\u001b[0;34m=\u001b[0m\u001b[0minitializers\u001b[0m\u001b[0;34m)\u001b[0m\u001b[0;34m\u001b[0m\u001b[0;34m\u001b[0m\u001b[0m\n\u001b[0m\u001b[1;32m    872\u001b[0m     \u001b[0;32mfinally\u001b[0m\u001b[0;34m:\u001b[0m\u001b[0;34m\u001b[0m\u001b[0;34m\u001b[0m\u001b[0m\n\u001b[1;32m    873\u001b[0m       \u001b[0;31m# At this point we know that the initialization is complete (or less\u001b[0m\u001b[0;34m\u001b[0m\u001b[0;34m\u001b[0m\u001b[0;34m\u001b[0m\u001b[0m\n",
      "\u001b[0;32m~/opt/miniconda3/envs/aml/lib/python3.8/site-packages/tensorflow/python/eager/def_function.py\u001b[0m in \u001b[0;36m_initialize\u001b[0;34m(self, args, kwds, add_initializers_to)\u001b[0m\n\u001b[1;32m    723\u001b[0m     \u001b[0mself\u001b[0m\u001b[0;34m.\u001b[0m\u001b[0m_graph_deleter\u001b[0m \u001b[0;34m=\u001b[0m \u001b[0mFunctionDeleter\u001b[0m\u001b[0;34m(\u001b[0m\u001b[0mself\u001b[0m\u001b[0;34m.\u001b[0m\u001b[0m_lifted_initializer_graph\u001b[0m\u001b[0;34m)\u001b[0m\u001b[0;34m\u001b[0m\u001b[0;34m\u001b[0m\u001b[0m\n\u001b[1;32m    724\u001b[0m     self._concrete_stateful_fn = (\n\u001b[0;32m--> 725\u001b[0;31m         self._stateful_fn._get_concrete_function_internal_garbage_collected(  # pylint: disable=protected-access\n\u001b[0m\u001b[1;32m    726\u001b[0m             *args, **kwds))\n\u001b[1;32m    727\u001b[0m \u001b[0;34m\u001b[0m\u001b[0m\n",
      "\u001b[0;32m~/opt/miniconda3/envs/aml/lib/python3.8/site-packages/tensorflow/python/eager/function.py\u001b[0m in \u001b[0;36m_get_concrete_function_internal_garbage_collected\u001b[0;34m(self, *args, **kwargs)\u001b[0m\n\u001b[1;32m   2967\u001b[0m       \u001b[0margs\u001b[0m\u001b[0;34m,\u001b[0m \u001b[0mkwargs\u001b[0m \u001b[0;34m=\u001b[0m \u001b[0;32mNone\u001b[0m\u001b[0;34m,\u001b[0m \u001b[0;32mNone\u001b[0m\u001b[0;34m\u001b[0m\u001b[0;34m\u001b[0m\u001b[0m\n\u001b[1;32m   2968\u001b[0m     \u001b[0;32mwith\u001b[0m \u001b[0mself\u001b[0m\u001b[0;34m.\u001b[0m\u001b[0m_lock\u001b[0m\u001b[0;34m:\u001b[0m\u001b[0;34m\u001b[0m\u001b[0;34m\u001b[0m\u001b[0m\n\u001b[0;32m-> 2969\u001b[0;31m       \u001b[0mgraph_function\u001b[0m\u001b[0;34m,\u001b[0m \u001b[0m_\u001b[0m \u001b[0;34m=\u001b[0m \u001b[0mself\u001b[0m\u001b[0;34m.\u001b[0m\u001b[0m_maybe_define_function\u001b[0m\u001b[0;34m(\u001b[0m\u001b[0margs\u001b[0m\u001b[0;34m,\u001b[0m \u001b[0mkwargs\u001b[0m\u001b[0;34m)\u001b[0m\u001b[0;34m\u001b[0m\u001b[0;34m\u001b[0m\u001b[0m\n\u001b[0m\u001b[1;32m   2970\u001b[0m     \u001b[0;32mreturn\u001b[0m \u001b[0mgraph_function\u001b[0m\u001b[0;34m\u001b[0m\u001b[0;34m\u001b[0m\u001b[0m\n\u001b[1;32m   2971\u001b[0m \u001b[0;34m\u001b[0m\u001b[0m\n",
      "\u001b[0;32m~/opt/miniconda3/envs/aml/lib/python3.8/site-packages/tensorflow/python/eager/function.py\u001b[0m in \u001b[0;36m_maybe_define_function\u001b[0;34m(self, args, kwargs)\u001b[0m\n\u001b[1;32m   3359\u001b[0m \u001b[0;34m\u001b[0m\u001b[0m\n\u001b[1;32m   3360\u001b[0m           \u001b[0mself\u001b[0m\u001b[0;34m.\u001b[0m\u001b[0m_function_cache\u001b[0m\u001b[0;34m.\u001b[0m\u001b[0mmissed\u001b[0m\u001b[0;34m.\u001b[0m\u001b[0madd\u001b[0m\u001b[0;34m(\u001b[0m\u001b[0mcall_context_key\u001b[0m\u001b[0;34m)\u001b[0m\u001b[0;34m\u001b[0m\u001b[0;34m\u001b[0m\u001b[0m\n\u001b[0;32m-> 3361\u001b[0;31m           \u001b[0mgraph_function\u001b[0m \u001b[0;34m=\u001b[0m \u001b[0mself\u001b[0m\u001b[0;34m.\u001b[0m\u001b[0m_create_graph_function\u001b[0m\u001b[0;34m(\u001b[0m\u001b[0margs\u001b[0m\u001b[0;34m,\u001b[0m \u001b[0mkwargs\u001b[0m\u001b[0;34m)\u001b[0m\u001b[0;34m\u001b[0m\u001b[0;34m\u001b[0m\u001b[0m\n\u001b[0m\u001b[1;32m   3362\u001b[0m           \u001b[0mself\u001b[0m\u001b[0;34m.\u001b[0m\u001b[0m_function_cache\u001b[0m\u001b[0;34m.\u001b[0m\u001b[0mprimary\u001b[0m\u001b[0;34m[\u001b[0m\u001b[0mcache_key\u001b[0m\u001b[0;34m]\u001b[0m \u001b[0;34m=\u001b[0m \u001b[0mgraph_function\u001b[0m\u001b[0;34m\u001b[0m\u001b[0;34m\u001b[0m\u001b[0m\n\u001b[1;32m   3363\u001b[0m \u001b[0;34m\u001b[0m\u001b[0m\n",
      "\u001b[0;32m~/opt/miniconda3/envs/aml/lib/python3.8/site-packages/tensorflow/python/eager/function.py\u001b[0m in \u001b[0;36m_create_graph_function\u001b[0;34m(self, args, kwargs, override_flat_arg_shapes)\u001b[0m\n\u001b[1;32m   3194\u001b[0m     \u001b[0marg_names\u001b[0m \u001b[0;34m=\u001b[0m \u001b[0mbase_arg_names\u001b[0m \u001b[0;34m+\u001b[0m \u001b[0mmissing_arg_names\u001b[0m\u001b[0;34m\u001b[0m\u001b[0;34m\u001b[0m\u001b[0m\n\u001b[1;32m   3195\u001b[0m     graph_function = ConcreteFunction(\n\u001b[0;32m-> 3196\u001b[0;31m         func_graph_module.func_graph_from_py_func(\n\u001b[0m\u001b[1;32m   3197\u001b[0m             \u001b[0mself\u001b[0m\u001b[0;34m.\u001b[0m\u001b[0m_name\u001b[0m\u001b[0;34m,\u001b[0m\u001b[0;34m\u001b[0m\u001b[0;34m\u001b[0m\u001b[0m\n\u001b[1;32m   3198\u001b[0m             \u001b[0mself\u001b[0m\u001b[0;34m.\u001b[0m\u001b[0m_python_function\u001b[0m\u001b[0;34m,\u001b[0m\u001b[0;34m\u001b[0m\u001b[0;34m\u001b[0m\u001b[0m\n",
      "\u001b[0;32m~/opt/miniconda3/envs/aml/lib/python3.8/site-packages/tensorflow/python/framework/func_graph.py\u001b[0m in \u001b[0;36mfunc_graph_from_py_func\u001b[0;34m(name, python_func, args, kwargs, signature, func_graph, autograph, autograph_options, add_control_dependencies, arg_names, op_return_value, collections, capture_by_value, override_flat_arg_shapes)\u001b[0m\n\u001b[1;32m    988\u001b[0m         \u001b[0m_\u001b[0m\u001b[0;34m,\u001b[0m \u001b[0moriginal_func\u001b[0m \u001b[0;34m=\u001b[0m \u001b[0mtf_decorator\u001b[0m\u001b[0;34m.\u001b[0m\u001b[0munwrap\u001b[0m\u001b[0;34m(\u001b[0m\u001b[0mpython_func\u001b[0m\u001b[0;34m)\u001b[0m\u001b[0;34m\u001b[0m\u001b[0;34m\u001b[0m\u001b[0m\n\u001b[1;32m    989\u001b[0m \u001b[0;34m\u001b[0m\u001b[0m\n\u001b[0;32m--> 990\u001b[0;31m       \u001b[0mfunc_outputs\u001b[0m \u001b[0;34m=\u001b[0m \u001b[0mpython_func\u001b[0m\u001b[0;34m(\u001b[0m\u001b[0;34m*\u001b[0m\u001b[0mfunc_args\u001b[0m\u001b[0;34m,\u001b[0m \u001b[0;34m**\u001b[0m\u001b[0mfunc_kwargs\u001b[0m\u001b[0;34m)\u001b[0m\u001b[0;34m\u001b[0m\u001b[0;34m\u001b[0m\u001b[0m\n\u001b[0m\u001b[1;32m    991\u001b[0m \u001b[0;34m\u001b[0m\u001b[0m\n\u001b[1;32m    992\u001b[0m       \u001b[0;31m# invariant: `func_outputs` contains only Tensors, CompositeTensors,\u001b[0m\u001b[0;34m\u001b[0m\u001b[0;34m\u001b[0m\u001b[0;34m\u001b[0m\u001b[0m\n",
      "\u001b[0;32m~/opt/miniconda3/envs/aml/lib/python3.8/site-packages/tensorflow/python/eager/def_function.py\u001b[0m in \u001b[0;36mwrapped_fn\u001b[0;34m(*args, **kwds)\u001b[0m\n\u001b[1;32m    632\u001b[0m             \u001b[0mxla_context\u001b[0m\u001b[0;34m.\u001b[0m\u001b[0mExit\u001b[0m\u001b[0;34m(\u001b[0m\u001b[0;34m)\u001b[0m\u001b[0;34m\u001b[0m\u001b[0;34m\u001b[0m\u001b[0m\n\u001b[1;32m    633\u001b[0m         \u001b[0;32melse\u001b[0m\u001b[0;34m:\u001b[0m\u001b[0;34m\u001b[0m\u001b[0;34m\u001b[0m\u001b[0m\n\u001b[0;32m--> 634\u001b[0;31m           \u001b[0mout\u001b[0m \u001b[0;34m=\u001b[0m \u001b[0mweak_wrapped_fn\u001b[0m\u001b[0;34m(\u001b[0m\u001b[0;34m)\u001b[0m\u001b[0;34m.\u001b[0m\u001b[0m__wrapped__\u001b[0m\u001b[0;34m(\u001b[0m\u001b[0;34m*\u001b[0m\u001b[0margs\u001b[0m\u001b[0;34m,\u001b[0m \u001b[0;34m**\u001b[0m\u001b[0mkwds\u001b[0m\u001b[0;34m)\u001b[0m\u001b[0;34m\u001b[0m\u001b[0;34m\u001b[0m\u001b[0m\n\u001b[0m\u001b[1;32m    635\u001b[0m         \u001b[0;32mreturn\u001b[0m \u001b[0mout\u001b[0m\u001b[0;34m\u001b[0m\u001b[0;34m\u001b[0m\u001b[0m\n\u001b[1;32m    636\u001b[0m \u001b[0;34m\u001b[0m\u001b[0m\n",
      "\u001b[0;32m~/opt/miniconda3/envs/aml/lib/python3.8/site-packages/tensorflow/python/framework/func_graph.py\u001b[0m in \u001b[0;36mwrapper\u001b[0;34m(*args, **kwargs)\u001b[0m\n\u001b[1;32m    975\u001b[0m           \u001b[0;32mexcept\u001b[0m \u001b[0mException\u001b[0m \u001b[0;32mas\u001b[0m \u001b[0me\u001b[0m\u001b[0;34m:\u001b[0m  \u001b[0;31m# pylint:disable=broad-except\u001b[0m\u001b[0;34m\u001b[0m\u001b[0;34m\u001b[0m\u001b[0m\n\u001b[1;32m    976\u001b[0m             \u001b[0;32mif\u001b[0m \u001b[0mhasattr\u001b[0m\u001b[0;34m(\u001b[0m\u001b[0me\u001b[0m\u001b[0;34m,\u001b[0m \u001b[0;34m\"ag_error_metadata\"\u001b[0m\u001b[0;34m)\u001b[0m\u001b[0;34m:\u001b[0m\u001b[0;34m\u001b[0m\u001b[0;34m\u001b[0m\u001b[0m\n\u001b[0;32m--> 977\u001b[0;31m               \u001b[0;32mraise\u001b[0m \u001b[0me\u001b[0m\u001b[0;34m.\u001b[0m\u001b[0mag_error_metadata\u001b[0m\u001b[0;34m.\u001b[0m\u001b[0mto_exception\u001b[0m\u001b[0;34m(\u001b[0m\u001b[0me\u001b[0m\u001b[0;34m)\u001b[0m\u001b[0;34m\u001b[0m\u001b[0;34m\u001b[0m\u001b[0m\n\u001b[0m\u001b[1;32m    978\u001b[0m             \u001b[0;32melse\u001b[0m\u001b[0;34m:\u001b[0m\u001b[0;34m\u001b[0m\u001b[0;34m\u001b[0m\u001b[0m\n\u001b[1;32m    979\u001b[0m               \u001b[0;32mraise\u001b[0m\u001b[0;34m\u001b[0m\u001b[0;34m\u001b[0m\u001b[0m\n",
      "\u001b[0;31mValueError\u001b[0m: in user code:\n\n    /Users/niallgray/opt/miniconda3/envs/aml/lib/python3.8/site-packages/tensorflow/python/keras/engine/training.py:1478 predict_function  *\n        return step_function(self, iterator)\n    /Users/niallgray/opt/miniconda3/envs/aml/lib/python3.8/site-packages/autokeras/keras_layers.py:90 call  *\n        split_inputs = tf.split(input_nodes, [1] * len(self.encoding), axis=-1)\n    /Users/niallgray/opt/miniconda3/envs/aml/lib/python3.8/site-packages/tensorflow/python/util/dispatch.py:201 wrapper  **\n        return target(*args, **kwargs)\n    /Users/niallgray/opt/miniconda3/envs/aml/lib/python3.8/site-packages/tensorflow/python/ops/array_ops.py:2053 split\n        return gen_array_ops.split_v(\n    /Users/niallgray/opt/miniconda3/envs/aml/lib/python3.8/site-packages/tensorflow/python/ops/gen_array_ops.py:10085 split_v\n        _, _, _op, _outputs = _op_def_library._apply_op_helper(\n    /Users/niallgray/opt/miniconda3/envs/aml/lib/python3.8/site-packages/tensorflow/python/framework/op_def_library.py:748 _apply_op_helper\n        op = g._create_op_internal(op_type_name, inputs, dtypes=None,\n    /Users/niallgray/opt/miniconda3/envs/aml/lib/python3.8/site-packages/tensorflow/python/framework/func_graph.py:590 _create_op_internal\n        return super(FuncGraph, self)._create_op_internal(  # pylint: disable=protected-access\n    /Users/niallgray/opt/miniconda3/envs/aml/lib/python3.8/site-packages/tensorflow/python/framework/ops.py:3528 _create_op_internal\n        ret = Operation(\n    /Users/niallgray/opt/miniconda3/envs/aml/lib/python3.8/site-packages/tensorflow/python/framework/ops.py:2015 __init__\n        self._c_op = _create_c_op(self._graph, node_def, inputs,\n    /Users/niallgray/opt/miniconda3/envs/aml/lib/python3.8/site-packages/tensorflow/python/framework/ops.py:1856 _create_c_op\n        raise ValueError(str(e))\n\n    ValueError: can't split axis of size 1 into pieces of size [1,1,1,1,1,1,1,1,1,1,1,1,1,1,1] for '{{node model/multi_category_encoding/split}} = SplitV[T=DT_FLOAT, Tlen=DT_INT32, num_split=15](model/Cast_1, model/multi_category_encoding/Const, model/multi_category_encoding/split/split_dim)' with input shapes: [?,1], [15], [] and with computed input tensors: input[1] = <1 1 1 1 1 1 1 1 1 1 1 1 1 1 1>, input[2] = <-1>.\n"
     ]
    }
   ],
   "source": [
    "# define the search\n",
    "search = StructuredDataRegressor(max_trials=15, loss='mean_absolute_error')\n",
    "# perform the search\n",
    "search.fit(x=X_train, y=y_train, verbose=0)\n",
    "# evaluate the model\n",
    "mae, _ = search.evaluate(X_test, y_test, verbose=0)\n",
    "print('MAE: %.3f' % mae)\n"
   ]
  },
  {
   "cell_type": "code",
   "execution_count": 44,
   "metadata": {},
   "outputs": [
    {
     "name": "stdout",
     "output_type": "stream",
     "text": [
      "WARNING:tensorflow:6 out of the last 6 calls to <function recreate_function.<locals>.restored_function_body at 0x139d71a60> triggered tf.function retracing. Tracing is expensive and the excessive number of tracings could be due to (1) creating @tf.function repeatedly in a loop, (2) passing tensors with different shapes, (3) passing Python objects instead of tensors. For (1), please define your @tf.function outside of the loop. For (2), @tf.function has experimental_relax_shapes=True option that relaxes argument shapes that can avoid unnecessary retracing. For (3), please refer to https://www.tensorflow.org/guide/function#controlling_retracing and https://www.tensorflow.org/api_docs/python/tf/function for  more details.\n",
      "MAE: 6133.658\n"
     ]
    }
   ],
   "source": [
    "# evaluate the model\n",
    "mae, _ = search.evaluate(X_test, y_test, verbose=0)\n",
    "print('MAE: %.3f' % mae)"
   ]
  },
  {
   "cell_type": "code",
   "execution_count": 49,
   "metadata": {},
   "outputs": [
    {
     "name": "stdout",
     "output_type": "stream",
     "text": [
      "WARNING:tensorflow:8 out of the last 8 calls to <function recreate_function.<locals>.restored_function_body at 0x139d28ca0> triggered tf.function retracing. Tracing is expensive and the excessive number of tracings could be due to (1) creating @tf.function repeatedly in a loop, (2) passing tensors with different shapes, (3) passing Python objects instead of tensors. For (1), please define your @tf.function outside of the loop. For (2), @tf.function has experimental_relax_shapes=True option that relaxes argument shapes that can avoid unnecessary retracing. For (3), please refer to https://www.tensorflow.org/guide/function#controlling_retracing and https://www.tensorflow.org/api_docs/python/tf/function for  more details.\n",
      "Model: \"model\"\n",
      "_________________________________________________________________\n",
      "Layer (type)                 Output Shape              Param #   \n",
      "=================================================================\n",
      "input_1 (InputLayer)         [(None, 15)]              0         \n",
      "_________________________________________________________________\n",
      "multi_category_encoding (Mul (None, 15)                0         \n",
      "_________________________________________________________________\n",
      "normalization (Normalization (None, 15)                31        \n",
      "_________________________________________________________________\n",
      "dense (Dense)                (None, 32)                512       \n",
      "_________________________________________________________________\n",
      "re_lu (ReLU)                 (None, 32)                0         \n",
      "_________________________________________________________________\n",
      "dense_1 (Dense)              (None, 32)                1056      \n",
      "_________________________________________________________________\n",
      "re_lu_1 (ReLU)               (None, 32)                0         \n",
      "_________________________________________________________________\n",
      "regression_head_1 (Dense)    (None, 1)                 33        \n",
      "=================================================================\n",
      "Total params: 1,632\n",
      "Trainable params: 1,601\n",
      "Non-trainable params: 31\n",
      "_________________________________________________________________\n"
     ]
    }
   ],
   "source": [
    "# get the best performing model\n",
    "model = search.export_model()\n",
    "# summarize the loaded model\n",
    "model.summary()"
   ]
  },
  {
   "cell_type": "code",
   "execution_count": 48,
   "metadata": {},
   "outputs": [
    {
     "name": "stdout",
     "output_type": "stream",
     "text": [
      "INFO:tensorflow:Assets written to: model_NNReg_Autokeras.tf/assets\n"
     ]
    }
   ],
   "source": [
    "# save the best performing model to file\n",
    "model.save('model_NNReg_Autokeras.tf', save_format='tf')"
   ]
  },
  {
   "cell_type": "markdown",
   "metadata": {},
   "source": [
    "## Run algo on test data and make output files"
   ]
  },
  {
   "cell_type": "code",
   "execution_count": 58,
   "metadata": {},
   "outputs": [],
   "source": [
    "autokeras_predictions = model.predict(transformed_X_test_15)[:,0]"
   ]
  },
  {
   "cell_type": "code",
   "execution_count": 61,
   "metadata": {},
   "outputs": [],
   "source": [
    "out_df_AK=pandas.DataFrame(autokeras_predictions)"
   ]
  },
  {
   "cell_type": "code",
   "execution_count": 62,
   "metadata": {},
   "outputs": [],
   "source": [
    "out_df_AK.to_csv('solutions/Regression_NiallGray_AutoKeras.txt',header=False)"
   ]
  },
  {
   "cell_type": "code",
   "execution_count": null,
   "metadata": {},
   "outputs": [],
   "source": [
    "#features_df_new.feature_name.to_csv('solutions/Regression_NiallGray_AutoKeras_VariableList.txt',index=False, header=False)"
   ]
  },
  {
   "cell_type": "markdown",
   "metadata": {},
   "source": [
    "### Get the used feature list"
   ]
  },
  {
   "cell_type": "code",
   "execution_count": 66,
   "metadata": {},
   "outputs": [],
   "source": [
    "feature_list=pandas.DataFrame(features_df_new.columns)"
   ]
  },
  {
   "cell_type": "code",
   "execution_count": 68,
   "metadata": {},
   "outputs": [],
   "source": [
    "feature_list.to_csv('solutions/Regression_NiallGray_AutoKeras_VariableList.txt',index=False, header=False)"
   ]
  },
  {
   "cell_type": "code",
   "execution_count": null,
   "metadata": {},
   "outputs": [],
   "source": []
  }
 ],
 "metadata": {
  "kernelspec": {
   "display_name": "AML",
   "language": "python",
   "name": "aml"
  },
  "language_info": {
   "codemirror_mode": {
    "name": "ipython",
    "version": 3
   },
   "file_extension": ".py",
   "mimetype": "text/x-python",
   "name": "python",
   "nbconvert_exporter": "python",
   "pygments_lexer": "ipython3",
   "version": "3.8.8"
  },
  "toc": {
   "base_numbering": 1,
   "nav_menu": {},
   "number_sections": false,
   "sideBar": true,
   "skip_h1_title": false,
   "title_cell": "Table of Contents",
   "title_sidebar": "Contents",
   "toc_cell": false,
   "toc_position": {},
   "toc_section_display": true,
   "toc_window_display": false
  },
  "varInspector": {
   "cols": {
    "lenName": 16,
    "lenType": 16,
    "lenVar": 40
   },
   "kernels_config": {
    "python": {
     "delete_cmd_postfix": "",
     "delete_cmd_prefix": "del ",
     "library": "var_list.py",
     "varRefreshCmd": "print(var_dic_list())"
    },
    "r": {
     "delete_cmd_postfix": ") ",
     "delete_cmd_prefix": "rm(",
     "library": "var_list.r",
     "varRefreshCmd": "cat(var_dic_list()) "
    }
   },
   "types_to_exclude": [
    "module",
    "function",
    "builtin_function_or_method",
    "instance",
    "_Feature"
   ],
   "window_display": false
  }
 },
 "nbformat": 4,
 "nbformat_minor": 4
}
